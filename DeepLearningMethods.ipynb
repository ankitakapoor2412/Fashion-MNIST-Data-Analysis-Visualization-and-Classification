{
  "nbformat": 4,
  "nbformat_minor": 0,
  "metadata": {
    "colab": {
      "name": "A3_Part2.ipynb",
      "provenance": [],
      "collapsed_sections": [],
      "machine_shape": "hm"
    },
    "kernelspec": {
      "name": "python3",
      "display_name": "Python 3"
    },
    "accelerator": "GPU"
  },
  "cells": [
    {
      "cell_type": "markdown",
      "metadata": {
        "id": "AeUngpvr2Hb_",
        "colab_type": "text"
      },
      "source": [
        "# Import Libraries"
      ]
    },
    {
      "cell_type": "code",
      "metadata": {
        "id": "yUffWfQv2Kmg",
        "colab_type": "code",
        "colab": {}
      },
      "source": [
        "import numpy as np\n",
        "import pandas as pd\n",
        "\n",
        "# Preprocessing and evaluation metrics\n",
        "\n",
        "from sklearn.preprocessing import Normalizer, scale, MinMaxScaler\n",
        "from sklearn.model_selection import train_test_split, cross_val_score\n",
        "from sklearn.metrics import  confusion_matrix, classification_report\n",
        "from sklearn.metrics import accuracy_score , precision_score, recall_score, f1_score  \n",
        "from sklearn.metrics import mean_squared_log_error, mean_squared_error, mean_absolute_error \n",
        "\n",
        "# Deep Learning libraries\n",
        "\n",
        "import tensorflow as tf\n",
        "from tensorflow.keras.models import Sequential, Model\n",
        "from tensorflow.keras import layers\n",
        "from tensorflow.keras import models\n",
        "from tensorflow.keras import callbacks\n",
        "from tensorflow.keras.models import Sequential, Model\n",
        "from tensorflow.keras.layers import Input, Dense, Dropout, Flatten, Conv2D, MaxPool2D\n",
        "from tensorflow.keras.layers import UpSampling2D, BatchNormalization, GlobalAveragePooling2D\n",
        "from tensorflow.keras.optimizers import Adam, SGD, Adagrad, Adadelta, RMSprop\n",
        "from tensorflow.keras.utils import  to_categorical\n",
        "from tensorflow.keras.callbacks import ReduceLROnPlateau, LearningRateScheduler, EarlyStopping\n",
        "from tensorflow.keras.losses import mean_squared_error, categorical_crossentropy, cosine_similarity\n",
        "from tensorflow.keras.regularizers import l1, l2\n",
        "\n",
        "# For Transfer Learning\n",
        "from keras.applications.resnet_v2 import ResNet50V2\n",
        "from keras.applications.xception import Xception\n",
        "from keras.applications.vgg16 import VGG16\n",
        "from keras.preprocessing import image\n",
        "from keras.preprocessing.image import img_to_array, array_to_img\n",
        "from keras.layers.advanced_activations import LeakyReLU\n",
        "\n",
        "# Visualisation\n",
        "\n",
        "import matplotlib.pyplot as plt\n",
        "import seaborn as sns\n"
      ],
      "execution_count": null,
      "outputs": []
    },
    {
      "cell_type": "markdown",
      "metadata": {
        "id": "W-vw4ewS4AXk",
        "colab_type": "text"
      },
      "source": [
        "# Load Dataset"
      ]
    },
    {
      "cell_type": "code",
      "metadata": {
        "id": "l5WfrI1I3q21",
        "colab_type": "code",
        "colab": {
          "base_uri": "https://localhost:8080/",
          "height": 67
        },
        "outputId": "58c3da46-9072-456d-f89c-c80c8b78c61d"
      },
      "source": [
        "# Load Full Dataset\n",
        "\n",
        "train = pd.read_csv('drive/My Drive/ECE657A/train.csv')\n",
        "test = pd.read_csv('drive/My Drive/ECE657A/testX.csv')\n",
        "df_train = train.copy()\n",
        "df_test = test.copy()\n",
        "\n",
        "# Seperate ID numbers and target features from dataset\n",
        "\n",
        "X = df_train.iloc[:, 2:]\n",
        "y = df_train['Label']\n",
        "\n",
        "df_test1 = df_test.iloc[:, 1:]\n",
        "\n",
        "print(X.shape)\n",
        "print(y.shape)\n",
        "print(df_test1.shape)"
      ],
      "execution_count": null,
      "outputs": [
        {
          "output_type": "stream",
          "text": [
            "(60000, 784)\n",
            "(60000,)\n",
            "(10000, 784)\n"
          ],
          "name": "stdout"
        }
      ]
    },
    {
      "cell_type": "markdown",
      "metadata": {
        "id": "7Wg7xBOwLzhR",
        "colab_type": "text"
      },
      "source": [
        "# Data Preprocessing"
      ]
    },
    {
      "cell_type": "markdown",
      "metadata": {
        "id": "SPnAiHDSqVjR",
        "colab_type": "text"
      },
      "source": [
        "## Change Image Input Channels for Loading into Pre-Trained Models"
      ]
    },
    {
      "cell_type": "code",
      "metadata": {
        "id": "heXDls8EqaWx",
        "colab_type": "code",
        "colab": {
          "base_uri": "https://localhost:8080/",
          "height": 50
        },
        "outputId": "9bc81845-dbb5-4759-ed81-cd70d8b2145f"
      },
      "source": [
        "# Change number of input channels in dataset\n",
        "X = np.dstack([X] * 3)\n",
        "df_test1 = np.dstack([df_test1] * 3)\n",
        "\n",
        "print(X.shape)\n",
        "print(df_test1.shape)"
      ],
      "execution_count": null,
      "outputs": [
        {
          "output_type": "stream",
          "text": [
            "(60000, 784, 3)\n",
            "(10000, 784, 3)\n"
          ],
          "name": "stdout"
        }
      ]
    },
    {
      "cell_type": "markdown",
      "metadata": {
        "id": "FtYCroNFMjrj",
        "colab_type": "text"
      },
      "source": [
        "## Reshape the Images\n",
        "\n",
        "* Reshape 1D image vectors into 28X28X1 3D matrices before feeding them to a CNN\n",
        "* Keras wants an extra dimension in end for grayscale images"
      ]
    },
    {
      "cell_type": "code",
      "metadata": {
        "id": "yz2zpd5DJr37",
        "colab_type": "code",
        "colab": {
          "base_uri": "https://localhost:8080/",
          "height": 50
        },
        "outputId": "28da617c-4b1e-468a-f58d-7c7b9b70f94a"
      },
      "source": [
        "# For Built Models\n",
        "X = X.values.reshape((-1, 28, 28, 1))\n",
        "df_test2 = df_test1.values.reshape((-1, 28, 28, 1))\n",
        "\n",
        "print(X.shape)\n",
        "print(df_test2.shape)"
      ],
      "execution_count": null,
      "outputs": [
        {
          "output_type": "stream",
          "text": [
            "(60000, 28, 28, 1)\n",
            "(10000, 28, 28, 1)\n"
          ],
          "name": "stdout"
        }
      ]
    },
    {
      "cell_type": "code",
      "metadata": {
        "id": "0rltu5z2MZJv",
        "colab_type": "code",
        "colab": {
          "base_uri": "https://localhost:8080/",
          "height": 50
        },
        "outputId": "6cf93488-8fe6-4dd3-b332-165b3fcf1ffc"
      },
      "source": [
        "# For Pretrained Models\n",
        "X = X.reshape((-1, 28, 28, 3))\n",
        "df_test2 = df_test1.reshape((-1, 28, 28, 3))\n",
        "\n",
        "print(X.shape)\n",
        "print(df_test2.shape)"
      ],
      "execution_count": null,
      "outputs": [
        {
          "output_type": "stream",
          "text": [
            "(60000, 28, 28, 3)\n",
            "(10000, 28, 28, 3)\n"
          ],
          "name": "stdout"
        }
      ]
    },
    {
      "cell_type": "markdown",
      "metadata": {
        "id": "67W_47AEN95C",
        "colab_type": "text"
      },
      "source": [
        "## Normalize the dataset\n",
        "\n",
        "* Data samples need to be scaled down to [0,1] in order for Optimization Algorithms to work much faster. Here, we also acheive Zero Mean and Unit Variance.\n",
        "\n",
        "* Normalization is carried out as follows: \n",
        "> x = (x - min) / (max - min) ; Here min= 0 and max= 255"
      ]
    },
    {
      "cell_type": "code",
      "metadata": {
        "id": "Hp-FsDBnNyI1",
        "colab_type": "code",
        "colab": {}
      },
      "source": [
        "X = X.astype(\"float32\")/255\n",
        "\n",
        "df_test2 = df_test2.astype(\"float32\")/255"
      ],
      "execution_count": null,
      "outputs": []
    },
    {
      "cell_type": "markdown",
      "metadata": {
        "id": "pFZbV3nWpcPQ",
        "colab_type": "text"
      },
      "source": [
        "## Resize the images width and height"
      ]
    },
    {
      "cell_type": "code",
      "metadata": {
        "trusted": true,
        "id": "pT9MOTsppcPQ",
        "colab_type": "code",
        "colab": {
          "base_uri": "https://localhost:8080/",
          "height": 50
        },
        "outputId": "f84c06c9-4b0c-45ed-ca41-2ce7612ddf20"
      },
      "source": [
        "X = np.asarray([img_to_array(array_to_img(im, scale=False).resize((71,71))) for im in X])\n",
        "df_test2 = np.asarray([img_to_array(array_to_img(im, scale=False).resize((71,71))) for im in df_test2])\n",
        "\n",
        "# Display the new shape\n",
        "\n",
        "print(X.shape)\n",
        "print(df_test2.shape)"
      ],
      "execution_count": null,
      "outputs": [
        {
          "output_type": "stream",
          "text": [
            "(60000, 71, 71, 3)\n",
            "(10000, 71, 71, 3)\n"
          ],
          "name": "stdout"
        }
      ]
    },
    {
      "cell_type": "markdown",
      "metadata": {
        "id": "skXHmibMCcG0",
        "colab_type": "text"
      },
      "source": [
        "## One Hot encoding of target variables"
      ]
    },
    {
      "cell_type": "code",
      "metadata": {
        "id": "J5m0eguiNzU-",
        "colab_type": "code",
        "colab": {
          "base_uri": "https://localhost:8080/",
          "height": 34
        },
        "outputId": "d83eaf37-0e1b-4417-bc05-1396afc633ba"
      },
      "source": [
        "# Convert Target variables into one hot encoded targets\n",
        "\n",
        "y = df_train['Label']\n",
        "y = to_categorical(y, num_classes=5)\n",
        "print(y.shape)\n",
        "\n"
      ],
      "execution_count": null,
      "outputs": [
        {
          "output_type": "stream",
          "text": [
            "(60000, 5)\n"
          ],
          "name": "stdout"
        }
      ]
    },
    {
      "cell_type": "markdown",
      "metadata": {
        "id": "V6rUBHepMEL9",
        "colab_type": "text"
      },
      "source": [
        "## Split Train Dataset to Train and Validation set"
      ]
    },
    {
      "cell_type": "code",
      "metadata": {
        "id": "0for7hgiJ1uK",
        "colab_type": "code",
        "colab": {
          "base_uri": "https://localhost:8080/",
          "height": 84
        },
        "outputId": "aac6d8c7-04dd-4dee-b290-c3e4def5b4e0"
      },
      "source": [
        "#For Conventional CNN and \n",
        "x_train, x_val, y_train, y_val = train_test_split(X, y, test_size = 0.2, random_state= 42)\n",
        "print(x_train.shape)\n",
        "print(y_train.shape)\n",
        "print(x_val.shape)\n",
        "print(y_val.shape)"
      ],
      "execution_count": null,
      "outputs": [
        {
          "output_type": "stream",
          "text": [
            "(48000, 28, 28, 1)\n",
            "(48000, 5)\n",
            "(12000, 28, 28, 1)\n",
            "(12000, 5)\n"
          ],
          "name": "stdout"
        }
      ]
    },
    {
      "cell_type": "code",
      "metadata": {
        "id": "_Pafelv7J1oh",
        "colab_type": "code",
        "colab": {
          "base_uri": "https://localhost:8080/",
          "height": 84
        },
        "outputId": "c0f994c0-b760-4b0f-8b32-1f07f62b69dd"
      },
      "source": [
        "#For Autoencoders\n",
        "AE_x_train, AE_x_val, g_train, g_val = train_test_split(X, X, test_size = 0.2, random_state= 42)\n",
        "print(AE_x_train.shape)\n",
        "print(g_train.shape)\n",
        "print(AE_x_val.shape)\n",
        "print(g_val.shape)"
      ],
      "execution_count": null,
      "outputs": [
        {
          "output_type": "stream",
          "text": [
            "(48000, 28, 28, 1)\n",
            "(48000, 28, 28, 1)\n",
            "(12000, 28, 28, 1)\n",
            "(12000, 28, 28, 1)\n"
          ],
          "name": "stdout"
        }
      ]
    },
    {
      "cell_type": "code",
      "metadata": {
        "id": "vHrFzYhuMIX5",
        "colab_type": "code",
        "colab": {
          "base_uri": "https://localhost:8080/",
          "height": 84
        },
        "outputId": "aa88878d-2e07-4495-ae73-9d2803374ab5"
      },
      "source": [
        "# For Pre Trained Models\n",
        "tr_x_train, tr_x_val, tr_y_train, tr_y_val = train_test_split(X, y, test_size = 0.2, random_state= 42)\n",
        "\n",
        "print(tr_x_train.shape)\n",
        "print(tr_y_train.shape)\n",
        "print(tr_x_val.shape)\n",
        "print(tr_y_val.shape)"
      ],
      "execution_count": null,
      "outputs": [
        {
          "output_type": "stream",
          "text": [
            "(48000, 71, 71, 3)\n",
            "(48000, 5)\n",
            "(12000, 71, 71, 3)\n",
            "(12000, 5)\n"
          ],
          "name": "stdout"
        }
      ]
    },
    {
      "cell_type": "markdown",
      "metadata": {
        "id": "7uzRrGIeSxNu",
        "colab_type": "text"
      },
      "source": [
        "# Conventional Convolutional Neural Network"
      ]
    },
    {
      "cell_type": "markdown",
      "metadata": {
        "id": "D16yRmjOTFyE",
        "colab_type": "text"
      },
      "source": [
        "## Building a CNN"
      ]
    },
    {
      "cell_type": "code",
      "metadata": {
        "id": "wSP5mNs5SWwd",
        "colab_type": "code",
        "colab": {}
      },
      "source": [
        "# Build a ConvNet\n",
        "\n",
        "cnn_model = tf.keras.Sequential()\n",
        "\n",
        "cnn_model.add(Conv2D(filters = 32, kernel_size=(3, 3), strides= 1, padding='same', \n",
        "                 data_format='channels_last', activation='relu', input_shape= (28,28,1) ))\n",
        "cnn_model.add(BatchNormalization())\n",
        "\n",
        "cnn_model.add(Conv2D(filters = 32, kernel_size=(3, 3), strides= 1, padding='same', \n",
        "                 data_format='channels_last', activation='relu'))\n",
        "cnn_model.add(BatchNormalization())\n",
        "\n",
        "cnn_model.add(MaxPool2D(pool_size=(2, 2)))\n",
        "cnn_model.add(Dropout(0.25))\n",
        "\n",
        "\n",
        "cnn_model.add(Conv2D(filters=64, kernel_size=(3, 3), activation='relu', strides=1, \n",
        "                 padding='same', data_format='channels_last'))\n",
        "cnn_model.add(BatchNormalization())\n",
        "\n",
        "cnn_model.add(Conv2D(filters = 64, kernel_size=(3, 3), strides= 1, padding='same', \n",
        "                 data_format='channels_last', activation='relu' ))\n",
        "cnn_model.add(BatchNormalization())\n",
        "\n",
        "cnn_model.add(MaxPool2D(pool_size=(2, 2)))\n",
        "cnn_model.add(Dropout(0.25))\n",
        "\n",
        "\n",
        "cnn_model.add(Conv2D(filters=128, kernel_size=(3, 3), activation='relu', strides=1, \n",
        "                 padding='same', data_format='channels_last'))\n",
        "cnn_model.add(BatchNormalization())\n",
        "\n",
        "cnn_model.add(Conv2D(filters=128, kernel_size=(3, 3), activation='relu', strides=1, \n",
        "                 padding='same', data_format='channels_last'))\n",
        "cnn_model.add(BatchNormalization())\n",
        "\n",
        "cnn_model.add(MaxPool2D(pool_size=(2, 2)))\n",
        "cnn_model.add(Dropout(0.3))\n",
        "\n",
        "\n",
        "cnn_model.add(Flatten())\n",
        "\n",
        "cnn_model.add(Dense(512, activation='relu'))\n",
        "cnn_model.add(BatchNormalization())\n",
        "cnn_model.add(Dropout(0.5))\n",
        "\n",
        "# cnn_model.add(Dense(256, activation='relu'))\n",
        "# cnn_model.add(BatchNormalization())\n",
        "# cnn_model.add(Dropout(0.5))\n",
        "\n",
        "cnn_model.add(Dense(128, activation='relu'))\n",
        "cnn_model.add(BatchNormalization())\n",
        "cnn_model.add(Dropout(0.5))\n",
        "\n",
        "cnn_model.add(Dense(5, activation='softmax'))\n"
      ],
      "execution_count": null,
      "outputs": []
    },
    {
      "cell_type": "markdown",
      "metadata": {
        "id": "nCBFPPEAXTm8",
        "colab_type": "text"
      },
      "source": [
        "## Compile the CNN model"
      ]
    },
    {
      "cell_type": "code",
      "metadata": {
        "id": "SBEUZ2PnTAiN",
        "colab_type": "code",
        "colab": {
          "base_uri": "https://localhost:8080/",
          "height": 1000
        },
        "outputId": "af95a1fc-47dc-4f1d-ed8a-bee8cf647392"
      },
      "source": [
        "# Optimizer\n",
        "optimizer = Adam(lr=0.001, beta_1=0.9, beta_2=0.999 )\n",
        "\n",
        "# Compile\n",
        "cnn_model.compile(optimizer=optimizer, loss=\"categorical_crossentropy\", metrics=[\"accuracy\"])\n",
        "\n",
        "cnn_model.summary()"
      ],
      "execution_count": null,
      "outputs": [
        {
          "output_type": "stream",
          "text": [
            "Model: \"sequential\"\n",
            "_________________________________________________________________\n",
            "Layer (type)                 Output Shape              Param #   \n",
            "=================================================================\n",
            "conv2d (Conv2D)              (None, 28, 28, 32)        320       \n",
            "_________________________________________________________________\n",
            "batch_normalization (BatchNo (None, 28, 28, 32)        128       \n",
            "_________________________________________________________________\n",
            "conv2d_1 (Conv2D)            (None, 28, 28, 32)        9248      \n",
            "_________________________________________________________________\n",
            "batch_normalization_1 (Batch (None, 28, 28, 32)        128       \n",
            "_________________________________________________________________\n",
            "max_pooling2d (MaxPooling2D) (None, 14, 14, 32)        0         \n",
            "_________________________________________________________________\n",
            "dropout (Dropout)            (None, 14, 14, 32)        0         \n",
            "_________________________________________________________________\n",
            "conv2d_2 (Conv2D)            (None, 14, 14, 64)        18496     \n",
            "_________________________________________________________________\n",
            "batch_normalization_2 (Batch (None, 14, 14, 64)        256       \n",
            "_________________________________________________________________\n",
            "conv2d_3 (Conv2D)            (None, 14, 14, 64)        36928     \n",
            "_________________________________________________________________\n",
            "batch_normalization_3 (Batch (None, 14, 14, 64)        256       \n",
            "_________________________________________________________________\n",
            "max_pooling2d_1 (MaxPooling2 (None, 7, 7, 64)          0         \n",
            "_________________________________________________________________\n",
            "dropout_1 (Dropout)          (None, 7, 7, 64)          0         \n",
            "_________________________________________________________________\n",
            "conv2d_4 (Conv2D)            (None, 7, 7, 128)         73856     \n",
            "_________________________________________________________________\n",
            "batch_normalization_4 (Batch (None, 7, 7, 128)         512       \n",
            "_________________________________________________________________\n",
            "conv2d_5 (Conv2D)            (None, 7, 7, 128)         147584    \n",
            "_________________________________________________________________\n",
            "batch_normalization_5 (Batch (None, 7, 7, 128)         512       \n",
            "_________________________________________________________________\n",
            "max_pooling2d_2 (MaxPooling2 (None, 3, 3, 128)         0         \n",
            "_________________________________________________________________\n",
            "dropout_2 (Dropout)          (None, 3, 3, 128)         0         \n",
            "_________________________________________________________________\n",
            "flatten (Flatten)            (None, 1152)              0         \n",
            "_________________________________________________________________\n",
            "dense (Dense)                (None, 512)               590336    \n",
            "_________________________________________________________________\n",
            "batch_normalization_6 (Batch (None, 512)               2048      \n",
            "_________________________________________________________________\n",
            "dropout_3 (Dropout)          (None, 512)               0         \n",
            "_________________________________________________________________\n",
            "dense_1 (Dense)              (None, 128)               65664     \n",
            "_________________________________________________________________\n",
            "batch_normalization_7 (Batch (None, 128)               512       \n",
            "_________________________________________________________________\n",
            "dropout_4 (Dropout)          (None, 128)               0         \n",
            "_________________________________________________________________\n",
            "dense_2 (Dense)              (None, 5)                 645       \n",
            "=================================================================\n",
            "Total params: 947,429\n",
            "Trainable params: 945,253\n",
            "Non-trainable params: 2,176\n",
            "_________________________________________________________________\n"
          ],
          "name": "stdout"
        }
      ]
    },
    {
      "cell_type": "markdown",
      "metadata": {
        "id": "45gQE5pMtvtj",
        "colab_type": "text"
      },
      "source": [
        "## Fit the model"
      ]
    },
    {
      "cell_type": "code",
      "metadata": {
        "id": "0Xy7-9AVXm2y",
        "colab_type": "code",
        "colab": {
          "base_uri": "https://localhost:8080/",
          "height": 1000
        },
        "outputId": "3f806e82-f279-439d-d3d5-62394ff676bc"
      },
      "source": [
        "batches = 128\n",
        "epoch = 50\n",
        "lr = LearningRateScheduler(lambda x: 1e-3 * 0.9 ** x)\n",
        "\n",
        "model_fitting = cnn_model.fit(x_train, y_train, batch_size = batches, epochs = epoch, validation_data = (x_val, y_val), \n",
        "                          verbose=1, steps_per_epoch=x_train.shape[0] // batches, callbacks = [lr])"
      ],
      "execution_count": null,
      "outputs": [
        {
          "output_type": "stream",
          "text": [
            "Epoch 1/50\n",
            "375/375 [==============================] - 5s 12ms/step - loss: 0.7982 - accuracy: 0.6886 - val_loss: 1.4563 - val_accuracy: 0.4172 - lr: 0.0010\n",
            "Epoch 2/50\n",
            "375/375 [==============================] - 4s 11ms/step - loss: 0.5205 - accuracy: 0.7908 - val_loss: 0.3995 - val_accuracy: 0.8362 - lr: 9.0000e-04\n",
            "Epoch 3/50\n",
            "375/375 [==============================] - 4s 11ms/step - loss: 0.4616 - accuracy: 0.8145 - val_loss: 0.3892 - val_accuracy: 0.8407 - lr: 8.1000e-04\n",
            "Epoch 4/50\n",
            "375/375 [==============================] - 4s 11ms/step - loss: 0.4278 - accuracy: 0.8313 - val_loss: 0.3539 - val_accuracy: 0.8560 - lr: 7.2900e-04\n",
            "Epoch 5/50\n",
            "375/375 [==============================] - 4s 11ms/step - loss: 0.4043 - accuracy: 0.8410 - val_loss: 0.3377 - val_accuracy: 0.8618 - lr: 6.5610e-04\n",
            "Epoch 6/50\n",
            "375/375 [==============================] - 4s 12ms/step - loss: 0.3842 - accuracy: 0.8470 - val_loss: 0.3665 - val_accuracy: 0.8476 - lr: 5.9049e-04\n",
            "Epoch 7/50\n",
            "375/375 [==============================] - 4s 11ms/step - loss: 0.3689 - accuracy: 0.8532 - val_loss: 0.4620 - val_accuracy: 0.8101 - lr: 5.3144e-04\n",
            "Epoch 8/50\n",
            "375/375 [==============================] - 4s 12ms/step - loss: 0.3559 - accuracy: 0.8602 - val_loss: 0.4414 - val_accuracy: 0.8226 - lr: 4.7830e-04\n",
            "Epoch 9/50\n",
            "375/375 [==============================] - 4s 11ms/step - loss: 0.3492 - accuracy: 0.8620 - val_loss: 0.3260 - val_accuracy: 0.8643 - lr: 4.3047e-04\n",
            "Epoch 10/50\n",
            "375/375 [==============================] - 4s 12ms/step - loss: 0.3349 - accuracy: 0.8671 - val_loss: 0.2782 - val_accuracy: 0.8878 - lr: 3.8742e-04\n",
            "Epoch 11/50\n",
            "375/375 [==============================] - 4s 11ms/step - loss: 0.3194 - accuracy: 0.8744 - val_loss: 0.2660 - val_accuracy: 0.8929 - lr: 3.4868e-04\n",
            "Epoch 12/50\n",
            "375/375 [==============================] - 4s 11ms/step - loss: 0.3085 - accuracy: 0.8769 - val_loss: 0.3517 - val_accuracy: 0.8566 - lr: 3.1381e-04\n",
            "Epoch 13/50\n",
            "375/375 [==============================] - 4s 11ms/step - loss: 0.3065 - accuracy: 0.8790 - val_loss: 0.3419 - val_accuracy: 0.8615 - lr: 2.8243e-04\n",
            "Epoch 14/50\n",
            "375/375 [==============================] - 4s 12ms/step - loss: 0.2924 - accuracy: 0.8856 - val_loss: 0.4566 - val_accuracy: 0.8219 - lr: 2.5419e-04\n",
            "Epoch 15/50\n",
            "375/375 [==============================] - 4s 11ms/step - loss: 0.2854 - accuracy: 0.8877 - val_loss: 0.4150 - val_accuracy: 0.8399 - lr: 2.2877e-04\n",
            "Epoch 16/50\n",
            "375/375 [==============================] - 4s 11ms/step - loss: 0.2784 - accuracy: 0.8917 - val_loss: 0.2898 - val_accuracy: 0.8773 - lr: 2.0589e-04\n",
            "Epoch 17/50\n",
            "375/375 [==============================] - 4s 12ms/step - loss: 0.2684 - accuracy: 0.8939 - val_loss: 0.2533 - val_accuracy: 0.8971 - lr: 1.8530e-04\n",
            "Epoch 18/50\n",
            "375/375 [==============================] - 5s 12ms/step - loss: 0.2638 - accuracy: 0.8969 - val_loss: 0.2627 - val_accuracy: 0.8956 - lr: 1.6677e-04\n",
            "Epoch 19/50\n",
            "375/375 [==============================] - 4s 11ms/step - loss: 0.2574 - accuracy: 0.8997 - val_loss: 0.2609 - val_accuracy: 0.8958 - lr: 1.5009e-04\n",
            "Epoch 20/50\n",
            "375/375 [==============================] - 4s 11ms/step - loss: 0.2560 - accuracy: 0.8992 - val_loss: 0.4028 - val_accuracy: 0.8459 - lr: 1.3509e-04\n",
            "Epoch 21/50\n",
            "375/375 [==============================] - 4s 12ms/step - loss: 0.2501 - accuracy: 0.9019 - val_loss: 0.3036 - val_accuracy: 0.8781 - lr: 1.2158e-04\n",
            "Epoch 22/50\n",
            "375/375 [==============================] - 4s 11ms/step - loss: 0.2400 - accuracy: 0.9064 - val_loss: 0.2445 - val_accuracy: 0.9026 - lr: 1.0942e-04\n",
            "Epoch 23/50\n",
            "375/375 [==============================] - 4s 11ms/step - loss: 0.2416 - accuracy: 0.9054 - val_loss: 0.2373 - val_accuracy: 0.9067 - lr: 9.8477e-05\n",
            "Epoch 24/50\n",
            "375/375 [==============================] - 4s 11ms/step - loss: 0.2396 - accuracy: 0.9071 - val_loss: 0.2341 - val_accuracy: 0.9060 - lr: 8.8629e-05\n",
            "Epoch 25/50\n",
            "375/375 [==============================] - 4s 11ms/step - loss: 0.2266 - accuracy: 0.9111 - val_loss: 0.2360 - val_accuracy: 0.9067 - lr: 7.9766e-05\n",
            "Epoch 26/50\n",
            "375/375 [==============================] - 4s 11ms/step - loss: 0.2284 - accuracy: 0.9100 - val_loss: 0.2294 - val_accuracy: 0.9085 - lr: 7.1790e-05\n",
            "Epoch 27/50\n",
            "375/375 [==============================] - 4s 11ms/step - loss: 0.2221 - accuracy: 0.9133 - val_loss: 0.2311 - val_accuracy: 0.9065 - lr: 6.4611e-05\n",
            "Epoch 28/50\n",
            "375/375 [==============================] - 4s 11ms/step - loss: 0.2235 - accuracy: 0.9125 - val_loss: 0.2366 - val_accuracy: 0.9062 - lr: 5.8150e-05\n",
            "Epoch 29/50\n",
            "375/375 [==============================] - 4s 11ms/step - loss: 0.2259 - accuracy: 0.9118 - val_loss: 0.2229 - val_accuracy: 0.9120 - lr: 5.2335e-05\n",
            "Epoch 30/50\n",
            "375/375 [==============================] - 4s 11ms/step - loss: 0.2188 - accuracy: 0.9153 - val_loss: 0.2234 - val_accuracy: 0.9137 - lr: 4.7101e-05\n",
            "Epoch 31/50\n",
            "375/375 [==============================] - 4s 11ms/step - loss: 0.2193 - accuracy: 0.9146 - val_loss: 0.2382 - val_accuracy: 0.9068 - lr: 4.2391e-05\n",
            "Epoch 32/50\n",
            "375/375 [==============================] - 4s 11ms/step - loss: 0.2154 - accuracy: 0.9161 - val_loss: 0.2244 - val_accuracy: 0.9107 - lr: 3.8152e-05\n",
            "Epoch 33/50\n",
            "375/375 [==============================] - 4s 11ms/step - loss: 0.2161 - accuracy: 0.9161 - val_loss: 0.2361 - val_accuracy: 0.9074 - lr: 3.4337e-05\n",
            "Epoch 34/50\n",
            "375/375 [==============================] - 4s 11ms/step - loss: 0.2147 - accuracy: 0.9161 - val_loss: 0.2228 - val_accuracy: 0.9118 - lr: 3.0903e-05\n",
            "Epoch 35/50\n",
            "375/375 [==============================] - 4s 11ms/step - loss: 0.2075 - accuracy: 0.9204 - val_loss: 0.2197 - val_accuracy: 0.9134 - lr: 2.7813e-05\n",
            "Epoch 36/50\n",
            "375/375 [==============================] - 4s 12ms/step - loss: 0.2066 - accuracy: 0.9209 - val_loss: 0.2250 - val_accuracy: 0.9112 - lr: 2.5032e-05\n",
            "Epoch 37/50\n",
            "375/375 [==============================] - 4s 11ms/step - loss: 0.2055 - accuracy: 0.9204 - val_loss: 0.2237 - val_accuracy: 0.9114 - lr: 2.2528e-05\n",
            "Epoch 38/50\n",
            "375/375 [==============================] - 4s 12ms/step - loss: 0.2035 - accuracy: 0.9217 - val_loss: 0.2224 - val_accuracy: 0.9115 - lr: 2.0276e-05\n",
            "Epoch 39/50\n",
            "375/375 [==============================] - 4s 11ms/step - loss: 0.2074 - accuracy: 0.9195 - val_loss: 0.2195 - val_accuracy: 0.9122 - lr: 1.8248e-05\n",
            "Epoch 40/50\n",
            "375/375 [==============================] - 4s 12ms/step - loss: 0.2026 - accuracy: 0.9204 - val_loss: 0.2214 - val_accuracy: 0.9133 - lr: 1.6423e-05\n",
            "Epoch 41/50\n",
            "375/375 [==============================] - 4s 12ms/step - loss: 0.2085 - accuracy: 0.9192 - val_loss: 0.2258 - val_accuracy: 0.9122 - lr: 1.4781e-05\n",
            "Epoch 42/50\n",
            "375/375 [==============================] - 4s 12ms/step - loss: 0.2048 - accuracy: 0.9207 - val_loss: 0.2307 - val_accuracy: 0.9101 - lr: 1.3303e-05\n",
            "Epoch 43/50\n",
            "375/375 [==============================] - 4s 11ms/step - loss: 0.2021 - accuracy: 0.9209 - val_loss: 0.2292 - val_accuracy: 0.9102 - lr: 1.1973e-05\n",
            "Epoch 44/50\n",
            "375/375 [==============================] - 4s 11ms/step - loss: 0.2004 - accuracy: 0.9219 - val_loss: 0.2217 - val_accuracy: 0.9131 - lr: 1.0775e-05\n",
            "Epoch 45/50\n",
            "375/375 [==============================] - 4s 12ms/step - loss: 0.1974 - accuracy: 0.9232 - val_loss: 0.2297 - val_accuracy: 0.9103 - lr: 9.6977e-06\n",
            "Epoch 46/50\n",
            "375/375 [==============================] - 4s 12ms/step - loss: 0.2035 - accuracy: 0.9215 - val_loss: 0.2411 - val_accuracy: 0.9061 - lr: 8.7280e-06\n",
            "Epoch 47/50\n",
            "375/375 [==============================] - 4s 12ms/step - loss: 0.2011 - accuracy: 0.9218 - val_loss: 0.2238 - val_accuracy: 0.9127 - lr: 7.8552e-06\n",
            "Epoch 48/50\n",
            "375/375 [==============================] - 4s 12ms/step - loss: 0.1994 - accuracy: 0.9224 - val_loss: 0.2272 - val_accuracy: 0.9119 - lr: 7.0697e-06\n",
            "Epoch 49/50\n",
            "375/375 [==============================] - 4s 12ms/step - loss: 0.1987 - accuracy: 0.9217 - val_loss: 0.2255 - val_accuracy: 0.9126 - lr: 6.3627e-06\n",
            "Epoch 50/50\n",
            "375/375 [==============================] - 4s 12ms/step - loss: 0.1990 - accuracy: 0.9228 - val_loss: 0.2262 - val_accuracy: 0.9116 - lr: 5.7264e-06\n"
          ],
          "name": "stdout"
        }
      ]
    },
    {
      "cell_type": "markdown",
      "metadata": {
        "id": "B_yeCBWqbI_N",
        "colab_type": "text"
      },
      "source": [
        "## Plots\n",
        "\n"
      ]
    },
    {
      "cell_type": "code",
      "metadata": {
        "id": "CWaqg52EaM62",
        "colab_type": "code",
        "colab": {
          "base_uri": "https://localhost:8080/",
          "height": 714
        },
        "outputId": "bea28a56-3a7c-4414-9e3f-8c9f3d81b0b0"
      },
      "source": [
        "accuracy = model_fitting.history['accuracy']\n",
        "val_accuracy = model_fitting.history['val_accuracy']\n",
        "\n",
        "loss = model_fitting.history['loss']\n",
        "val_loss = model_fitting.history['val_loss']\n",
        "\n",
        "epochs = range(len(accuracy))\n",
        "\n",
        "#########\n",
        "plt.figure(figsize=(12, 5))\n",
        "plt.plot(epochs, loss, 'b-', label='Training loss')\n",
        "plt.plot(epochs, val_loss, 'r-', label='Validation loss')\n",
        "plt.title('Training and Validation Loss VS Epochs', fontsize=15)\n",
        "plt.xlabel('Epochs', fontsize=15)\n",
        "plt.ylabel('Loss', fontsize=15)\n",
        "plt.legend()\n",
        "\n",
        "#########\n",
        "plt.figure(figsize=(12, 5))\n",
        "plt.plot(epochs, accuracy, 'b-', label='Training accuracy')\n",
        "plt.plot(epochs, val_accuracy, 'r-', label='Validation accuracy')\n",
        "plt.title('Training and Validation Accuracy VS Epochs', fontsize=15)\n",
        "plt.xlabel('Epochs', fontsize=15)\n",
        "plt.ylabel('Accuracy', fontsize=15)\n",
        "plt.legend()\n",
        "\n"
      ],
      "execution_count": null,
      "outputs": [
        {
          "output_type": "execute_result",
          "data": {
            "text/plain": [
              "<matplotlib.legend.Legend at 0x7f15a6704ba8>"
            ]
          },
          "metadata": {
            "tags": []
          },
          "execution_count": 90
        },
        {
          "output_type": "display_data",
          "data": {
            "image/png": "[encoded data removed]",
            "text/plain": [
              "<Figure size 864x360 with 1 Axes>"
            ]
          },
          "metadata": {
            "tags": [],
            "needs_background": "light"
          }
        },
        {
          "output_type": "display_data",
          "data": {
            "image/png": "[encoded data removed]",
            "text/plain": [
              "<Figure size 864x360 with 1 Axes>"
            ]
          },
          "metadata": {
            "tags": [],
            "needs_background": "light"
          }
        }
      ]
    },
    {
      "cell_type": "markdown",
      "metadata": {
        "id": "U4C2Dj2jbyq1",
        "colab_type": "text"
      },
      "source": [
        "## Generate predictions on test dataset"
      ]
    },
    {
      "cell_type": "code",
      "metadata": {
        "id": "cu1lBzZzmpeI",
        "colab_type": "code",
        "colab": {
          "base_uri": "https://localhost:8080/",
          "height": 50
        },
        "outputId": "0e48705d-8ff0-4193-dae1-797d4061d35c"
      },
      "source": [
        "# Generate predictions \n",
        "\n",
        "predictions = model.predict(df_test2)\n",
        "print('predictions shape:', predictions.shape)\n",
        "\n",
        "# COnvert predictions classes to integer vectors\n",
        "preds = np.argmax(predictions, axis=1)\n",
        "print(preds)\n"
      ],
      "execution_count": null,
      "outputs": [
        {
          "output_type": "stream",
          "text": [
            "predictions shape: (10000, 5)\n",
            "[3 4 1 ... 3 2 2]\n"
          ],
          "name": "stdout"
        }
      ]
    },
    {
      "cell_type": "markdown",
      "metadata": {
        "id": "x1z3knDucMcr",
        "colab_type": "text"
      },
      "source": [
        "## Create submissions for Kaggle"
      ]
    },
    {
      "cell_type": "code",
      "metadata": {
        "id": "q7xRz6MZcFeb",
        "colab_type": "code",
        "colab": {}
      },
      "source": [
        "subm1 = pd.DataFrame(test.iloc[:,0])\n",
        "subm1 = subm1.join(pd.DataFrame(data = preds, columns =['Label']))\n",
        "subm1.to_csv('drive/My Drive/ECE657A/outs/cnn/vers1_final.csv', index=False)"
      ],
      "execution_count": null,
      "outputs": []
    },
    {
      "cell_type": "markdown",
      "metadata": {
        "id": "xNZLoY_7dEEt",
        "colab_type": "text"
      },
      "source": [
        "# Convolutional AutoEncoder"
      ]
    },
    {
      "cell_type": "markdown",
      "metadata": {
        "id": "BeNEMZMLuPyg",
        "colab_type": "text"
      },
      "source": [
        "## Parameters"
      ]
    },
    {
      "cell_type": "code",
      "metadata": {
        "id": "MoV0t14quO5u",
        "colab_type": "code",
        "colab": {}
      },
      "source": [
        "inChannel = 1\n",
        "a, b = 28, 28\n",
        "input_img = Input(shape = (a, b, inChannel))\n",
        "num_classes = 5"
      ],
      "execution_count": null,
      "outputs": []
    },
    {
      "cell_type": "markdown",
      "metadata": {
        "id": "DgEsG8sHtsCW",
        "colab_type": "text"
      },
      "source": [
        "## Encoder & Decoder"
      ]
    },
    {
      "cell_type": "code",
      "metadata": {
        "colab_type": "code",
        "id": "ulQ8BiEQdsOK",
        "colab": {}
      },
      "source": [
        "def encoder(input_img):\n",
        "\n",
        "    #encoder\n",
        "    #input layer = 28 x 28 x 1 (wide and thin)\n",
        "\n",
        "    # First CONV block\n",
        "    conv1 = Conv2D(filters = 32, kernel_size=(3, 3), strides= 1, padding='same', \n",
        "                 data_format='channels_last', activation='relu')(input_img) #28 x 28 x 32\n",
        "    bn1 = BatchNormalization()(conv1)\n",
        "    conv1 = Conv2D(filters = 32, kernel_size=(3, 3), strides= 1, padding='same', \n",
        "                 data_format='channels_last', activation='relu')(bn1) #28 x 28 x 32\n",
        "    bn1 = BatchNormalization()(conv1)\n",
        "    pool1 = MaxPool2D(pool_size=(2, 2))(bn1) #14 x 14 x 32\n",
        "\n",
        "\n",
        "    # Second CONV block\n",
        "    conv2 = Conv2D(filters=64, kernel_size=(3, 3), activation='relu', strides=1, \n",
        "                 padding='same', data_format='channels_last')(pool1) #14 x 14 x 64\n",
        "    bn2 = BatchNormalization()(conv2)\n",
        "    conv2 = Conv2D(filters=64, kernel_size=(3, 3), activation='relu', strides=1, \n",
        "                 padding='same', data_format='channels_last')(bn2) #14 x 14 x 64\n",
        "    bn2 = BatchNormalization()(conv2)\n",
        "    pool2 = MaxPool2D(pool_size=(2, 2))(bn2) #7 x 7 x 64\n",
        "    drop1 = Dropout(0.25)(pool2)\n",
        "\n",
        "\n",
        "    # Third CONV block\n",
        "    conv3 = Conv2D(filters=128, kernel_size=(3, 3), activation='relu', strides=1, \n",
        "                 padding='same', data_format='channels_last')(drop1) #7 x 7 x 128 (small and thick)\n",
        "    bn3 = BatchNormalization()(conv3)\n",
        "    conv3 = Conv2D(filters=128, kernel_size=(3, 3), activation='relu', strides=1, \n",
        "                 padding='same', data_format='channels_last')(bn3) #7 x 7 x 128 (small and thick)\n",
        "    bn3 = BatchNormalization()(conv3)\n",
        "    # pool3 = MaxPool2D(pool_size=(2, 2))(bn3)\n",
        "    drop2 = Dropout(0.25)(bn3)\n",
        "\n",
        "     \n",
        "\n",
        "    return drop2\n",
        "\n",
        "def decoder(encoded):    \n",
        "    #decoder\n",
        "\n",
        "    # First CONV block\n",
        "    conv1 = Conv2D(filters=128, kernel_size=(3, 3), activation='relu', strides=1, \n",
        "                 padding='same', data_format='channels_last')(encoded) #7 x 7 x 128\n",
        "    bn1 = BatchNormalization()(conv1)\n",
        "    conv1 = Conv2D(filters=128, kernel_size=(3, 3), activation='relu', strides=1, \n",
        "                 padding='same', data_format='channels_last')(bn1) #7 x 7 x 128\n",
        "    bn1 = BatchNormalization()(conv1)\n",
        "    up1 = UpSampling2D((2,2))(bn1)\n",
        "\n",
        "    # Second CONV block\n",
        "    conv2 = Conv2D(filters=64, kernel_size=(3, 3), activation='relu', strides=1, \n",
        "                 padding='same', data_format='channels_last')(up1)\n",
        "    bn2 = BatchNormalization()(conv2)\n",
        "    conv2 = Conv2D(filters=64, kernel_size=(3, 3), activation='relu', strides=1, \n",
        "                 padding='same', data_format='channels_last')(bn2)\n",
        "    bn2 = BatchNormalization()(conv2)\n",
        "    up2 = UpSampling2D((2,2))(bn2) #14 x 14 x 64\n",
        "\n",
        "    # Third CONV block\n",
        "    conv3 = Conv2D(filters = 32, kernel_size=(3, 3), padding='same', \n",
        "                 data_format='channels_last', activation='relu')(up2)\n",
        "    bn3 = BatchNormalization()(conv3)\n",
        "    conv3 = Conv2D(filters = 32, kernel_size=(3, 3), padding='same', \n",
        "                 data_format='channels_last', activation='relu')(bn3)\n",
        "    bn3 = BatchNormalization()(conv3)\n",
        "    # up3 = UpSampling2D((2,2))(bn3) # 28 x 28 x 32\n",
        "    \n",
        "    decoded = Conv2D(1, (3, 3), activation='sigmoid', padding='same')(bn3) # 28 x 28 x 1\n",
        "\n",
        "    return decoded"
      ],
      "execution_count": null,
      "outputs": []
    },
    {
      "cell_type": "markdown",
      "metadata": {
        "id": "efS-EUXEv9bF",
        "colab_type": "text"
      },
      "source": [
        "## Compile the model"
      ]
    },
    {
      "cell_type": "code",
      "metadata": {
        "id": "Kf5CtCzNv9Ao",
        "colab_type": "code",
        "colab": {
          "base_uri": "https://localhost:8080/",
          "height": 1000
        },
        "outputId": "659ca21e-2a31-48e6-cc4e-b69680716c0b"
      },
      "source": [
        "autoencoder = Model(input_img, decoder(encoder(input_img)))\n",
        "\n",
        "autoencoder.compile(loss='mean_squared_error', optimizer = RMSprop())\n",
        "\n",
        "autoencoder.summary()\n"
      ],
      "execution_count": null,
      "outputs": [
        {
          "output_type": "stream",
          "text": [
            "Model: \"model\"\n",
            "_________________________________________________________________\n",
            "Layer (type)                 Output Shape              Param #   \n",
            "=================================================================\n",
            "input_4 (InputLayer)         [(None, 28, 28, 1)]       0         \n",
            "_________________________________________________________________\n",
            "conv2d_6 (Conv2D)            (None, 28, 28, 32)        320       \n",
            "_________________________________________________________________\n",
            "batch_normalization_8 (Batch (None, 28, 28, 32)        128       \n",
            "_________________________________________________________________\n",
            "conv2d_7 (Conv2D)            (None, 28, 28, 32)        9248      \n",
            "_________________________________________________________________\n",
            "batch_normalization_9 (Batch (None, 28, 28, 32)        128       \n",
            "_________________________________________________________________\n",
            "max_pooling2d_3 (MaxPooling2 (None, 14, 14, 32)        0         \n",
            "_________________________________________________________________\n",
            "conv2d_8 (Conv2D)            (None, 14, 14, 64)        18496     \n",
            "_________________________________________________________________\n",
            "batch_normalization_10 (Batc (None, 14, 14, 64)        256       \n",
            "_________________________________________________________________\n",
            "conv2d_9 (Conv2D)            (None, 14, 14, 64)        36928     \n",
            "_________________________________________________________________\n",
            "batch_normalization_11 (Batc (None, 14, 14, 64)        256       \n",
            "_________________________________________________________________\n",
            "max_pooling2d_4 (MaxPooling2 (None, 7, 7, 64)          0         \n",
            "_________________________________________________________________\n",
            "dropout_10 (Dropout)         (None, 7, 7, 64)          0         \n",
            "_________________________________________________________________\n",
            "conv2d_10 (Conv2D)           (None, 7, 7, 128)         73856     \n",
            "_________________________________________________________________\n",
            "batch_normalization_12 (Batc (None, 7, 7, 128)         512       \n",
            "_________________________________________________________________\n",
            "conv2d_11 (Conv2D)           (None, 7, 7, 128)         147584    \n",
            "_________________________________________________________________\n",
            "batch_normalization_13 (Batc (None, 7, 7, 128)         512       \n",
            "_________________________________________________________________\n",
            "dropout_11 (Dropout)         (None, 7, 7, 128)         0         \n",
            "_________________________________________________________________\n",
            "conv2d_12 (Conv2D)           (None, 7, 7, 128)         147584    \n",
            "_________________________________________________________________\n",
            "batch_normalization_14 (Batc (None, 7, 7, 128)         512       \n",
            "_________________________________________________________________\n",
            "conv2d_13 (Conv2D)           (None, 7, 7, 128)         147584    \n",
            "_________________________________________________________________\n",
            "batch_normalization_15 (Batc (None, 7, 7, 128)         512       \n",
            "_________________________________________________________________\n",
            "up_sampling2d (UpSampling2D) (None, 14, 14, 128)       0         \n",
            "_________________________________________________________________\n",
            "conv2d_14 (Conv2D)           (None, 14, 14, 64)        73792     \n",
            "_________________________________________________________________\n",
            "batch_normalization_16 (Batc (None, 14, 14, 64)        256       \n",
            "_________________________________________________________________\n",
            "conv2d_15 (Conv2D)           (None, 14, 14, 64)        36928     \n",
            "_________________________________________________________________\n",
            "batch_normalization_17 (Batc (None, 14, 14, 64)        256       \n",
            "_________________________________________________________________\n",
            "up_sampling2d_1 (UpSampling2 (None, 28, 28, 64)        0         \n",
            "_________________________________________________________________\n",
            "conv2d_16 (Conv2D)           (None, 28, 28, 32)        18464     \n",
            "_________________________________________________________________\n",
            "batch_normalization_18 (Batc (None, 28, 28, 32)        128       \n",
            "_________________________________________________________________\n",
            "conv2d_17 (Conv2D)           (None, 28, 28, 32)        9248      \n",
            "_________________________________________________________________\n",
            "batch_normalization_19 (Batc (None, 28, 28, 32)        128       \n",
            "_________________________________________________________________\n",
            "conv2d_18 (Conv2D)           (None, 28, 28, 1)         289       \n",
            "=================================================================\n",
            "Total params: 723,905\n",
            "Trainable params: 722,113\n",
            "Non-trainable params: 1,792\n",
            "_________________________________________________________________\n"
          ],
          "name": "stdout"
        }
      ]
    },
    {
      "cell_type": "markdown",
      "metadata": {
        "id": "D7883mqagPf3",
        "colab_type": "text"
      },
      "source": [
        "## Train the model\n"
      ]
    },
    {
      "cell_type": "code",
      "metadata": {
        "id": "lekE6yscfoiE",
        "colab_type": "code",
        "colab": {
          "base_uri": "https://localhost:8080/",
          "height": 1000
        },
        "outputId": "4e409ec2-c32b-4f58-8bf9-d5d910b37873"
      },
      "source": [
        "batches = 128\n",
        "epoch = 100\n",
        "\n",
        "\n",
        "# Train autoencoder\n",
        "autoencoder_train = autoencoder.fit(AE_x_train, g_train, batch_size= batches, epochs=epoch, verbose=1, validation_data=(AE_x_val, g_val))\n"
      ],
      "execution_count": null,
      "outputs": [
        {
          "output_type": "stream",
          "text": [
            "Epoch 1/100\n",
            "375/375 [==============================] - 9s 24ms/step - loss: 0.0222 - val_loss: 0.0143\n",
            "Epoch 2/100\n",
            "375/375 [==============================] - 8s 23ms/step - loss: 0.0092 - val_loss: 0.0077\n",
            "Epoch 3/100\n",
            "375/375 [==============================] - 9s 23ms/step - loss: 0.0070 - val_loss: 0.0050\n",
            "Epoch 4/100\n",
            "375/375 [==============================] - 9s 23ms/step - loss: 0.0059 - val_loss: 0.0050\n",
            "Epoch 5/100\n",
            "375/375 [==============================] - 9s 23ms/step - loss: 0.0052 - val_loss: 0.0041\n",
            "Epoch 6/100\n",
            "375/375 [==============================] - 9s 23ms/step - loss: 0.0047 - val_loss: 0.0043\n",
            "Epoch 7/100\n",
            "375/375 [==============================] - 9s 23ms/step - loss: 0.0045 - val_loss: 0.0038\n",
            "Epoch 8/100\n",
            "375/375 [==============================] - 9s 23ms/step - loss: 0.0041 - val_loss: 0.0030\n",
            "Epoch 9/100\n",
            "375/375 [==============================] - 9s 23ms/step - loss: 0.0039 - val_loss: 0.0033\n",
            "Epoch 10/100\n",
            "375/375 [==============================] - 9s 23ms/step - loss: 0.0038 - val_loss: 0.0042\n",
            "Epoch 11/100\n",
            "375/375 [==============================] - 9s 23ms/step - loss: 0.0036 - val_loss: 0.0026\n",
            "Epoch 12/100\n",
            "375/375 [==============================] - 8s 23ms/step - loss: 0.0034 - val_loss: 0.0036\n",
            "Epoch 13/100\n",
            "375/375 [==============================] - 8s 23ms/step - loss: 0.0034 - val_loss: 0.0026\n",
            "Epoch 14/100\n",
            "375/375 [==============================] - 9s 23ms/step - loss: 0.0032 - val_loss: 0.0024\n",
            "Epoch 15/100\n",
            "375/375 [==============================] - 8s 23ms/step - loss: 0.0032 - val_loss: 0.0023\n",
            "Epoch 16/100\n",
            "375/375 [==============================] - 9s 23ms/step - loss: 0.0031 - val_loss: 0.0024\n",
            "Epoch 17/100\n",
            "375/375 [==============================] - 8s 23ms/step - loss: 0.0030 - val_loss: 0.0023\n",
            "Epoch 18/100\n",
            "375/375 [==============================] - 9s 23ms/step - loss: 0.0029 - val_loss: 0.0019\n",
            "Epoch 19/100\n",
            "375/375 [==============================] - 9s 23ms/step - loss: 0.0029 - val_loss: 0.0029\n",
            "Epoch 20/100\n",
            "375/375 [==============================] - 9s 23ms/step - loss: 0.0028 - val_loss: 0.0021\n",
            "Epoch 21/100\n",
            "375/375 [==============================] - 9s 23ms/step - loss: 0.0028 - val_loss: 0.0022\n",
            "Epoch 22/100\n",
            "375/375 [==============================] - 8s 23ms/step - loss: 0.0028 - val_loss: 0.0020\n",
            "Epoch 23/100\n",
            "375/375 [==============================] - 9s 23ms/step - loss: 0.0027 - val_loss: 0.0019\n",
            "Epoch 24/100\n",
            "375/375 [==============================] - 9s 23ms/step - loss: 0.0026 - val_loss: 0.0020\n",
            "Epoch 25/100\n",
            "375/375 [==============================] - 9s 23ms/step - loss: 0.0026 - val_loss: 0.0021\n",
            "Epoch 26/100\n",
            "375/375 [==============================] - 9s 23ms/step - loss: 0.0026 - val_loss: 0.0017\n",
            "Epoch 27/100\n",
            "375/375 [==============================] - 8s 23ms/step - loss: 0.0025 - val_loss: 0.0022\n",
            "Epoch 28/100\n",
            "375/375 [==============================] - 9s 23ms/step - loss: 0.0025 - val_loss: 0.0016\n",
            "Epoch 29/100\n",
            "375/375 [==============================] - 9s 23ms/step - loss: 0.0025 - val_loss: 0.0022\n",
            "Epoch 30/100\n",
            "375/375 [==============================] - 8s 23ms/step - loss: 0.0024 - val_loss: 0.0018\n",
            "Epoch 31/100\n",
            "375/375 [==============================] - 9s 23ms/step - loss: 0.0024 - val_loss: 0.0022\n",
            "Epoch 32/100\n",
            "375/375 [==============================] - 9s 23ms/step - loss: 0.0023 - val_loss: 0.0026\n",
            "Epoch 33/100\n",
            "375/375 [==============================] - 8s 23ms/step - loss: 0.0023 - val_loss: 0.0016\n",
            "Epoch 34/100\n",
            "375/375 [==============================] - 9s 23ms/step - loss: 0.0023 - val_loss: 0.0022\n",
            "Epoch 35/100\n",
            "375/375 [==============================] - 8s 23ms/step - loss: 0.0023 - val_loss: 0.0018\n",
            "Epoch 36/100\n",
            "375/375 [==============================] - 9s 23ms/step - loss: 0.0022 - val_loss: 0.0017\n",
            "Epoch 37/100\n",
            "375/375 [==============================] - 9s 23ms/step - loss: 0.0022 - val_loss: 0.0016\n",
            "Epoch 38/100\n",
            "375/375 [==============================] - 9s 23ms/step - loss: 0.0022 - val_loss: 0.0015\n",
            "Epoch 39/100\n",
            "375/375 [==============================] - 8s 23ms/step - loss: 0.0022 - val_loss: 0.0014\n",
            "Epoch 40/100\n",
            "375/375 [==============================] - 8s 23ms/step - loss: 0.0022 - val_loss: 0.0015\n",
            "Epoch 41/100\n",
            "375/375 [==============================] - 8s 23ms/step - loss: 0.0022 - val_loss: 0.0017\n",
            "Epoch 42/100\n",
            "375/375 [==============================] - 9s 23ms/step - loss: 0.0022 - val_loss: 0.0020\n",
            "Epoch 43/100\n",
            "375/375 [==============================] - 9s 23ms/step - loss: 0.0022 - val_loss: 0.0014\n",
            "Epoch 44/100\n",
            "375/375 [==============================] - 9s 23ms/step - loss: 0.0021 - val_loss: 0.0019\n",
            "Epoch 45/100\n",
            "375/375 [==============================] - 8s 23ms/step - loss: 0.0021 - val_loss: 0.0014\n",
            "Epoch 46/100\n",
            "375/375 [==============================] - 8s 23ms/step - loss: 0.0021 - val_loss: 0.0016\n",
            "Epoch 47/100\n",
            "375/375 [==============================] - 8s 23ms/step - loss: 0.0021 - val_loss: 0.0013\n",
            "Epoch 48/100\n",
            "375/375 [==============================] - 9s 23ms/step - loss: 0.0021 - val_loss: 0.0013\n",
            "Epoch 49/100\n",
            "375/375 [==============================] - 8s 23ms/step - loss: 0.0021 - val_loss: 0.0014\n",
            "Epoch 50/100\n",
            "375/375 [==============================] - 8s 23ms/step - loss: 0.0020 - val_loss: 0.0014\n",
            "Epoch 51/100\n",
            "375/375 [==============================] - 9s 23ms/step - loss: 0.0020 - val_loss: 0.0014\n",
            "Epoch 52/100\n",
            "375/375 [==============================] - 9s 23ms/step - loss: 0.0020 - val_loss: 0.0020\n",
            "Epoch 53/100\n",
            "375/375 [==============================] - 9s 23ms/step - loss: 0.0020 - val_loss: 0.0014\n",
            "Epoch 54/100\n",
            "375/375 [==============================] - 9s 23ms/step - loss: 0.0020 - val_loss: 0.0015\n",
            "Epoch 55/100\n",
            "375/375 [==============================] - 9s 23ms/step - loss: 0.0020 - val_loss: 0.0015\n",
            "Epoch 56/100\n",
            "375/375 [==============================] - 9s 23ms/step - loss: 0.0020 - val_loss: 0.0013\n",
            "Epoch 57/100\n",
            "375/375 [==============================] - 9s 23ms/step - loss: 0.0020 - val_loss: 0.0013\n",
            "Epoch 58/100\n",
            "375/375 [==============================] - 9s 23ms/step - loss: 0.0020 - val_loss: 0.0015\n",
            "Epoch 59/100\n",
            "375/375 [==============================] - 9s 23ms/step - loss: 0.0019 - val_loss: 0.0014\n",
            "Epoch 60/100\n",
            "375/375 [==============================] - 9s 23ms/step - loss: 0.0019 - val_loss: 0.0013\n",
            "Epoch 61/100\n",
            "375/375 [==============================] - 9s 23ms/step - loss: 0.0019 - val_loss: 0.0013\n",
            "Epoch 62/100\n",
            "375/375 [==============================] - 9s 23ms/step - loss: 0.0019 - val_loss: 0.0016\n",
            "Epoch 63/100\n",
            "375/375 [==============================] - 9s 23ms/step - loss: 0.0019 - val_loss: 0.0012\n",
            "Epoch 64/100\n",
            "375/375 [==============================] - 9s 23ms/step - loss: 0.0019 - val_loss: 0.0013\n",
            "Epoch 65/100\n",
            "375/375 [==============================] - 9s 23ms/step - loss: 0.0019 - val_loss: 0.0012\n",
            "Epoch 66/100\n",
            "375/375 [==============================] - 9s 23ms/step - loss: 0.0019 - val_loss: 0.0013\n",
            "Epoch 67/100\n",
            "375/375 [==============================] - 8s 23ms/step - loss: 0.0019 - val_loss: 0.0012\n",
            "Epoch 68/100\n",
            "375/375 [==============================] - 8s 23ms/step - loss: 0.0019 - val_loss: 0.0016\n",
            "Epoch 69/100\n",
            "375/375 [==============================] - 9s 23ms/step - loss: 0.0019 - val_loss: 0.0012\n",
            "Epoch 70/100\n",
            "375/375 [==============================] - 8s 23ms/step - loss: 0.0018 - val_loss: 0.0012\n",
            "Epoch 71/100\n",
            "375/375 [==============================] - 8s 23ms/step - loss: 0.0019 - val_loss: 0.0011\n",
            "Epoch 72/100\n",
            "375/375 [==============================] - 8s 23ms/step - loss: 0.0018 - val_loss: 0.0012\n",
            "Epoch 73/100\n",
            "375/375 [==============================] - 8s 23ms/step - loss: 0.0018 - val_loss: 0.0013\n",
            "Epoch 74/100\n",
            "375/375 [==============================] - 8s 23ms/step - loss: 0.0018 - val_loss: 0.0013\n",
            "Epoch 75/100\n",
            "375/375 [==============================] - 8s 23ms/step - loss: 0.0018 - val_loss: 0.0012\n",
            "Epoch 76/100\n",
            "375/375 [==============================] - 8s 23ms/step - loss: 0.0018 - val_loss: 0.0012\n",
            "Epoch 77/100\n",
            "375/375 [==============================] - 9s 23ms/step - loss: 0.0018 - val_loss: 0.0012\n",
            "Epoch 78/100\n",
            "375/375 [==============================] - 8s 23ms/step - loss: 0.0018 - val_loss: 0.0012\n",
            "Epoch 79/100\n",
            "375/375 [==============================] - 9s 23ms/step - loss: 0.0018 - val_loss: 0.0012\n",
            "Epoch 80/100\n",
            "375/375 [==============================] - 8s 23ms/step - loss: 0.0018 - val_loss: 0.0011\n",
            "Epoch 81/100\n",
            "375/375 [==============================] - 8s 23ms/step - loss: 0.0018 - val_loss: 0.0013\n",
            "Epoch 82/100\n",
            "375/375 [==============================] - 8s 23ms/step - loss: 0.0018 - val_loss: 0.0011\n",
            "Epoch 83/100\n",
            "375/375 [==============================] - 8s 23ms/step - loss: 0.0018 - val_loss: 0.0011\n",
            "Epoch 84/100\n",
            "375/375 [==============================] - 9s 23ms/step - loss: 0.0018 - val_loss: 0.0013\n",
            "Epoch 85/100\n",
            "375/375 [==============================] - 8s 23ms/step - loss: 0.0018 - val_loss: 0.0011\n",
            "Epoch 86/100\n",
            "375/375 [==============================] - 8s 23ms/step - loss: 0.0017 - val_loss: 0.0017\n",
            "Epoch 87/100\n",
            "375/375 [==============================] - 8s 23ms/step - loss: 0.0017 - val_loss: 0.0011\n",
            "Epoch 88/100\n",
            "375/375 [==============================] - 8s 23ms/step - loss: 0.0017 - val_loss: 0.0011\n",
            "Epoch 89/100\n",
            "375/375 [==============================] - 8s 23ms/step - loss: 0.0017 - val_loss: 0.0012\n",
            "Epoch 90/100\n",
            "375/375 [==============================] - 8s 23ms/step - loss: 0.0017 - val_loss: 0.0013\n",
            "Epoch 91/100\n",
            "375/375 [==============================] - 8s 23ms/step - loss: 0.0017 - val_loss: 0.0017\n",
            "Epoch 92/100\n",
            "375/375 [==============================] - 9s 23ms/step - loss: 0.0017 - val_loss: 0.0012\n",
            "Epoch 93/100\n",
            "375/375 [==============================] - 8s 23ms/step - loss: 0.0017 - val_loss: 0.0011\n",
            "Epoch 94/100\n",
            "375/375 [==============================] - 8s 23ms/step - loss: 0.0017 - val_loss: 0.0013\n",
            "Epoch 95/100\n",
            "375/375 [==============================] - 9s 23ms/step - loss: 0.0017 - val_loss: 0.0011\n",
            "Epoch 96/100\n",
            "375/375 [==============================] - 9s 23ms/step - loss: 0.0017 - val_loss: 0.0013\n",
            "Epoch 97/100\n",
            "375/375 [==============================] - 9s 23ms/step - loss: 0.0017 - val_loss: 0.0011\n",
            "Epoch 98/100\n",
            "375/375 [==============================] - 9s 23ms/step - loss: 0.0017 - val_loss: 0.0011\n",
            "Epoch 99/100\n",
            "375/375 [==============================] - 8s 23ms/step - loss: 0.0017 - val_loss: 0.0015\n",
            "Epoch 100/100\n",
            "375/375 [==============================] - 8s 23ms/step - loss: 0.0017 - val_loss: 0.0011\n"
          ],
          "name": "stdout"
        }
      ]
    },
    {
      "cell_type": "markdown",
      "metadata": {
        "id": "lfSYcKxZBoGU",
        "colab_type": "text"
      },
      "source": [
        "## Loss vs Epochs Plot"
      ]
    },
    {
      "cell_type": "code",
      "metadata": {
        "id": "52Rkch8WlyGJ",
        "colab_type": "code",
        "colab": {
          "base_uri": "https://localhost:8080/",
          "height": 357
        },
        "outputId": "d3964ac4-6be9-4d01-b93c-e95260fce889"
      },
      "source": [
        "loss = autoencoder_train.history['loss']\n",
        "val_loss = autoencoder_train.history['val_loss']\n",
        "epochs = range(len(loss))\n",
        "\n",
        "fig = plt.figure(figsize = (12,5))\n",
        "\n",
        "plt.plot(epochs, loss, '-r', label='Training loss')\n",
        "plt.plot(epochs, val_loss, '-b', label='Validation loss')\n",
        "plt.xlabel('Epochs', fontsize= 15)\n",
        "plt.ylabel('Loss', fontsize= 15)\n",
        "plt.title('AutoEncoder Training and validation loss Vs Epochs', fontsize= 15)\n",
        "plt.legend()\n",
        "plt.show()"
      ],
      "execution_count": null,
      "outputs": [
        {
          "output_type": "display_data",
          "data": {
            "image/png": "[encoded data removed]",
            "text/plain": [
              "<Figure size 864x360 with 1 Axes>"
            ]
          },
          "metadata": {
            "tags": [],
            "needs_background": "light"
          }
        }
      ]
    },
    {
      "cell_type": "markdown",
      "metadata": {
        "id": "IXOECokREnDE",
        "colab_type": "text"
      },
      "source": [
        "## Split the Train dataset again \n",
        "\n"
      ]
    },
    {
      "cell_type": "code",
      "metadata": {
        "id": "Bz7wCJCfCstP",
        "colab_type": "code",
        "colab": {
          "base_uri": "https://localhost:8080/",
          "height": 84
        },
        "outputId": "3eef3223-6c2a-4ee2-dca9-221c1c9a6a9c"
      },
      "source": [
        "AE_x_train, AE_x_val, y_train, y_val = train_test_split(X, y, test_size = 0.2, random_state= 42)\n",
        "\n",
        "print(AE_x_train.shape)\n",
        "print(y_train.shape)\n",
        "print(AE_x_val.shape)\n",
        "print(y_val.shape)"
      ],
      "execution_count": null,
      "outputs": [
        {
          "output_type": "stream",
          "text": [
            "(48000, 28, 28, 1)\n",
            "(48000, 5)\n",
            "(12000, 28, 28, 1)\n",
            "(12000, 5)\n"
          ],
          "name": "stdout"
        }
      ]
    },
    {
      "cell_type": "markdown",
      "metadata": {
        "id": "xVsGV7X-8GtF",
        "colab_type": "text"
      },
      "source": [
        "## Fully connected layer\n"
      ]
    },
    {
      "cell_type": "code",
      "metadata": {
        "id": "liSi2OdeuE2Q",
        "colab_type": "code",
        "colab": {}
      },
      "source": [
        "def fullyconn(enco):\n",
        "    flat = Flatten()(enco)                          # Flatten the input\n",
        "\n",
        "    den1 = Dense(512, activation='relu')(flat)      # First dense layer\n",
        "    bn1 = BatchNormalization()(den1)\n",
        "    drop1 = Dropout(0.5)(bn1)\n",
        "\n",
        "    den2 = Dense(64, activation='relu')(drop1)        # Second dense layer\n",
        "    bn2 = BatchNormalization()(den2)\n",
        "    drop2 = Dropout(0.5)(bn2)\n",
        "\n",
        "    out = Dense(num_classes, activation='softmax')(drop2)     # Output layer\n",
        "    return out"
      ],
      "execution_count": null,
      "outputs": []
    },
    {
      "cell_type": "markdown",
      "metadata": {
        "id": "p-nDlnXH2Czf",
        "colab_type": "text"
      },
      "source": [
        "## Create the Convolutional Autoencoder using the Encoder and Fully Connected Layer"
      ]
    },
    {
      "cell_type": "code",
      "metadata": {
        "id": "bFxlq6V68RYY",
        "colab_type": "code",
        "colab": {}
      },
      "source": [
        "encode = encoder(input_img)\n",
        "conv_ae = Model(input_img, fullyconn(encode))\n",
        "\n",
        "for l1,l2 in zip(conv_ae.layers[:17], autoencoder.layers[0:17]):\n",
        "    l1.set_weights(l2.get_weights())"
      ],
      "execution_count": null,
      "outputs": []
    },
    {
      "cell_type": "markdown",
      "metadata": {
        "id": "aixjetFm23xj",
        "colab_type": "text"
      },
      "source": [
        "## Compile and Train the Convolutional Autoencoder"
      ]
    },
    {
      "cell_type": "code",
      "metadata": {
        "id": "3xGVy-CLKHTI",
        "colab_type": "code",
        "colab": {
          "base_uri": "https://localhost:8080/",
          "height": 991
        },
        "outputId": "b16dd373-9782-4da5-f851-742ffa00dfe9"
      },
      "source": [
        "for layer in conv_ae.layers[0:17]:\n",
        "    layer.trainable = False\n",
        "\n",
        "# Optimizer\n",
        "opt = Adam(lr=0.001, beta_1=0.9, beta_2=0.999 )\n",
        "\n",
        "\n",
        "conv_ae.compile(loss='categorical_crossentropy', optimizer= opt, metrics=['accuracy'])\n",
        "conv_ae.summary()\n"
      ],
      "execution_count": null,
      "outputs": [
        {
          "output_type": "stream",
          "text": [
            "Model: \"model_1\"\n",
            "_________________________________________________________________\n",
            "Layer (type)                 Output Shape              Param #   \n",
            "=================================================================\n",
            "input_4 (InputLayer)         [(None, 28, 28, 1)]       0         \n",
            "_________________________________________________________________\n",
            "conv2d_19 (Conv2D)           (None, 28, 28, 32)        320       \n",
            "_________________________________________________________________\n",
            "batch_normalization_20 (Batc (None, 28, 28, 32)        128       \n",
            "_________________________________________________________________\n",
            "conv2d_20 (Conv2D)           (None, 28, 28, 32)        9248      \n",
            "_________________________________________________________________\n",
            "batch_normalization_21 (Batc (None, 28, 28, 32)        128       \n",
            "_________________________________________________________________\n",
            "max_pooling2d_5 (MaxPooling2 (None, 14, 14, 32)        0         \n",
            "_________________________________________________________________\n",
            "conv2d_21 (Conv2D)           (None, 14, 14, 64)        18496     \n",
            "_________________________________________________________________\n",
            "batch_normalization_22 (Batc (None, 14, 14, 64)        256       \n",
            "_________________________________________________________________\n",
            "conv2d_22 (Conv2D)           (None, 14, 14, 64)        36928     \n",
            "_________________________________________________________________\n",
            "batch_normalization_23 (Batc (None, 14, 14, 64)        256       \n",
            "_________________________________________________________________\n",
            "max_pooling2d_6 (MaxPooling2 (None, 7, 7, 64)          0         \n",
            "_________________________________________________________________\n",
            "dropout_12 (Dropout)         (None, 7, 7, 64)          0         \n",
            "_________________________________________________________________\n",
            "conv2d_23 (Conv2D)           (None, 7, 7, 128)         73856     \n",
            "_________________________________________________________________\n",
            "batch_normalization_24 (Batc (None, 7, 7, 128)         512       \n",
            "_________________________________________________________________\n",
            "conv2d_24 (Conv2D)           (None, 7, 7, 128)         147584    \n",
            "_________________________________________________________________\n",
            "batch_normalization_25 (Batc (None, 7, 7, 128)         512       \n",
            "_________________________________________________________________\n",
            "dropout_13 (Dropout)         (None, 7, 7, 128)         0         \n",
            "_________________________________________________________________\n",
            "flatten_1 (Flatten)          (None, 6272)              0         \n",
            "_________________________________________________________________\n",
            "dense_17 (Dense)             (None, 512)               3211776   \n",
            "_________________________________________________________________\n",
            "batch_normalization_26 (Batc (None, 512)               2048      \n",
            "_________________________________________________________________\n",
            "dropout_14 (Dropout)         (None, 512)               0         \n",
            "_________________________________________________________________\n",
            "dense_18 (Dense)             (None, 64)                32832     \n",
            "_________________________________________________________________\n",
            "batch_normalization_27 (Batc (None, 64)                256       \n",
            "_________________________________________________________________\n",
            "dropout_15 (Dropout)         (None, 64)                0         \n",
            "_________________________________________________________________\n",
            "dense_19 (Dense)             (None, 5)                 325       \n",
            "=================================================================\n",
            "Total params: 3,535,461\n",
            "Trainable params: 3,246,085\n",
            "Non-trainable params: 289,376\n",
            "_________________________________________________________________\n"
          ],
          "name": "stdout"
        }
      ]
    },
    {
      "cell_type": "markdown",
      "metadata": {
        "id": "2u93lAKP8bcq",
        "colab_type": "text"
      },
      "source": [
        "## Fit the model"
      ]
    },
    {
      "cell_type": "code",
      "metadata": {
        "id": "scyR6NYBKHQq",
        "colab_type": "code",
        "colab": {
          "base_uri": "https://localhost:8080/",
          "height": 1000
        },
        "outputId": "e19822a9-0d28-4a3a-c309-1278d38d9ad3"
      },
      "source": [
        "batches = 128\n",
        "epoch = 30\n",
        "\n",
        "# Learning Rate Decay\n",
        "\n",
        "lr = LearningRateScheduler(lambda x: 1e-3 * 0.9 ** x)\n",
        "\n",
        "\n",
        "classify_train = conv_ae.fit(x_train, y_train, batch_size= batches, epochs= epoch, verbose=1, validation_data=(x_val, y_val))\n"
      ],
      "execution_count": null,
      "outputs": [
        {
          "output_type": "stream",
          "text": [
            "Epoch 1/30\n",
            "375/375 [==============================] - 3s 7ms/step - loss: 0.6986 - accuracy: 0.7275 - val_loss: 0.4024 - val_accuracy: 0.8368\n",
            "Epoch 2/30\n",
            "375/375 [==============================] - 2s 6ms/step - loss: 0.4944 - accuracy: 0.8016 - val_loss: 0.3693 - val_accuracy: 0.8497\n",
            "Epoch 3/30\n",
            "375/375 [==============================] - 2s 6ms/step - loss: 0.4398 - accuracy: 0.8270 - val_loss: 0.3436 - val_accuracy: 0.8612\n",
            "Epoch 4/30\n",
            "375/375 [==============================] - 2s 6ms/step - loss: 0.4063 - accuracy: 0.8408 - val_loss: 0.3282 - val_accuracy: 0.8685\n",
            "Epoch 5/30\n",
            "375/375 [==============================] - 2s 6ms/step - loss: 0.3732 - accuracy: 0.8560 - val_loss: 0.3158 - val_accuracy: 0.8717\n",
            "Epoch 6/30\n",
            "375/375 [==============================] - 2s 6ms/step - loss: 0.3555 - accuracy: 0.8621 - val_loss: 0.3196 - val_accuracy: 0.8721\n",
            "Epoch 7/30\n",
            "375/375 [==============================] - 2s 6ms/step - loss: 0.3363 - accuracy: 0.8712 - val_loss: 0.3070 - val_accuracy: 0.8771\n",
            "Epoch 8/30\n",
            "375/375 [==============================] - 2s 6ms/step - loss: 0.3262 - accuracy: 0.8749 - val_loss: 0.3126 - val_accuracy: 0.8721\n",
            "Epoch 9/30\n",
            "375/375 [==============================] - 2s 6ms/step - loss: 0.3092 - accuracy: 0.8813 - val_loss: 0.3131 - val_accuracy: 0.8718\n",
            "Epoch 10/30\n",
            "375/375 [==============================] - 2s 6ms/step - loss: 0.2948 - accuracy: 0.8880 - val_loss: 0.3116 - val_accuracy: 0.8739\n",
            "Epoch 11/30\n",
            "375/375 [==============================] - 2s 6ms/step - loss: 0.2825 - accuracy: 0.8927 - val_loss: 0.3099 - val_accuracy: 0.8777\n",
            "Epoch 12/30\n",
            "375/375 [==============================] - 2s 6ms/step - loss: 0.2765 - accuracy: 0.8919 - val_loss: 0.3106 - val_accuracy: 0.8748\n",
            "Epoch 13/30\n",
            "375/375 [==============================] - 2s 6ms/step - loss: 0.2627 - accuracy: 0.8992 - val_loss: 0.3050 - val_accuracy: 0.8800\n",
            "Epoch 14/30\n",
            "375/375 [==============================] - 2s 7ms/step - loss: 0.2502 - accuracy: 0.9048 - val_loss: 0.3145 - val_accuracy: 0.8755\n",
            "Epoch 15/30\n",
            "375/375 [==============================] - 2s 6ms/step - loss: 0.2466 - accuracy: 0.9060 - val_loss: 0.3094 - val_accuracy: 0.8768\n",
            "Epoch 16/30\n",
            "375/375 [==============================] - 2s 6ms/step - loss: 0.2413 - accuracy: 0.9084 - val_loss: 0.3086 - val_accuracy: 0.8773\n",
            "Epoch 17/30\n",
            "375/375 [==============================] - 2s 6ms/step - loss: 0.2356 - accuracy: 0.9101 - val_loss: 0.3182 - val_accuracy: 0.8778\n",
            "Epoch 18/30\n",
            "375/375 [==============================] - 2s 6ms/step - loss: 0.2264 - accuracy: 0.9138 - val_loss: 0.3114 - val_accuracy: 0.8788\n",
            "Epoch 19/30\n",
            "375/375 [==============================] - 2s 6ms/step - loss: 0.2160 - accuracy: 0.9184 - val_loss: 0.3167 - val_accuracy: 0.8796\n",
            "Epoch 20/30\n",
            "375/375 [==============================] - 2s 6ms/step - loss: 0.2111 - accuracy: 0.9196 - val_loss: 0.3161 - val_accuracy: 0.8802\n",
            "Epoch 21/30\n",
            "375/375 [==============================] - 2s 6ms/step - loss: 0.2084 - accuracy: 0.9206 - val_loss: 0.3128 - val_accuracy: 0.8773\n",
            "Epoch 22/30\n",
            "375/375 [==============================] - 2s 6ms/step - loss: 0.2020 - accuracy: 0.9249 - val_loss: 0.3163 - val_accuracy: 0.8818\n",
            "Epoch 23/30\n",
            "375/375 [==============================] - 2s 6ms/step - loss: 0.1980 - accuracy: 0.9268 - val_loss: 0.3269 - val_accuracy: 0.8814\n",
            "Epoch 24/30\n",
            "375/375 [==============================] - 2s 6ms/step - loss: 0.1965 - accuracy: 0.9267 - val_loss: 0.3237 - val_accuracy: 0.8793\n",
            "Epoch 25/30\n",
            "375/375 [==============================] - 2s 6ms/step - loss: 0.1883 - accuracy: 0.9292 - val_loss: 0.3251 - val_accuracy: 0.8762\n",
            "Epoch 26/30\n",
            "375/375 [==============================] - 2s 6ms/step - loss: 0.1883 - accuracy: 0.9301 - val_loss: 0.3176 - val_accuracy: 0.8817\n",
            "Epoch 27/30\n",
            "375/375 [==============================] - 2s 6ms/step - loss: 0.1815 - accuracy: 0.9323 - val_loss: 0.3275 - val_accuracy: 0.8804\n",
            "Epoch 28/30\n",
            "375/375 [==============================] - 2s 6ms/step - loss: 0.1794 - accuracy: 0.9332 - val_loss: 0.3257 - val_accuracy: 0.8796\n",
            "Epoch 29/30\n",
            "375/375 [==============================] - 2s 6ms/step - loss: 0.1777 - accuracy: 0.9337 - val_loss: 0.3294 - val_accuracy: 0.8792\n",
            "Epoch 30/30\n",
            "375/375 [==============================] - 2s 6ms/step - loss: 0.1723 - accuracy: 0.9370 - val_loss: 0.3343 - val_accuracy: 0.8795\n"
          ],
          "name": "stdout"
        }
      ]
    },
    {
      "cell_type": "markdown",
      "metadata": {
        "id": "Q0cssset8rkG",
        "colab_type": "text"
      },
      "source": [
        "## Plots"
      ]
    },
    {
      "cell_type": "code",
      "metadata": {
        "colab_type": "code",
        "id": "ii4DUg0z8iXF",
        "colab": {
          "base_uri": "https://localhost:8080/",
          "height": 714
        },
        "outputId": "c74973ff-cd7a-404d-d916-d9f757bc1852"
      },
      "source": [
        "accuracy = model_fitting.history['accuracy']\n",
        "val_accuracy = model_fitting.history['val_accuracy']\n",
        "\n",
        "loss = model_fitting.history['loss']\n",
        "val_loss = model_fitting.history['val_loss']\n",
        "\n",
        "epochs = range(len(accuracy))\n",
        "\n",
        "#########\n",
        "plt.figure(figsize=(12, 5))\n",
        "plt.plot(epochs, loss, 'b-', label='Training loss')\n",
        "plt.plot(epochs, val_loss, 'r-', label='Validation loss')\n",
        "plt.title('Training and Validation Loss VS Epochs', fontsize=15)\n",
        "plt.xlabel('Epochs', fontsize=15)\n",
        "plt.ylabel('Loss', fontsize=15)\n",
        "plt.legend()\n",
        "\n",
        "\n",
        "#########\n",
        "plt.figure(figsize=(12, 5))\n",
        "plt.plot(epochs, accuracy, 'b-', label='Training accuracy')\n",
        "plt.plot(epochs, val_accuracy, 'r-', label='Validation accuracy')\n",
        "plt.title('Training and Validation Accuracy VS Epochs', fontsize=15)\n",
        "plt.xlabel('Epochs', fontsize=15)\n",
        "plt.ylabel('Accuracy', fontsize=15)\n",
        "plt.legend()\n",
        "\n"
      ],
      "execution_count": null,
      "outputs": [
        {
          "output_type": "execute_result",
          "data": {
            "text/plain": [
              "<matplotlib.legend.Legend at 0x7f148c53a208>"
            ]
          },
          "metadata": {
            "tags": []
          },
          "execution_count": 80
        },
        {
          "output_type": "display_data",
          "data": {
            "image/png": "[encoded data removed]",
            "text/plain": [
              "<Figure size 864x360 with 1 Axes>"
            ]
          },
          "metadata": {
            "tags": [],
            "needs_background": "light"
          }
        },
        {
          "output_type": "display_data",
          "data": {
            "image/png": "[encoded data removed]",
            "text/plain": [
              "<Figure size 864x360 with 1 Axes>"
            ]
          },
          "metadata": {
            "tags": [],
            "needs_background": "light"
          }
        }
      ]
    },
    {
      "cell_type": "markdown",
      "metadata": {
        "id": "wlaZxPpD87we",
        "colab_type": "text"
      },
      "source": [
        "## Generate predictions on test dataset"
      ]
    },
    {
      "cell_type": "code",
      "metadata": {
        "colab_type": "code",
        "id": "5ARKW2dS8_lw",
        "colab": {
          "base_uri": "https://localhost:8080/",
          "height": 50
        },
        "outputId": "dd32845f-d689-4304-902a-b694170cad7d"
      },
      "source": [
        "# Generate predictions \n",
        "\n",
        "predictions = conv_ae.predict(df_test2)\n",
        "print('predictions shape:', predictions.shape)\n",
        "\n",
        "# COnvert predictions classes to integer vectors\n",
        "preds = np.argmax(predictions, axis=1)\n",
        "print(preds)\n"
      ],
      "execution_count": null,
      "outputs": [
        {
          "output_type": "stream",
          "text": [
            "predictions shape: (10000, 5)\n",
            "[3 4 1 ... 3 2 2]\n"
          ],
          "name": "stdout"
        }
      ]
    },
    {
      "cell_type": "markdown",
      "metadata": {
        "id": "v76Npp669B1F",
        "colab_type": "text"
      },
      "source": [
        "## Create Submissions for Kaggle"
      ]
    },
    {
      "cell_type": "code",
      "metadata": {
        "colab_type": "code",
        "id": "j_RMSNWq9Ewb",
        "colab": {}
      },
      "source": [
        "subm1 = pd.DataFrame(test.iloc[:,0])\n",
        "subm1 = subm1.join(pd.DataFrame(data = preds, columns =['Label']))\n",
        "subm1.to_csv('drive/My Drive/ECE657A/outs/cnn/conv_autoen_final.csv', index=False)"
      ],
      "execution_count": null,
      "outputs": []
    },
    {
      "cell_type": "markdown",
      "metadata": {
        "id": "NDsevDFZK4rh",
        "colab_type": "text"
      },
      "source": [
        "# Transfer Learning Based Approach\n"
      ]
    },
    {
      "cell_type": "markdown",
      "metadata": {
        "id": "0fvnL2gWysjd",
        "colab_type": "text"
      },
      "source": [
        "# **XCEPTION NET**"
      ]
    },
    {
      "cell_type": "markdown",
      "metadata": {
        "id": "TCjaHepzOTEW",
        "colab_type": "text"
      },
      "source": [
        "## Preprocess input"
      ]
    },
    {
      "cell_type": "code",
      "metadata": {
        "id": "8koopzvh_7Xn",
        "colab_type": "code",
        "colab": {}
      },
      "source": [
        "from tensorflow.keras.applications.xception import preprocess_input\n",
        "\n",
        "x_train = preprocess_input(tr_x_train)\n",
        "x_val = preprocess_input(tr_x_val)\n",
        "df_test2 = preprocess_input(df_test2)"
      ],
      "execution_count": null,
      "outputs": []
    },
    {
      "cell_type": "markdown",
      "metadata": {
        "id": "B2NJNHSstVLI",
        "colab_type": "text"
      },
      "source": [
        "## Load a pretrained model"
      ]
    },
    {
      "cell_type": "code",
      "metadata": {
        "id": "ewuXvJTGLB04",
        "colab_type": "code",
        "colab": {
          "base_uri": "https://localhost:8080/",
          "height": 1000
        },
        "outputId": "63d1e82d-27d2-4f1f-f719-8d967dbe4203"
      },
      "source": [
        "xcep = Xception(include_top= False, weights= 'imagenet', input_shape= (71, 71, 3))\n",
        "\n",
        "xcep.summary()"
      ],
      "execution_count": null,
      "outputs": [
        {
          "output_type": "stream",
          "text": [
            "Model: \"xception\"\n",
            "__________________________________________________________________________________________________\n",
            "Layer (type)                    Output Shape         Param #     Connected to                     \n",
            "==================================================================================================\n",
            "input_9 (InputLayer)            (None, 71, 71, 3)    0                                            \n",
            "__________________________________________________________________________________________________\n",
            "block1_conv1 (Conv2D)           (None, 35, 35, 32)   864         input_9[0][0]                    \n",
            "__________________________________________________________________________________________________\n",
            "block1_conv1_bn (BatchNormaliza (None, 35, 35, 32)   128         block1_conv1[0][0]               \n",
            "__________________________________________________________________________________________________\n",
            "block1_conv1_act (Activation)   (None, 35, 35, 32)   0           block1_conv1_bn[0][0]            \n",
            "__________________________________________________________________________________________________\n",
            "block1_conv2 (Conv2D)           (None, 33, 33, 64)   18432       block1_conv1_act[0][0]           \n",
            "__________________________________________________________________________________________________\n",
            "block1_conv2_bn (BatchNormaliza (None, 33, 33, 64)   256         block1_conv2[0][0]               \n",
            "__________________________________________________________________________________________________\n",
            "block1_conv2_act (Activation)   (None, 33, 33, 64)   0           block1_conv2_bn[0][0]            \n",
            "__________________________________________________________________________________________________\n",
            "block2_sepconv1 (SeparableConv2 (None, 33, 33, 128)  8768        block1_conv2_act[0][0]           \n",
            "__________________________________________________________________________________________________\n",
            "block2_sepconv1_bn (BatchNormal (None, 33, 33, 128)  512         block2_sepconv1[0][0]            \n",
            "__________________________________________________________________________________________________\n",
            "block2_sepconv2_act (Activation (None, 33, 33, 128)  0           block2_sepconv1_bn[0][0]         \n",
            "__________________________________________________________________________________________________\n",
            "block2_sepconv2 (SeparableConv2 (None, 33, 33, 128)  17536       block2_sepconv2_act[0][0]        \n",
            "__________________________________________________________________________________________________\n",
            "block2_sepconv2_bn (BatchNormal (None, 33, 33, 128)  512         block2_sepconv2[0][0]            \n",
            "__________________________________________________________________________________________________\n",
            "conv2d_33 (Conv2D)              (None, 17, 17, 128)  8192        block1_conv2_act[0][0]           \n",
            "__________________________________________________________________________________________________\n",
            "block2_pool (MaxPooling2D)      (None, 17, 17, 128)  0           block2_sepconv2_bn[0][0]         \n",
            "__________________________________________________________________________________________________\n",
            "batch_normalization_33 (BatchNo (None, 17, 17, 128)  512         conv2d_33[0][0]                  \n",
            "__________________________________________________________________________________________________\n",
            "add_97 (Add)                    (None, 17, 17, 128)  0           block2_pool[0][0]                \n",
            "                                                                 batch_normalization_33[0][0]     \n",
            "__________________________________________________________________________________________________\n",
            "block3_sepconv1_act (Activation (None, 17, 17, 128)  0           add_97[0][0]                     \n",
            "__________________________________________________________________________________________________\n",
            "block3_sepconv1 (SeparableConv2 (None, 17, 17, 256)  33920       block3_sepconv1_act[0][0]        \n",
            "__________________________________________________________________________________________________\n",
            "block3_sepconv1_bn (BatchNormal (None, 17, 17, 256)  1024        block3_sepconv1[0][0]            \n",
            "__________________________________________________________________________________________________\n",
            "block3_sepconv2_act (Activation (None, 17, 17, 256)  0           block3_sepconv1_bn[0][0]         \n",
            "__________________________________________________________________________________________________\n",
            "block3_sepconv2 (SeparableConv2 (None, 17, 17, 256)  67840       block3_sepconv2_act[0][0]        \n",
            "__________________________________________________________________________________________________\n",
            "block3_sepconv2_bn (BatchNormal (None, 17, 17, 256)  1024        block3_sepconv2[0][0]            \n",
            "__________________________________________________________________________________________________\n",
            "conv2d_34 (Conv2D)              (None, 9, 9, 256)    32768       add_97[0][0]                     \n",
            "__________________________________________________________________________________________________\n",
            "block3_pool (MaxPooling2D)      (None, 9, 9, 256)    0           block3_sepconv2_bn[0][0]         \n",
            "__________________________________________________________________________________________________\n",
            "batch_normalization_34 (BatchNo (None, 9, 9, 256)    1024        conv2d_34[0][0]                  \n",
            "__________________________________________________________________________________________________\n",
            "add_98 (Add)                    (None, 9, 9, 256)    0           block3_pool[0][0]                \n",
            "                                                                 batch_normalization_34[0][0]     \n",
            "__________________________________________________________________________________________________\n",
            "block4_sepconv1_act (Activation (None, 9, 9, 256)    0           add_98[0][0]                     \n",
            "__________________________________________________________________________________________________\n",
            "block4_sepconv1 (SeparableConv2 (None, 9, 9, 728)    188672      block4_sepconv1_act[0][0]        \n",
            "__________________________________________________________________________________________________\n",
            "block4_sepconv1_bn (BatchNormal (None, 9, 9, 728)    2912        block4_sepconv1[0][0]            \n",
            "__________________________________________________________________________________________________\n",
            "block4_sepconv2_act (Activation (None, 9, 9, 728)    0           block4_sepconv1_bn[0][0]         \n",
            "__________________________________________________________________________________________________\n",
            "block4_sepconv2 (SeparableConv2 (None, 9, 9, 728)    536536      block4_sepconv2_act[0][0]        \n",
            "__________________________________________________________________________________________________\n",
            "block4_sepconv2_bn (BatchNormal (None, 9, 9, 728)    2912        block4_sepconv2[0][0]            \n",
            "__________________________________________________________________________________________________\n",
            "conv2d_35 (Conv2D)              (None, 5, 5, 728)    186368      add_98[0][0]                     \n",
            "__________________________________________________________________________________________________\n",
            "block4_pool (MaxPooling2D)      (None, 5, 5, 728)    0           block4_sepconv2_bn[0][0]         \n",
            "__________________________________________________________________________________________________\n",
            "batch_normalization_35 (BatchNo (None, 5, 5, 728)    2912        conv2d_35[0][0]                  \n",
            "__________________________________________________________________________________________________\n",
            "add_99 (Add)                    (None, 5, 5, 728)    0           block4_pool[0][0]                \n",
            "                                                                 batch_normalization_35[0][0]     \n",
            "__________________________________________________________________________________________________\n",
            "block5_sepconv1_act (Activation (None, 5, 5, 728)    0           add_99[0][0]                     \n",
            "__________________________________________________________________________________________________\n",
            "block5_sepconv1 (SeparableConv2 (None, 5, 5, 728)    536536      block5_sepconv1_act[0][0]        \n",
            "__________________________________________________________________________________________________\n",
            "block5_sepconv1_bn (BatchNormal (None, 5, 5, 728)    2912        block5_sepconv1[0][0]            \n",
            "__________________________________________________________________________________________________\n",
            "block5_sepconv2_act (Activation (None, 5, 5, 728)    0           block5_sepconv1_bn[0][0]         \n",
            "__________________________________________________________________________________________________\n",
            "block5_sepconv2 (SeparableConv2 (None, 5, 5, 728)    536536      block5_sepconv2_act[0][0]        \n",
            "__________________________________________________________________________________________________\n",
            "block5_sepconv2_bn (BatchNormal (None, 5, 5, 728)    2912        block5_sepconv2[0][0]            \n",
            "__________________________________________________________________________________________________\n",
            "block5_sepconv3_act (Activation (None, 5, 5, 728)    0           block5_sepconv2_bn[0][0]         \n",
            "__________________________________________________________________________________________________\n",
            "block5_sepconv3 (SeparableConv2 (None, 5, 5, 728)    536536      block5_sepconv3_act[0][0]        \n",
            "__________________________________________________________________________________________________\n",
            "block5_sepconv3_bn (BatchNormal (None, 5, 5, 728)    2912        block5_sepconv3[0][0]            \n",
            "__________________________________________________________________________________________________\n",
            "add_100 (Add)                   (None, 5, 5, 728)    0           block5_sepconv3_bn[0][0]         \n",
            "                                                                 add_99[0][0]                     \n",
            "__________________________________________________________________________________________________\n",
            "block6_sepconv1_act (Activation (None, 5, 5, 728)    0           add_100[0][0]                    \n",
            "__________________________________________________________________________________________________\n",
            "block6_sepconv1 (SeparableConv2 (None, 5, 5, 728)    536536      block6_sepconv1_act[0][0]        \n",
            "__________________________________________________________________________________________________\n",
            "block6_sepconv1_bn (BatchNormal (None, 5, 5, 728)    2912        block6_sepconv1[0][0]            \n",
            "__________________________________________________________________________________________________\n",
            "block6_sepconv2_act (Activation (None, 5, 5, 728)    0           block6_sepconv1_bn[0][0]         \n",
            "__________________________________________________________________________________________________\n",
            "block6_sepconv2 (SeparableConv2 (None, 5, 5, 728)    536536      block6_sepconv2_act[0][0]        \n",
            "__________________________________________________________________________________________________\n",
            "block6_sepconv2_bn (BatchNormal (None, 5, 5, 728)    2912        block6_sepconv2[0][0]            \n",
            "__________________________________________________________________________________________________\n",
            "block6_sepconv3_act (Activation (None, 5, 5, 728)    0           block6_sepconv2_bn[0][0]         \n",
            "__________________________________________________________________________________________________\n",
            "block6_sepconv3 (SeparableConv2 (None, 5, 5, 728)    536536      block6_sepconv3_act[0][0]        \n",
            "__________________________________________________________________________________________________\n",
            "block6_sepconv3_bn (BatchNormal (None, 5, 5, 728)    2912        block6_sepconv3[0][0]            \n",
            "__________________________________________________________________________________________________\n",
            "add_101 (Add)                   (None, 5, 5, 728)    0           block6_sepconv3_bn[0][0]         \n",
            "                                                                 add_100[0][0]                    \n",
            "__________________________________________________________________________________________________\n",
            "block7_sepconv1_act (Activation (None, 5, 5, 728)    0           add_101[0][0]                    \n",
            "__________________________________________________________________________________________________\n",
            "block7_sepconv1 (SeparableConv2 (None, 5, 5, 728)    536536      block7_sepconv1_act[0][0]        \n",
            "__________________________________________________________________________________________________\n",
            "block7_sepconv1_bn (BatchNormal (None, 5, 5, 728)    2912        block7_sepconv1[0][0]            \n",
            "__________________________________________________________________________________________________\n",
            "block7_sepconv2_act (Activation (None, 5, 5, 728)    0           block7_sepconv1_bn[0][0]         \n",
            "__________________________________________________________________________________________________\n",
            "block7_sepconv2 (SeparableConv2 (None, 5, 5, 728)    536536      block7_sepconv2_act[0][0]        \n",
            "__________________________________________________________________________________________________\n",
            "block7_sepconv2_bn (BatchNormal (None, 5, 5, 728)    2912        block7_sepconv2[0][0]            \n",
            "__________________________________________________________________________________________________\n",
            "block7_sepconv3_act (Activation (None, 5, 5, 728)    0           block7_sepconv2_bn[0][0]         \n",
            "__________________________________________________________________________________________________\n",
            "block7_sepconv3 (SeparableConv2 (None, 5, 5, 728)    536536      block7_sepconv3_act[0][0]        \n",
            "__________________________________________________________________________________________________\n",
            "block7_sepconv3_bn (BatchNormal (None, 5, 5, 728)    2912        block7_sepconv3[0][0]            \n",
            "__________________________________________________________________________________________________\n",
            "add_102 (Add)                   (None, 5, 5, 728)    0           block7_sepconv3_bn[0][0]         \n",
            "                                                                 add_101[0][0]                    \n",
            "__________________________________________________________________________________________________\n",
            "block8_sepconv1_act (Activation (None, 5, 5, 728)    0           add_102[0][0]                    \n",
            "__________________________________________________________________________________________________\n",
            "block8_sepconv1 (SeparableConv2 (None, 5, 5, 728)    536536      block8_sepconv1_act[0][0]        \n",
            "__________________________________________________________________________________________________\n",
            "block8_sepconv1_bn (BatchNormal (None, 5, 5, 728)    2912        block8_sepconv1[0][0]            \n",
            "__________________________________________________________________________________________________\n",
            "block8_sepconv2_act (Activation (None, 5, 5, 728)    0           block8_sepconv1_bn[0][0]         \n",
            "__________________________________________________________________________________________________\n",
            "block8_sepconv2 (SeparableConv2 (None, 5, 5, 728)    536536      block8_sepconv2_act[0][0]        \n",
            "__________________________________________________________________________________________________\n",
            "block8_sepconv2_bn (BatchNormal (None, 5, 5, 728)    2912        block8_sepconv2[0][0]            \n",
            "__________________________________________________________________________________________________\n",
            "block8_sepconv3_act (Activation (None, 5, 5, 728)    0           block8_sepconv2_bn[0][0]         \n",
            "__________________________________________________________________________________________________\n",
            "block8_sepconv3 (SeparableConv2 (None, 5, 5, 728)    536536      block8_sepconv3_act[0][0]        \n",
            "__________________________________________________________________________________________________\n",
            "block8_sepconv3_bn (BatchNormal (None, 5, 5, 728)    2912        block8_sepconv3[0][0]            \n",
            "__________________________________________________________________________________________________\n",
            "add_103 (Add)                   (None, 5, 5, 728)    0           block8_sepconv3_bn[0][0]         \n",
            "                                                                 add_102[0][0]                    \n",
            "__________________________________________________________________________________________________\n",
            "block9_sepconv1_act (Activation (None, 5, 5, 728)    0           add_103[0][0]                    \n",
            "__________________________________________________________________________________________________\n",
            "block9_sepconv1 (SeparableConv2 (None, 5, 5, 728)    536536      block9_sepconv1_act[0][0]        \n",
            "__________________________________________________________________________________________________\n",
            "block9_sepconv1_bn (BatchNormal (None, 5, 5, 728)    2912        block9_sepconv1[0][0]            \n",
            "__________________________________________________________________________________________________\n",
            "block9_sepconv2_act (Activation (None, 5, 5, 728)    0           block9_sepconv1_bn[0][0]         \n",
            "__________________________________________________________________________________________________\n",
            "block9_sepconv2 (SeparableConv2 (None, 5, 5, 728)    536536      block9_sepconv2_act[0][0]        \n",
            "__________________________________________________________________________________________________\n",
            "block9_sepconv2_bn (BatchNormal (None, 5, 5, 728)    2912        block9_sepconv2[0][0]            \n",
            "__________________________________________________________________________________________________\n",
            "block9_sepconv3_act (Activation (None, 5, 5, 728)    0           block9_sepconv2_bn[0][0]         \n",
            "__________________________________________________________________________________________________\n",
            "block9_sepconv3 (SeparableConv2 (None, 5, 5, 728)    536536      block9_sepconv3_act[0][0]        \n",
            "__________________________________________________________________________________________________\n",
            "block9_sepconv3_bn (BatchNormal (None, 5, 5, 728)    2912        block9_sepconv3[0][0]            \n",
            "__________________________________________________________________________________________________\n",
            "add_104 (Add)                   (None, 5, 5, 728)    0           block9_sepconv3_bn[0][0]         \n",
            "                                                                 add_103[0][0]                    \n",
            "__________________________________________________________________________________________________\n",
            "block10_sepconv1_act (Activatio (None, 5, 5, 728)    0           add_104[0][0]                    \n",
            "__________________________________________________________________________________________________\n",
            "block10_sepconv1 (SeparableConv (None, 5, 5, 728)    536536      block10_sepconv1_act[0][0]       \n",
            "__________________________________________________________________________________________________\n",
            "block10_sepconv1_bn (BatchNorma (None, 5, 5, 728)    2912        block10_sepconv1[0][0]           \n",
            "__________________________________________________________________________________________________\n",
            "block10_sepconv2_act (Activatio (None, 5, 5, 728)    0           block10_sepconv1_bn[0][0]        \n",
            "__________________________________________________________________________________________________\n",
            "block10_sepconv2 (SeparableConv (None, 5, 5, 728)    536536      block10_sepconv2_act[0][0]       \n",
            "__________________________________________________________________________________________________\n",
            "block10_sepconv2_bn (BatchNorma (None, 5, 5, 728)    2912        block10_sepconv2[0][0]           \n",
            "__________________________________________________________________________________________________\n",
            "block10_sepconv3_act (Activatio (None, 5, 5, 728)    0           block10_sepconv2_bn[0][0]        \n",
            "__________________________________________________________________________________________________\n",
            "block10_sepconv3 (SeparableConv (None, 5, 5, 728)    536536      block10_sepconv3_act[0][0]       \n",
            "__________________________________________________________________________________________________\n",
            "block10_sepconv3_bn (BatchNorma (None, 5, 5, 728)    2912        block10_sepconv3[0][0]           \n",
            "__________________________________________________________________________________________________\n",
            "add_105 (Add)                   (None, 5, 5, 728)    0           block10_sepconv3_bn[0][0]        \n",
            "                                                                 add_104[0][0]                    \n",
            "__________________________________________________________________________________________________\n",
            "block11_sepconv1_act (Activatio (None, 5, 5, 728)    0           add_105[0][0]                    \n",
            "__________________________________________________________________________________________________\n",
            "block11_sepconv1 (SeparableConv (None, 5, 5, 728)    536536      block11_sepconv1_act[0][0]       \n",
            "__________________________________________________________________________________________________\n",
            "block11_sepconv1_bn (BatchNorma (None, 5, 5, 728)    2912        block11_sepconv1[0][0]           \n",
            "__________________________________________________________________________________________________\n",
            "block11_sepconv2_act (Activatio (None, 5, 5, 728)    0           block11_sepconv1_bn[0][0]        \n",
            "__________________________________________________________________________________________________\n",
            "block11_sepconv2 (SeparableConv (None, 5, 5, 728)    536536      block11_sepconv2_act[0][0]       \n",
            "__________________________________________________________________________________________________\n",
            "block11_sepconv2_bn (BatchNorma (None, 5, 5, 728)    2912        block11_sepconv2[0][0]           \n",
            "__________________________________________________________________________________________________\n",
            "block11_sepconv3_act (Activatio (None, 5, 5, 728)    0           block11_sepconv2_bn[0][0]        \n",
            "__________________________________________________________________________________________________\n",
            "block11_sepconv3 (SeparableConv (None, 5, 5, 728)    536536      block11_sepconv3_act[0][0]       \n",
            "__________________________________________________________________________________________________\n",
            "block11_sepconv3_bn (BatchNorma (None, 5, 5, 728)    2912        block11_sepconv3[0][0]           \n",
            "__________________________________________________________________________________________________\n",
            "add_106 (Add)                   (None, 5, 5, 728)    0           block11_sepconv3_bn[0][0]        \n",
            "                                                                 add_105[0][0]                    \n",
            "__________________________________________________________________________________________________\n",
            "block12_sepconv1_act (Activatio (None, 5, 5, 728)    0           add_106[0][0]                    \n",
            "__________________________________________________________________________________________________\n",
            "block12_sepconv1 (SeparableConv (None, 5, 5, 728)    536536      block12_sepconv1_act[0][0]       \n",
            "__________________________________________________________________________________________________\n",
            "block12_sepconv1_bn (BatchNorma (None, 5, 5, 728)    2912        block12_sepconv1[0][0]           \n",
            "__________________________________________________________________________________________________\n",
            "block12_sepconv2_act (Activatio (None, 5, 5, 728)    0           block12_sepconv1_bn[0][0]        \n",
            "__________________________________________________________________________________________________\n",
            "block12_sepconv2 (SeparableConv (None, 5, 5, 728)    536536      block12_sepconv2_act[0][0]       \n",
            "__________________________________________________________________________________________________\n",
            "block12_sepconv2_bn (BatchNorma (None, 5, 5, 728)    2912        block12_sepconv2[0][0]           \n",
            "__________________________________________________________________________________________________\n",
            "block12_sepconv3_act (Activatio (None, 5, 5, 728)    0           block12_sepconv2_bn[0][0]        \n",
            "__________________________________________________________________________________________________\n",
            "block12_sepconv3 (SeparableConv (None, 5, 5, 728)    536536      block12_sepconv3_act[0][0]       \n",
            "__________________________________________________________________________________________________\n",
            "block12_sepconv3_bn (BatchNorma (None, 5, 5, 728)    2912        block12_sepconv3[0][0]           \n",
            "__________________________________________________________________________________________________\n",
            "add_107 (Add)                   (None, 5, 5, 728)    0           block12_sepconv3_bn[0][0]        \n",
            "                                                                 add_106[0][0]                    \n",
            "__________________________________________________________________________________________________\n",
            "block13_sepconv1_act (Activatio (None, 5, 5, 728)    0           add_107[0][0]                    \n",
            "__________________________________________________________________________________________________\n",
            "block13_sepconv1 (SeparableConv (None, 5, 5, 728)    536536      block13_sepconv1_act[0][0]       \n",
            "__________________________________________________________________________________________________\n",
            "block13_sepconv1_bn (BatchNorma (None, 5, 5, 728)    2912        block13_sepconv1[0][0]           \n",
            "__________________________________________________________________________________________________\n",
            "block13_sepconv2_act (Activatio (None, 5, 5, 728)    0           block13_sepconv1_bn[0][0]        \n",
            "__________________________________________________________________________________________________\n",
            "block13_sepconv2 (SeparableConv (None, 5, 5, 1024)   752024      block13_sepconv2_act[0][0]       \n",
            "__________________________________________________________________________________________________\n",
            "block13_sepconv2_bn (BatchNorma (None, 5, 5, 1024)   4096        block13_sepconv2[0][0]           \n",
            "__________________________________________________________________________________________________\n",
            "conv2d_36 (Conv2D)              (None, 3, 3, 1024)   745472      add_107[0][0]                    \n",
            "__________________________________________________________________________________________________\n",
            "block13_pool (MaxPooling2D)     (None, 3, 3, 1024)   0           block13_sepconv2_bn[0][0]        \n",
            "__________________________________________________________________________________________________\n",
            "batch_normalization_36 (BatchNo (None, 3, 3, 1024)   4096        conv2d_36[0][0]                  \n",
            "__________________________________________________________________________________________________\n",
            "add_108 (Add)                   (None, 3, 3, 1024)   0           block13_pool[0][0]               \n",
            "                                                                 batch_normalization_36[0][0]     \n",
            "__________________________________________________________________________________________________\n",
            "block14_sepconv1 (SeparableConv (None, 3, 3, 1536)   1582080     add_108[0][0]                    \n",
            "__________________________________________________________________________________________________\n",
            "block14_sepconv1_bn (BatchNorma (None, 3, 3, 1536)   6144        block14_sepconv1[0][0]           \n",
            "__________________________________________________________________________________________________\n",
            "block14_sepconv1_act (Activatio (None, 3, 3, 1536)   0           block14_sepconv1_bn[0][0]        \n",
            "__________________________________________________________________________________________________\n",
            "block14_sepconv2 (SeparableConv (None, 3, 3, 2048)   3159552     block14_sepconv1_act[0][0]       \n",
            "__________________________________________________________________________________________________\n",
            "block14_sepconv2_bn (BatchNorma (None, 3, 3, 2048)   8192        block14_sepconv2[0][0]           \n",
            "__________________________________________________________________________________________________\n",
            "block14_sepconv2_act (Activatio (None, 3, 3, 2048)   0           block14_sepconv2_bn[0][0]        \n",
            "==================================================================================================\n",
            "Total params: 20,861,480\n",
            "Trainable params: 20,806,952\n",
            "Non-trainable params: 54,528\n",
            "__________________________________________________________________________________________________\n"
          ],
          "name": "stdout"
        }
      ]
    },
    {
      "cell_type": "markdown",
      "metadata": {
        "id": "aY9ejrRJtOuZ",
        "colab_type": "text"
      },
      "source": [
        "## Extract Features from our dataset"
      ]
    },
    {
      "cell_type": "code",
      "metadata": {
        "id": "ezXGymkor0pR",
        "colab_type": "code",
        "colab": {
          "base_uri": "https://localhost:8080/",
          "height": 118
        },
        "outputId": "08e3c5a5-e0ba-4db9-b30a-ae19f8f979f8"
      },
      "source": [
        "# Extracting features\n",
        "train_features = xcep.predict(np.array(x_train), batch_size=16, verbose=1)\n",
        "test_features = xcep.predict(np.array(df_test2), batch_size=16, verbose=1)\n",
        "val_features = xcep.predict(np.array(x_val), batch_size=16, verbose=1)\n",
        "\n",
        "# Current shape of features\n",
        "print(train_features.shape)\n",
        "print(test_features.shape)\n",
        "print(val_features.shape)"
      ],
      "execution_count": null,
      "outputs": [
        {
          "output_type": "stream",
          "text": [
            "48000/48000 [==============================] - 59s 1ms/step\n",
            "10000/10000 [==============================] - 12s 1ms/step\n",
            "12000/12000 [==============================] - 14s 1ms/step\n",
            "(48000, 3, 3, 2048)\n",
            "(10000, 3, 3, 2048)\n",
            "(12000, 3, 3, 2048)\n"
          ],
          "name": "stdout"
        }
      ]
    },
    {
      "cell_type": "markdown",
      "metadata": {
        "id": "GSJntGgHtlw3",
        "colab_type": "text"
      },
      "source": [
        "## Flatten the extracted features"
      ]
    },
    {
      "cell_type": "code",
      "metadata": {
        "id": "CcizNFEOtol8",
        "colab_type": "code",
        "colab": {
          "base_uri": "https://localhost:8080/",
          "height": 67
        },
        "outputId": "81cee997-1173-4e78-94f8-605f4e257268"
      },
      "source": [
        "# Flatten extracted features\n",
        "train_flatten = np.reshape(train_features, (48000, 3*3*2048))\n",
        "test_flatten = np.reshape(test_features, (10000, 3*3*2048))\n",
        "val_flatten = np.reshape(val_features, (12000, 3*3*2048))\n",
        "\n",
        "# New shape of features\n",
        "print(train_flatten.shape)\n",
        "print(test_flatten.shape)\n",
        "print(val_flatten.shape)"
      ],
      "execution_count": null,
      "outputs": [
        {
          "output_type": "stream",
          "text": [
            "(48000, 18432)\n",
            "(10000, 18432)\n",
            "(12000, 18432)\n"
          ],
          "name": "stdout"
        }
      ]
    },
    {
      "cell_type": "markdown",
      "metadata": {
        "id": "bpShymeBuIMl",
        "colab_type": "text"
      },
      "source": [
        "## Adding Dense layers for training and validation"
      ]
    },
    {
      "cell_type": "code",
      "metadata": {
        "id": "4QHMwsiwQvdc",
        "trusted": true,
        "colab_type": "code",
        "colab": {}
      },
      "source": [
        "# Add dense layers to the model\n",
        "\n",
        "# epoch = 100\n",
        "\n",
        "xcep = models.Sequential()\n",
        "xcep.add(layers.Dense(18432, activation='relu', input_dim=(3*3*2048)))\n",
        "xcep.add(layers.Dropout(0.5))\n",
        "\n",
        "xcep.add(layers.Dense(2048, activation='relu'))\n",
        "xcep.add(layers.Dropout(0.5))\n",
        "\n",
        "xcep.add(layers.Dense(64, activation='relu'))\n",
        "xcep.add(layers.Dropout(0.5))\n",
        "\n",
        "xcep.add(layers.LeakyReLU(alpha=0.1))\n",
        "\n",
        "xcep.add(layers.Dense(5, activation= 'softmax'))\n"
      ],
      "execution_count": null,
      "outputs": []
    },
    {
      "cell_type": "markdown",
      "metadata": {
        "id": "Zn0cwqB-ugGC",
        "colab_type": "text"
      },
      "source": [
        "## Compile the model"
      ]
    },
    {
      "cell_type": "code",
      "metadata": {
        "id": "tSiqmTOBuAG_",
        "colab_type": "code",
        "colab": {}
      },
      "source": [
        "# Compile the model.\n",
        "opt = Adam(lr=0.001, beta_1=0.9, beta_2=0.999 )\n",
        "\n",
        "xcep.compile(loss='categorical_crossentropy',optimizer= opt, metrics=['acc'])"
      ],
      "execution_count": null,
      "outputs": []
    },
    {
      "cell_type": "markdown",
      "metadata": {
        "id": "0vVnH5-Buq2J",
        "colab_type": "text"
      },
      "source": [
        "## Train the Model"
      ]
    },
    {
      "cell_type": "code",
      "metadata": {
        "id": "6G6RcxswulEZ",
        "colab_type": "code",
        "colab": {
          "base_uri": "https://localhost:8080/",
          "height": 1000
        },
        "outputId": "ff8488ba-c0ed-454b-c5b6-8d1909794d10"
      },
      "source": [
        "rop = ReduceLROnPlateau(monitor='val_loss',\n",
        "                        factor=0.2,\n",
        "                        patience=2,\n",
        "                        verbose=1,\n",
        "                        mode='auto',\n",
        "                        min_delta=0.0001,\n",
        "                        cooldown=2,\n",
        "                        min_lr=0)\n",
        "\n",
        "lr = LearningRateScheduler(lambda x: 1e-3 * 0.9 ** x)\n",
        "\n",
        "# Train the the model\n",
        "xception_train = xcep.fit(train_flatten, tr_y_train, epochs=30, batch_size= 128,\n",
        "                    validation_data=(val_flatten, tr_y_val),\n",
        "                    callbacks=[lr])"
      ],
      "execution_count": null,
      "outputs": [
        {
          "output_type": "stream",
          "text": [
            "Epoch 1/30\n",
            "375/375 [==============================] - 25s 68ms/step - loss: 1.5362 - acc: 0.2700 - val_loss: 1.4441 - val_acc: 0.3348 - lr: 0.0010\n",
            "Epoch 2/30\n",
            "375/375 [==============================] - 25s 67ms/step - loss: 1.4505 - acc: 0.3213 - val_loss: 1.4160 - val_acc: 0.3456 - lr: 9.0000e-04\n",
            "Epoch 3/30\n",
            "375/375 [==============================] - 25s 67ms/step - loss: 1.4284 - acc: 0.3343 - val_loss: 1.3966 - val_acc: 0.3547 - lr: 8.1000e-04\n",
            "Epoch 4/30\n",
            "375/375 [==============================] - 25s 67ms/step - loss: 1.4093 - acc: 0.3489 - val_loss: 1.3727 - val_acc: 0.3736 - lr: 7.2900e-04\n",
            "Epoch 5/30\n",
            "375/375 [==============================] - 25s 68ms/step - loss: 1.3952 - acc: 0.3582 - val_loss: 1.3609 - val_acc: 0.3836 - lr: 6.5610e-04\n",
            "Epoch 6/30\n",
            "375/375 [==============================] - 25s 67ms/step - loss: 1.3844 - acc: 0.3680 - val_loss: 1.3529 - val_acc: 0.3862 - lr: 5.9049e-04\n",
            "Epoch 7/30\n",
            "375/375 [==============================] - 25s 67ms/step - loss: 1.3732 - acc: 0.3770 - val_loss: 1.3362 - val_acc: 0.3971 - lr: 5.3144e-04\n",
            "Epoch 8/30\n",
            "375/375 [==============================] - 25s 68ms/step - loss: 1.3612 - acc: 0.3856 - val_loss: 1.3363 - val_acc: 0.4005 - lr: 4.7830e-04\n",
            "Epoch 9/30\n",
            "375/375 [==============================] - 25s 67ms/step - loss: 1.3546 - acc: 0.3918 - val_loss: 1.3236 - val_acc: 0.4104 - lr: 4.3047e-04\n",
            "Epoch 10/30\n",
            "375/375 [==============================] - 25s 67ms/step - loss: 1.3465 - acc: 0.3956 - val_loss: 1.3208 - val_acc: 0.4108 - lr: 3.8742e-04\n",
            "Epoch 11/30\n",
            "375/375 [==============================] - 25s 68ms/step - loss: 1.3398 - acc: 0.4006 - val_loss: 1.3158 - val_acc: 0.4116 - lr: 3.4868e-04\n",
            "Epoch 12/30\n",
            "375/375 [==============================] - 25s 67ms/step - loss: 1.3358 - acc: 0.4031 - val_loss: 1.3131 - val_acc: 0.4136 - lr: 3.1381e-04\n",
            "Epoch 13/30\n",
            "375/375 [==============================] - 25s 67ms/step - loss: 1.3312 - acc: 0.4048 - val_loss: 1.3090 - val_acc: 0.4168 - lr: 2.8243e-04\n",
            "Epoch 14/30\n",
            "375/375 [==============================] - 25s 67ms/step - loss: 1.3271 - acc: 0.4089 - val_loss: 1.3023 - val_acc: 0.4242 - lr: 2.5419e-04\n",
            "Epoch 15/30\n",
            "375/375 [==============================] - 25s 67ms/step - loss: 1.3233 - acc: 0.4110 - val_loss: 1.2997 - val_acc: 0.4274 - lr: 2.2877e-04\n",
            "Epoch 16/30\n",
            "375/375 [==============================] - 25s 67ms/step - loss: 1.3200 - acc: 0.4128 - val_loss: 1.2973 - val_acc: 0.4250 - lr: 2.0589e-04\n",
            "Epoch 17/30\n",
            "375/375 [==============================] - 25s 67ms/step - loss: 1.3154 - acc: 0.4146 - val_loss: 1.3023 - val_acc: 0.4210 - lr: 1.8530e-04\n",
            "Epoch 18/30\n",
            "375/375 [==============================] - 25s 67ms/step - loss: 1.3131 - acc: 0.4189 - val_loss: 1.2969 - val_acc: 0.4254 - lr: 1.6677e-04\n",
            "Epoch 19/30\n",
            "375/375 [==============================] - 25s 67ms/step - loss: 1.3110 - acc: 0.4206 - val_loss: 1.2943 - val_acc: 0.4277 - lr: 1.5009e-04\n",
            "Epoch 20/30\n",
            "375/375 [==============================] - 25s 67ms/step - loss: 1.3085 - acc: 0.4203 - val_loss: 1.2908 - val_acc: 0.4304 - lr: 1.3509e-04\n",
            "Epoch 21/30\n",
            "375/375 [==============================] - 25s 68ms/step - loss: 1.3055 - acc: 0.4209 - val_loss: 1.2906 - val_acc: 0.4256 - lr: 1.2158e-04\n",
            "Epoch 22/30\n",
            "375/375 [==============================] - 25s 67ms/step - loss: 1.3023 - acc: 0.4248 - val_loss: 1.2877 - val_acc: 0.4329 - lr: 1.0942e-04\n",
            "Epoch 23/30\n",
            "375/375 [==============================] - 25s 67ms/step - loss: 1.2993 - acc: 0.4260 - val_loss: 1.2868 - val_acc: 0.4315 - lr: 9.8477e-05\n",
            "Epoch 24/30\n",
            "375/375 [==============================] - 25s 67ms/step - loss: 1.2999 - acc: 0.4253 - val_loss: 1.2868 - val_acc: 0.4293 - lr: 8.8629e-05\n",
            "Epoch 25/30\n",
            "375/375 [==============================] - 25s 67ms/step - loss: 1.2966 - acc: 0.4282 - val_loss: 1.2850 - val_acc: 0.4332 - lr: 7.9766e-05\n",
            "Epoch 26/30\n",
            "375/375 [==============================] - 25s 67ms/step - loss: 1.2973 - acc: 0.4299 - val_loss: 1.2839 - val_acc: 0.4320 - lr: 7.1790e-05\n",
            "Epoch 27/30\n",
            "375/375 [==============================] - 25s 67ms/step - loss: 1.2950 - acc: 0.4296 - val_loss: 1.2832 - val_acc: 0.4339 - lr: 6.4611e-05\n",
            "Epoch 28/30\n",
            "375/375 [==============================] - 25s 67ms/step - loss: 1.2935 - acc: 0.4299 - val_loss: 1.2823 - val_acc: 0.4345 - lr: 5.8150e-05\n",
            "Epoch 29/30\n",
            "375/375 [==============================] - 25s 68ms/step - loss: 1.2935 - acc: 0.4294 - val_loss: 1.2847 - val_acc: 0.4322 - lr: 5.2335e-05\n",
            "Epoch 30/30\n",
            "375/375 [==============================] - 25s 67ms/step - loss: 1.2911 - acc: 0.4317 - val_loss: 1.2819 - val_acc: 0.4351 - lr: 4.7101e-05\n"
          ],
          "name": "stdout"
        }
      ]
    },
    {
      "cell_type": "markdown",
      "metadata": {
        "id": "wV22il1DxtFn",
        "colab_type": "text"
      },
      "source": [
        "## Plots"
      ]
    },
    {
      "cell_type": "code",
      "metadata": {
        "colab_type": "code",
        "id": "wSN5cuXWxvSk",
        "colab": {
          "base_uri": "https://localhost:8080/",
          "height": 697
        },
        "outputId": "ee543410-aade-4d0c-d361-b0acefb4e0bb"
      },
      "source": [
        "accuracy = xception_train.history['acc']\n",
        "val_accuracy = xception_train.history['val_acc']\n",
        "\n",
        "loss = xception_train.history['loss']\n",
        "val_loss = xception_train.history['val_loss']\n",
        "\n",
        "epochs = range(len(accuracy))\n",
        "\n",
        "plt.figure(figsize=(12, 5))\n",
        "\n",
        "\n",
        "plt.plot(epochs, accuracy, 'b-', label='Training accuracy')\n",
        "plt.plot(epochs, val_accuracy, 'r-', label='Validation accuracy')\n",
        "plt.title('Training and Validation Accuracy Vs Epochs', fontsize=15)\n",
        "plt.xlabel('Epochs', fontsize=15)\n",
        "plt.ylabel('Accuracy', fontsize=15)\n",
        "plt.legend()\n",
        "\n",
        "plt.figure(figsize=(12, 5))\n",
        "\n",
        "plt.plot(epochs, loss, 'b-', label='Training loss')\n",
        "plt.plot(epochs, val_loss, 'r-', label='Validation loss')\n",
        "plt.title('Training and Validation loss Vs Epochs', fontsize=15)\n",
        "plt.xlabel('Epochs', fontsize=15)\n",
        "plt.ylabel('Loss', fontsize=15)\n",
        "plt.legend()\n",
        "plt.show()"
      ],
      "execution_count": null,
      "outputs": [
        {
          "output_type": "display_data",
          "data": {
            "image/png": "[encoded data removed]",
            "text/plain": [
              "<Figure size 864x360 with 1 Axes>"
            ]
          },
          "metadata": {
            "tags": [],
            "needs_background": "light"
          }
        },
        {
          "output_type": "display_data",
          "data": {
            "image/png": "[encoded data removed]",
            "text/plain": [
              "<Figure size 864x360 with 1 Axes>"
            ]
          },
          "metadata": {
            "tags": [],
            "needs_background": "light"
          }
        }
      ]
    },
    {
      "cell_type": "markdown",
      "metadata": {
        "id": "YS90AFrN0ANq",
        "colab_type": "text"
      },
      "source": [
        "# **VGG16**"
      ]
    },
    {
      "cell_type": "markdown",
      "metadata": {
        "id": "_MjA-ynJ84Zb",
        "colab_type": "text"
      },
      "source": [
        "## Preprocess input"
      ]
    },
    {
      "cell_type": "code",
      "metadata": {
        "id": "whoTPP8T86TI",
        "colab_type": "code",
        "colab": {}
      },
      "source": [
        "from tensorflow.keras.applications.vgg16 import preprocess_input\n",
        "\n",
        "tr_x_train = preprocess_input(tr_x_train)\n",
        "tr_x_val = preprocess_input(tr_x_val)\n",
        "tr_df_test2 = preprocess_input(df_test2)"
      ],
      "execution_count": null,
      "outputs": []
    },
    {
      "cell_type": "markdown",
      "metadata": {
        "id": "4ktoCPkH0EnL",
        "colab_type": "text"
      },
      "source": [
        "## Load pretrained model"
      ]
    },
    {
      "cell_type": "code",
      "metadata": {
        "id": "8LLit8svxugc",
        "colab_type": "code",
        "colab": {
          "base_uri": "https://localhost:8080/",
          "height": 790
        },
        "outputId": "ae30fe7f-e576-437d-d72b-1736f7d9acf4"
      },
      "source": [
        "vgg = VGG16(include_top= False, weights= 'imagenet', input_shape= (48, 48, 3))\n",
        "\n",
        "vgg.summary()"
      ],
      "execution_count": null,
      "outputs": [
        {
          "output_type": "stream",
          "text": [
            "Model: \"vgg16\"\n",
            "_________________________________________________________________\n",
            "Layer (type)                 Output Shape              Param #   \n",
            "=================================================================\n",
            "input_4 (InputLayer)         (None, 48, 48, 3)         0         \n",
            "_________________________________________________________________\n",
            "block1_conv1 (Conv2D)        (None, 48, 48, 64)        1792      \n",
            "_________________________________________________________________\n",
            "block1_conv2 (Conv2D)        (None, 48, 48, 64)        36928     \n",
            "_________________________________________________________________\n",
            "block1_pool (MaxPooling2D)   (None, 24, 24, 64)        0         \n",
            "_________________________________________________________________\n",
            "block2_conv1 (Conv2D)        (None, 24, 24, 128)       73856     \n",
            "_________________________________________________________________\n",
            "block2_conv2 (Conv2D)        (None, 24, 24, 128)       147584    \n",
            "_________________________________________________________________\n",
            "block2_pool (MaxPooling2D)   (None, 12, 12, 128)       0         \n",
            "_________________________________________________________________\n",
            "block3_conv1 (Conv2D)        (None, 12, 12, 256)       295168    \n",
            "_________________________________________________________________\n",
            "block3_conv2 (Conv2D)        (None, 12, 12, 256)       590080    \n",
            "_________________________________________________________________\n",
            "block3_conv3 (Conv2D)        (None, 12, 12, 256)       590080    \n",
            "_________________________________________________________________\n",
            "block3_pool (MaxPooling2D)   (None, 6, 6, 256)         0         \n",
            "_________________________________________________________________\n",
            "block4_conv1 (Conv2D)        (None, 6, 6, 512)         1180160   \n",
            "_________________________________________________________________\n",
            "block4_conv2 (Conv2D)        (None, 6, 6, 512)         2359808   \n",
            "_________________________________________________________________\n",
            "block4_conv3 (Conv2D)        (None, 6, 6, 512)         2359808   \n",
            "_________________________________________________________________\n",
            "block4_pool (MaxPooling2D)   (None, 3, 3, 512)         0         \n",
            "_________________________________________________________________\n",
            "block5_conv1 (Conv2D)        (None, 3, 3, 512)         2359808   \n",
            "_________________________________________________________________\n",
            "block5_conv2 (Conv2D)        (None, 3, 3, 512)         2359808   \n",
            "_________________________________________________________________\n",
            "block5_conv3 (Conv2D)        (None, 3, 3, 512)         2359808   \n",
            "_________________________________________________________________\n",
            "block5_pool (MaxPooling2D)   (None, 1, 1, 512)         0         \n",
            "=================================================================\n",
            "Total params: 14,714,688\n",
            "Trainable params: 14,714,688\n",
            "Non-trainable params: 0\n",
            "_________________________________________________________________\n"
          ],
          "name": "stdout"
        }
      ]
    },
    {
      "cell_type": "markdown",
      "metadata": {
        "id": "ESmpakrn1I0n",
        "colab_type": "text"
      },
      "source": [
        "## Extract Features"
      ]
    },
    {
      "cell_type": "code",
      "metadata": {
        "id": "33IV0TYc1Kw0",
        "colab_type": "code",
        "colab": {
          "base_uri": "https://localhost:8080/",
          "height": 118
        },
        "outputId": "3bf86254-aa74-4eac-e594-25121746a47d"
      },
      "source": [
        "# Extracting features\n",
        "train_features = vgg.predict(np.array(tr_x_train), batch_size=16, verbose=1)\n",
        "test_features = vgg.predict(np.array(tr_df_test2), batch_size=16, verbose=1)\n",
        "val_features = vgg.predict(np.array(tr_x_val), batch_size=16, verbose=1)\n",
        "\n",
        "# Current shape of features\n",
        "print(train_features.shape)\n",
        "print(test_features.shape)\n",
        "print(val_features.shape)"
      ],
      "execution_count": null,
      "outputs": [
        {
          "output_type": "stream",
          "text": [
            "48000/48000 [==============================] - 19s 394us/step\n",
            "10000/10000 [==============================] - 4s 394us/step\n",
            "12000/12000 [==============================] - 5s 393us/step\n",
            "(48000, 1, 1, 512)\n",
            "(10000, 1, 1, 512)\n",
            "(12000, 1, 1, 512)\n"
          ],
          "name": "stdout"
        }
      ]
    },
    {
      "cell_type": "markdown",
      "metadata": {
        "id": "14XBP57r1gFM",
        "colab_type": "text"
      },
      "source": [
        "## Flatten"
      ]
    },
    {
      "cell_type": "code",
      "metadata": {
        "id": "Qm5c4xsq1heC",
        "colab_type": "code",
        "colab": {
          "base_uri": "https://localhost:8080/",
          "height": 67
        },
        "outputId": "18976ad8-5424-46bd-bad2-4f2acca12add"
      },
      "source": [
        "# Flatten extracted features\n",
        "train_flatten = np.reshape(train_features, (48000, 1*1*512))\n",
        "test_flatten = np.reshape(test_features, (10000, 1*1*512))\n",
        "val_flatten = np.reshape(val_features, (12000, 1*1*512))\n",
        "\n",
        "# New shape of features\n",
        "print(train_flatten.shape)\n",
        "print(test_flatten.shape)\n",
        "print(val_flatten.shape)"
      ],
      "execution_count": null,
      "outputs": [
        {
          "output_type": "stream",
          "text": [
            "(48000, 512)\n",
            "(10000, 512)\n",
            "(12000, 512)\n"
          ],
          "name": "stdout"
        }
      ]
    },
    {
      "cell_type": "markdown",
      "metadata": {
        "id": "Mpb72e_21tht",
        "colab_type": "text"
      },
      "source": [
        "## Add dense layers"
      ]
    },
    {
      "cell_type": "code",
      "metadata": {
        "id": "OnGnNX6h1vKp",
        "colab_type": "code",
        "colab": {}
      },
      "source": [
        "# Add dense layers to the model\n",
        "\n",
        "n_train = train_flatten.shape[0]\n",
        "n_val = val_flatten.shape[0]\n",
        "epoch = 100\n",
        "\n",
        "vgg = models.Sequential()\n",
        "\n",
        "vgg.add(layers.Dense(512, activation='relu', input_dim=(1*1*512)))\n",
        "vgg.add(layers.Dropout(0.5))\n",
        "\n",
        "vgg.add(layers.Dense(64, activation='relu'))\n",
        "vgg.add(layers.Dropout(0.5))\n",
        "\n",
        "\n",
        "vgg.add(layers.LeakyReLU(alpha=0.1))\n",
        "\n",
        "vgg.add(layers.Dense(5, activation= 'softmax'))\n",
        "\n"
      ],
      "execution_count": null,
      "outputs": []
    },
    {
      "cell_type": "markdown",
      "metadata": {
        "id": "p_znepvu3DHf",
        "colab_type": "text"
      },
      "source": [
        "## Compile the model"
      ]
    },
    {
      "cell_type": "code",
      "metadata": {
        "id": "h-pohuP12Nki",
        "colab_type": "code",
        "colab": {}
      },
      "source": [
        "# Compile the model.\n",
        "opt = Adam(lr=0.001, beta_1=0.9, beta_2=0.999 )\n",
        "\n",
        "vgg.compile(loss='categorical_crossentropy',optimizer= opt, metrics=['acc'])"
      ],
      "execution_count": null,
      "outputs": []
    },
    {
      "cell_type": "markdown",
      "metadata": {
        "id": "LoxAAaMG3OVc",
        "colab_type": "text"
      },
      "source": [
        "## Train the model"
      ]
    },
    {
      "cell_type": "code",
      "metadata": {
        "id": "qoN7-Kw33QTb",
        "colab_type": "code",
        "colab": {
          "base_uri": "https://localhost:8080/",
          "height": 1000
        },
        "outputId": "f46a77f4-47af-46eb-8b79-12ce15ad8bcd"
      },
      "source": [
        "rop = ReduceLROnPlateau(monitor='val_loss',\n",
        "                        factor=0.2,\n",
        "                        patience=2,\n",
        "                        verbose=1,\n",
        "                        mode='auto',\n",
        "                        min_detla=0.0001,\n",
        "                        cooldown=2,\n",
        "                        min_lr=0)\n",
        "\n",
        "es = callbacks.EarlyStopping(monitor='val_loss',\n",
        "                                        min_delta=0,\n",
        "                                        patience=7,\n",
        "                                        verbose=1,\n",
        "                                        mode='auto')\n",
        "\n",
        "lr = LearningRateScheduler(lambda x: 1e-3 * 0.9 ** x)\n",
        "\n",
        "# callback = [rop, es]\n",
        "\n",
        "# Train the the model\n",
        "vgg_train = vgg.fit(train_flatten, tr_y_train, epochs=100, validation_data=(val_flatten, tr_y_val),\n",
        "                    callbacks= [lr])"
      ],
      "execution_count": null,
      "outputs": [
        {
          "output_type": "stream",
          "text": [
            "Epoch 1/100\n",
            "1500/1500 [==============================] - 5s 3ms/step - loss: 1.4572 - acc: 0.4223 - val_loss: 0.9188 - val_acc: 0.6013 - lr: 0.0010\n",
            "Epoch 2/100\n",
            "1500/1500 [==============================] - 5s 3ms/step - loss: 1.0219 - acc: 0.5446 - val_loss: 0.7938 - val_acc: 0.6739 - lr: 9.0000e-04\n",
            "Epoch 3/100\n",
            "1500/1500 [==============================] - 5s 3ms/step - loss: 0.9233 - acc: 0.5933 - val_loss: 0.7390 - val_acc: 0.6904 - lr: 8.1000e-04\n",
            "Epoch 4/100\n",
            "1500/1500 [==============================] - 5s 3ms/step - loss: 0.8471 - acc: 0.6291 - val_loss: 0.7075 - val_acc: 0.7005 - lr: 7.2900e-04\n",
            "Epoch 5/100\n",
            "1500/1500 [==============================] - 5s 3ms/step - loss: 0.7960 - acc: 0.6531 - val_loss: 0.6698 - val_acc: 0.7209 - lr: 6.5610e-04\n",
            "Epoch 6/100\n",
            "1500/1500 [==============================] - 5s 3ms/step - loss: 0.7517 - acc: 0.6751 - val_loss: 0.6555 - val_acc: 0.7320 - lr: 5.9049e-04\n",
            "Epoch 7/100\n",
            "1500/1500 [==============================] - 5s 3ms/step - loss: 0.7201 - acc: 0.6888 - val_loss: 0.6398 - val_acc: 0.7356 - lr: 5.3144e-04\n",
            "Epoch 8/100\n",
            "1500/1500 [==============================] - 5s 3ms/step - loss: 0.6917 - acc: 0.7021 - val_loss: 0.6173 - val_acc: 0.7420 - lr: 4.7830e-04\n",
            "Epoch 9/100\n",
            "1500/1500 [==============================] - 5s 3ms/step - loss: 0.6676 - acc: 0.7122 - val_loss: 0.6159 - val_acc: 0.7428 - lr: 4.3047e-04\n",
            "Epoch 10/100\n",
            "1500/1500 [==============================] - 5s 3ms/step - loss: 0.6458 - acc: 0.7219 - val_loss: 0.6138 - val_acc: 0.7414 - lr: 3.8742e-04\n",
            "Epoch 11/100\n",
            "1500/1500 [==============================] - 5s 3ms/step - loss: 0.6315 - acc: 0.7301 - val_loss: 0.6030 - val_acc: 0.7456 - lr: 3.4868e-04\n",
            "Epoch 12/100\n",
            "1500/1500 [==============================] - 5s 3ms/step - loss: 0.6158 - acc: 0.7366 - val_loss: 0.6001 - val_acc: 0.7499 - lr: 3.1381e-04\n",
            "Epoch 13/100\n",
            "1500/1500 [==============================] - 5s 3ms/step - loss: 0.5967 - acc: 0.7437 - val_loss: 0.5980 - val_acc: 0.7480 - lr: 2.8243e-04\n",
            "Epoch 14/100\n",
            "1500/1500 [==============================] - 5s 3ms/step - loss: 0.5776 - acc: 0.7528 - val_loss: 0.6018 - val_acc: 0.7458 - lr: 2.5419e-04\n",
            "Epoch 15/100\n",
            "1500/1500 [==============================] - 5s 3ms/step - loss: 0.5666 - acc: 0.7572 - val_loss: 0.5996 - val_acc: 0.7496 - lr: 2.2877e-04\n",
            "Epoch 16/100\n",
            "1500/1500 [==============================] - 5s 3ms/step - loss: 0.5552 - acc: 0.7643 - val_loss: 0.5912 - val_acc: 0.7552 - lr: 2.0589e-04\n",
            "Epoch 17/100\n",
            "1500/1500 [==============================] - 5s 3ms/step - loss: 0.5478 - acc: 0.7653 - val_loss: 0.5983 - val_acc: 0.7577 - lr: 1.8530e-04\n",
            "Epoch 18/100\n",
            "1500/1500 [==============================] - 5s 3ms/step - loss: 0.5337 - acc: 0.7715 - val_loss: 0.5953 - val_acc: 0.7577 - lr: 1.6677e-04\n",
            "Epoch 19/100\n",
            "1500/1500 [==============================] - 5s 3ms/step - loss: 0.5227 - acc: 0.7778 - val_loss: 0.6009 - val_acc: 0.7582 - lr: 1.5009e-04\n",
            "Epoch 20/100\n",
            "1500/1500 [==============================] - 5s 3ms/step - loss: 0.5137 - acc: 0.7801 - val_loss: 0.6069 - val_acc: 0.7586 - lr: 1.3509e-04\n",
            "Epoch 21/100\n",
            "1500/1500 [==============================] - 5s 3ms/step - loss: 0.5062 - acc: 0.7853 - val_loss: 0.6066 - val_acc: 0.7567 - lr: 1.2158e-04\n",
            "Epoch 22/100\n",
            "1500/1500 [==============================] - 5s 3ms/step - loss: 0.5011 - acc: 0.7849 - val_loss: 0.6077 - val_acc: 0.7623 - lr: 1.0942e-04\n",
            "Epoch 23/100\n",
            "1500/1500 [==============================] - 5s 3ms/step - loss: 0.4935 - acc: 0.7898 - val_loss: 0.6114 - val_acc: 0.7598 - lr: 9.8477e-05\n",
            "Epoch 24/100\n",
            "1500/1500 [==============================] - 5s 3ms/step - loss: 0.4896 - acc: 0.7921 - val_loss: 0.6155 - val_acc: 0.7621 - lr: 8.8629e-05\n",
            "Epoch 25/100\n",
            "1500/1500 [==============================] - 5s 3ms/step - loss: 0.4778 - acc: 0.7972 - val_loss: 0.6172 - val_acc: 0.7622 - lr: 7.9766e-05\n",
            "Epoch 26/100\n",
            "1500/1500 [==============================] - 5s 3ms/step - loss: 0.4774 - acc: 0.7968 - val_loss: 0.6217 - val_acc: 0.7594 - lr: 7.1790e-05\n",
            "Epoch 27/100\n",
            "1500/1500 [==============================] - 5s 3ms/step - loss: 0.4717 - acc: 0.7969 - val_loss: 0.6221 - val_acc: 0.7598 - lr: 6.4611e-05\n",
            "Epoch 28/100\n",
            "1500/1500 [==============================] - 5s 3ms/step - loss: 0.4690 - acc: 0.8011 - val_loss: 0.6225 - val_acc: 0.7593 - lr: 5.8150e-05\n",
            "Epoch 29/100\n",
            "1500/1500 [==============================] - 5s 3ms/step - loss: 0.4664 - acc: 0.8010 - val_loss: 0.6252 - val_acc: 0.7615 - lr: 5.2335e-05\n",
            "Epoch 30/100\n",
            "1500/1500 [==============================] - 5s 3ms/step - loss: 0.4634 - acc: 0.8044 - val_loss: 0.6261 - val_acc: 0.7611 - lr: 4.7101e-05\n",
            "Epoch 31/100\n",
            "1500/1500 [==============================] - 5s 3ms/step - loss: 0.4561 - acc: 0.8068 - val_loss: 0.6318 - val_acc: 0.7621 - lr: 4.2391e-05\n",
            "Epoch 32/100\n",
            "1500/1500 [==============================] - 5s 3ms/step - loss: 0.4559 - acc: 0.8065 - val_loss: 0.6276 - val_acc: 0.7628 - lr: 3.8152e-05\n",
            "Epoch 33/100\n",
            "1500/1500 [==============================] - 5s 3ms/step - loss: 0.4558 - acc: 0.8049 - val_loss: 0.6311 - val_acc: 0.7617 - lr: 3.4337e-05\n",
            "Epoch 34/100\n",
            "1500/1500 [==============================] - 5s 3ms/step - loss: 0.4508 - acc: 0.8082 - val_loss: 0.6324 - val_acc: 0.7610 - lr: 3.0903e-05\n",
            "Epoch 35/100\n",
            "1500/1500 [==============================] - 5s 3ms/step - loss: 0.4489 - acc: 0.8091 - val_loss: 0.6345 - val_acc: 0.7603 - lr: 2.7813e-05\n",
            "Epoch 36/100\n",
            "1500/1500 [==============================] - 5s 3ms/step - loss: 0.4472 - acc: 0.8109 - val_loss: 0.6375 - val_acc: 0.7607 - lr: 2.5032e-05\n",
            "Epoch 37/100\n",
            "1500/1500 [==============================] - 5s 3ms/step - loss: 0.4422 - acc: 0.8106 - val_loss: 0.6382 - val_acc: 0.7609 - lr: 2.2528e-05\n",
            "Epoch 38/100\n",
            "1500/1500 [==============================] - 5s 3ms/step - loss: 0.4427 - acc: 0.8127 - val_loss: 0.6379 - val_acc: 0.7615 - lr: 2.0276e-05\n",
            "Epoch 39/100\n",
            "1500/1500 [==============================] - 5s 3ms/step - loss: 0.4442 - acc: 0.8123 - val_loss: 0.6394 - val_acc: 0.7615 - lr: 1.8248e-05\n",
            "Epoch 40/100\n",
            "1500/1500 [==============================] - 5s 4ms/step - loss: 0.4392 - acc: 0.8145 - val_loss: 0.6401 - val_acc: 0.7635 - lr: 1.6423e-05\n",
            "Epoch 41/100\n",
            "1500/1500 [==============================] - 5s 3ms/step - loss: 0.4395 - acc: 0.8133 - val_loss: 0.6423 - val_acc: 0.7618 - lr: 1.4781e-05\n",
            "Epoch 42/100\n",
            "1500/1500 [==============================] - 5s 3ms/step - loss: 0.4384 - acc: 0.8140 - val_loss: 0.6421 - val_acc: 0.7624 - lr: 1.3303e-05\n",
            "Epoch 43/100\n",
            "1500/1500 [==============================] - 5s 3ms/step - loss: 0.4386 - acc: 0.8141 - val_loss: 0.6421 - val_acc: 0.7617 - lr: 1.1973e-05\n",
            "Epoch 44/100\n",
            "1500/1500 [==============================] - 5s 3ms/step - loss: 0.4393 - acc: 0.8129 - val_loss: 0.6427 - val_acc: 0.7607 - lr: 1.0775e-05\n",
            "Epoch 45/100\n",
            "1500/1500 [==============================] - 5s 3ms/step - loss: 0.4361 - acc: 0.8149 - val_loss: 0.6440 - val_acc: 0.7628 - lr: 9.6977e-06\n",
            "Epoch 46/100\n",
            "1500/1500 [==============================] - 5s 3ms/step - loss: 0.4336 - acc: 0.8161 - val_loss: 0.6444 - val_acc: 0.7630 - lr: 8.7280e-06\n",
            "Epoch 47/100\n",
            "1500/1500 [==============================] - 5s 3ms/step - loss: 0.4353 - acc: 0.8151 - val_loss: 0.6449 - val_acc: 0.7632 - lr: 7.8552e-06\n",
            "Epoch 48/100\n",
            "1500/1500 [==============================] - 5s 3ms/step - loss: 0.4334 - acc: 0.8161 - val_loss: 0.6454 - val_acc: 0.7615 - lr: 7.0697e-06\n",
            "Epoch 49/100\n",
            "1500/1500 [==============================] - 5s 3ms/step - loss: 0.4351 - acc: 0.8146 - val_loss: 0.6457 - val_acc: 0.7628 - lr: 6.3627e-06\n",
            "Epoch 50/100\n",
            "1500/1500 [==============================] - 5s 3ms/step - loss: 0.4333 - acc: 0.8152 - val_loss: 0.6464 - val_acc: 0.7626 - lr: 5.7264e-06\n",
            "Epoch 51/100\n",
            "1500/1500 [==============================] - 5s 3ms/step - loss: 0.4343 - acc: 0.8176 - val_loss: 0.6469 - val_acc: 0.7620 - lr: 5.1538e-06\n",
            "Epoch 52/100\n",
            "1500/1500 [==============================] - 5s 3ms/step - loss: 0.4333 - acc: 0.8141 - val_loss: 0.6473 - val_acc: 0.7630 - lr: 4.6384e-06\n",
            "Epoch 53/100\n",
            "1500/1500 [==============================] - 5s 3ms/step - loss: 0.4291 - acc: 0.8180 - val_loss: 0.6470 - val_acc: 0.7626 - lr: 4.1746e-06\n",
            "Epoch 54/100\n",
            "1500/1500 [==============================] - 5s 3ms/step - loss: 0.4298 - acc: 0.8183 - val_loss: 0.6470 - val_acc: 0.7628 - lr: 3.7571e-06\n",
            "Epoch 55/100\n",
            "1500/1500 [==============================] - 5s 3ms/step - loss: 0.4302 - acc: 0.8198 - val_loss: 0.6474 - val_acc: 0.7638 - lr: 3.3814e-06\n",
            "Epoch 56/100\n",
            "1500/1500 [==============================] - 5s 3ms/step - loss: 0.4331 - acc: 0.8158 - val_loss: 0.6474 - val_acc: 0.7627 - lr: 3.0433e-06\n",
            "Epoch 57/100\n",
            "1500/1500 [==============================] - 5s 3ms/step - loss: 0.4288 - acc: 0.8188 - val_loss: 0.6478 - val_acc: 0.7628 - lr: 2.7389e-06\n",
            "Epoch 58/100\n",
            "1500/1500 [==============================] - 5s 3ms/step - loss: 0.4301 - acc: 0.8169 - val_loss: 0.6477 - val_acc: 0.7625 - lr: 2.4650e-06\n",
            "Epoch 59/100\n",
            "1500/1500 [==============================] - 5s 3ms/step - loss: 0.4309 - acc: 0.8172 - val_loss: 0.6479 - val_acc: 0.7623 - lr: 2.2185e-06\n",
            "Epoch 60/100\n",
            "1500/1500 [==============================] - 5s 3ms/step - loss: 0.4275 - acc: 0.8188 - val_loss: 0.6483 - val_acc: 0.7626 - lr: 1.9967e-06\n",
            "Epoch 61/100\n",
            "1500/1500 [==============================] - 5s 3ms/step - loss: 0.4320 - acc: 0.8170 - val_loss: 0.6483 - val_acc: 0.7630 - lr: 1.7970e-06\n",
            "Epoch 62/100\n",
            "1500/1500 [==============================] - 5s 3ms/step - loss: 0.4276 - acc: 0.8179 - val_loss: 0.6486 - val_acc: 0.7630 - lr: 1.6173e-06\n",
            "Epoch 63/100\n",
            "1500/1500 [==============================] - 5s 3ms/step - loss: 0.4298 - acc: 0.8192 - val_loss: 0.6487 - val_acc: 0.7628 - lr: 1.4556e-06\n",
            "Epoch 64/100\n",
            "1500/1500 [==============================] - 5s 3ms/step - loss: 0.4306 - acc: 0.8187 - val_loss: 0.6486 - val_acc: 0.7629 - lr: 1.3100e-06\n",
            "Epoch 65/100\n",
            "1500/1500 [==============================] - 5s 3ms/step - loss: 0.4318 - acc: 0.8182 - val_loss: 0.6486 - val_acc: 0.7630 - lr: 1.1790e-06\n",
            "Epoch 66/100\n",
            "1500/1500 [==============================] - 5s 3ms/step - loss: 0.4305 - acc: 0.8164 - val_loss: 0.6487 - val_acc: 0.7626 - lr: 1.0611e-06\n",
            "Epoch 67/100\n",
            "1500/1500 [==============================] - 5s 3ms/step - loss: 0.4278 - acc: 0.8181 - val_loss: 0.6488 - val_acc: 0.7628 - lr: 9.5500e-07\n",
            "Epoch 68/100\n",
            "1500/1500 [==============================] - 5s 3ms/step - loss: 0.4311 - acc: 0.8187 - val_loss: 0.6489 - val_acc: 0.7623 - lr: 8.5950e-07\n",
            "Epoch 69/100\n",
            "1500/1500 [==============================] - 5s 3ms/step - loss: 0.4288 - acc: 0.8179 - val_loss: 0.6489 - val_acc: 0.7623 - lr: 7.7355e-07\n",
            "Epoch 70/100\n",
            "1500/1500 [==============================] - 5s 3ms/step - loss: 0.4309 - acc: 0.8193 - val_loss: 0.6490 - val_acc: 0.7623 - lr: 6.9620e-07\n",
            "Epoch 71/100\n",
            "1500/1500 [==============================] - 5s 3ms/step - loss: 0.4242 - acc: 0.8201 - val_loss: 0.6491 - val_acc: 0.7626 - lr: 6.2658e-07\n",
            "Epoch 72/100\n",
            "1500/1500 [==============================] - 5s 3ms/step - loss: 0.4340 - acc: 0.8179 - val_loss: 0.6491 - val_acc: 0.7625 - lr: 5.6392e-07\n",
            "Epoch 73/100\n",
            "1500/1500 [==============================] - 5s 3ms/step - loss: 0.4300 - acc: 0.8183 - val_loss: 0.6491 - val_acc: 0.7630 - lr: 5.0753e-07\n",
            "Epoch 74/100\n",
            "1500/1500 [==============================] - 5s 3ms/step - loss: 0.4302 - acc: 0.8175 - val_loss: 0.6491 - val_acc: 0.7628 - lr: 4.5678e-07\n",
            "Epoch 75/100\n",
            "1500/1500 [==============================] - 5s 3ms/step - loss: 0.4317 - acc: 0.8183 - val_loss: 0.6491 - val_acc: 0.7629 - lr: 4.1110e-07\n",
            "Epoch 76/100\n",
            "1500/1500 [==============================] - 5s 3ms/step - loss: 0.4285 - acc: 0.8179 - val_loss: 0.6492 - val_acc: 0.7628 - lr: 3.6999e-07\n",
            "Epoch 77/100\n",
            "1500/1500 [==============================] - 5s 3ms/step - loss: 0.4288 - acc: 0.8190 - val_loss: 0.6492 - val_acc: 0.7627 - lr: 3.3299e-07\n",
            "Epoch 78/100\n",
            "1500/1500 [==============================] - 5s 3ms/step - loss: 0.4288 - acc: 0.8191 - val_loss: 0.6493 - val_acc: 0.7624 - lr: 2.9969e-07\n",
            "Epoch 79/100\n",
            "1500/1500 [==============================] - 5s 3ms/step - loss: 0.4345 - acc: 0.8171 - val_loss: 0.6493 - val_acc: 0.7623 - lr: 2.6972e-07\n",
            "Epoch 80/100\n",
            "1500/1500 [==============================] - 5s 3ms/step - loss: 0.4261 - acc: 0.8210 - val_loss: 0.6493 - val_acc: 0.7624 - lr: 2.4275e-07\n",
            "Epoch 81/100\n",
            "1500/1500 [==============================] - 5s 3ms/step - loss: 0.4295 - acc: 0.8166 - val_loss: 0.6494 - val_acc: 0.7626 - lr: 2.1847e-07\n",
            "Epoch 82/100\n",
            "1500/1500 [==============================] - 5s 3ms/step - loss: 0.4258 - acc: 0.8201 - val_loss: 0.6494 - val_acc: 0.7627 - lr: 1.9663e-07\n",
            "Epoch 83/100\n",
            "1500/1500 [==============================] - 5s 3ms/step - loss: 0.4277 - acc: 0.8195 - val_loss: 0.6494 - val_acc: 0.7625 - lr: 1.7696e-07\n",
            "Epoch 84/100\n",
            "1500/1500 [==============================] - 5s 3ms/step - loss: 0.4283 - acc: 0.8189 - val_loss: 0.6494 - val_acc: 0.7625 - lr: 1.5927e-07\n",
            "Epoch 85/100\n",
            "1500/1500 [==============================] - 5s 3ms/step - loss: 0.4305 - acc: 0.8169 - val_loss: 0.6495 - val_acc: 0.7624 - lr: 1.4334e-07\n",
            "Epoch 86/100\n",
            "1500/1500 [==============================] - 5s 3ms/step - loss: 0.4243 - acc: 0.8199 - val_loss: 0.6495 - val_acc: 0.7623 - lr: 1.2901e-07\n",
            "Epoch 87/100\n",
            "1500/1500 [==============================] - 5s 3ms/step - loss: 0.4316 - acc: 0.8175 - val_loss: 0.6495 - val_acc: 0.7623 - lr: 1.1611e-07\n",
            "Epoch 88/100\n",
            "1500/1500 [==============================] - 5s 3ms/step - loss: 0.4291 - acc: 0.8183 - val_loss: 0.6495 - val_acc: 0.7623 - lr: 1.0450e-07\n",
            "Epoch 89/100\n",
            "1500/1500 [==============================] - 5s 3ms/step - loss: 0.4262 - acc: 0.8185 - val_loss: 0.6495 - val_acc: 0.7623 - lr: 9.4046e-08\n",
            "Epoch 90/100\n",
            "1500/1500 [==============================] - 5s 3ms/step - loss: 0.4322 - acc: 0.8174 - val_loss: 0.6495 - val_acc: 0.7623 - lr: 8.4641e-08\n",
            "Epoch 91/100\n",
            "1500/1500 [==============================] - 5s 3ms/step - loss: 0.4293 - acc: 0.8178 - val_loss: 0.6495 - val_acc: 0.7623 - lr: 7.6177e-08\n",
            "Epoch 92/100\n",
            "1500/1500 [==============================] - 5s 3ms/step - loss: 0.4252 - acc: 0.8194 - val_loss: 0.6495 - val_acc: 0.7623 - lr: 6.8560e-08\n",
            "Epoch 93/100\n",
            "1500/1500 [==============================] - 5s 3ms/step - loss: 0.4268 - acc: 0.8201 - val_loss: 0.6495 - val_acc: 0.7624 - lr: 6.1704e-08\n",
            "Epoch 94/100\n",
            "1500/1500 [==============================] - 5s 3ms/step - loss: 0.4251 - acc: 0.8221 - val_loss: 0.6495 - val_acc: 0.7624 - lr: 5.5533e-08\n",
            "Epoch 95/100\n",
            "1500/1500 [==============================] - 5s 3ms/step - loss: 0.4292 - acc: 0.8183 - val_loss: 0.6495 - val_acc: 0.7623 - lr: 4.9980e-08\n",
            "Epoch 96/100\n",
            "1500/1500 [==============================] - 5s 3ms/step - loss: 0.4270 - acc: 0.8194 - val_loss: 0.6495 - val_acc: 0.7623 - lr: 4.4982e-08\n",
            "Epoch 97/100\n",
            "1500/1500 [==============================] - 5s 3ms/step - loss: 0.4291 - acc: 0.8182 - val_loss: 0.6495 - val_acc: 0.7623 - lr: 4.0484e-08\n",
            "Epoch 98/100\n",
            "1500/1500 [==============================] - 5s 3ms/step - loss: 0.4327 - acc: 0.8189 - val_loss: 0.6495 - val_acc: 0.7623 - lr: 3.6435e-08\n",
            "Epoch 99/100\n",
            "1500/1500 [==============================] - 5s 3ms/step - loss: 0.4269 - acc: 0.8192 - val_loss: 0.6495 - val_acc: 0.7623 - lr: 3.2792e-08\n",
            "Epoch 100/100\n",
            "1500/1500 [==============================] - 5s 3ms/step - loss: 0.4276 - acc: 0.8202 - val_loss: 0.6495 - val_acc: 0.7623 - lr: 2.9513e-08\n"
          ],
          "name": "stdout"
        }
      ]
    },
    {
      "cell_type": "markdown",
      "metadata": {
        "id": "4CUyMzpS_NwL",
        "colab_type": "text"
      },
      "source": [
        "## Plots"
      ]
    },
    {
      "cell_type": "code",
      "metadata": {
        "id": "3EoHvI-L_FNF",
        "colab_type": "code",
        "colab": {
          "base_uri": "https://localhost:8080/",
          "height": 714
        },
        "outputId": "41820f15-c35b-4731-c789-184de208c6cb"
      },
      "source": [
        "accuracy = vgg_train.history['acc']\n",
        "val_accuracy = vgg_train.history['val_acc']\n",
        "\n",
        "loss = vgg_train.history['loss']\n",
        "val_loss = vgg_train.history['val_loss']\n",
        "\n",
        "epochs = range(len(accuracy))\n",
        "\n",
        "#########\n",
        "plt.figure(figsize=(12, 5))\n",
        "plt.plot(epochs, loss, 'b-', label='Training loss')\n",
        "plt.plot(epochs, val_loss, 'r-', label='Validation loss')\n",
        "plt.title('Training and Validation Loss VS Epochs', fontsize=15)\n",
        "plt.xlabel('Epochs', fontsize=15)\n",
        "plt.ylabel('Loss', fontsize=15)\n",
        "plt.legend()\n",
        "\n",
        "\n",
        "#########\n",
        "plt.figure(figsize=(12, 5))\n",
        "plt.plot(epochs, accuracy, 'b-', label='Training accuracy')\n",
        "plt.plot(epochs, val_accuracy, 'r-', label='Validation accuracy')\n",
        "plt.title('Training and Validation Accuracy VS Epochs', fontsize=15)\n",
        "plt.xlabel('Epochs', fontsize=15)\n",
        "plt.ylabel('Accuracy', fontsize=15)\n",
        "plt.legend()\n",
        "\n"
      ],
      "execution_count": null,
      "outputs": [
        {
          "output_type": "execute_result",
          "data": {
            "text/plain": [
              "<matplotlib.legend.Legend at 0x7fa9a4168198>"
            ]
          },
          "metadata": {
            "tags": []
          },
          "execution_count": 39
        },
        {
          "output_type": "display_data",
          "data": {
            "image/png": "[encoded data removed]",
            "text/plain": [
              "<Figure size 864x360 with 1 Axes>"
            ]
          },
          "metadata": {
            "tags": [],
            "needs_background": "light"
          }
        },
        {
          "output_type": "display_data",
          "data": {
            "image/png": "[encoded data removed]",
            "text/plain": [
              "<Figure size 864x360 with 1 Axes>"
            ]
          },
          "metadata": {
            "tags": [],
            "needs_background": "light"
          }
        }
      ]
    },
    {
      "cell_type": "markdown",
      "metadata": {
        "id": "A_0dxRNUkAz-",
        "colab_type": "text"
      },
      "source": [
        "# Evaluation of a CNN with other metrics"
      ]
    },
    {
      "cell_type": "markdown",
      "metadata": {
        "id": "XY8LJpgdl6hY",
        "colab_type": "text"
      },
      "source": [
        "## Metric: Categorical Accuracy"
      ]
    },
    {
      "cell_type": "code",
      "metadata": {
        "colab_type": "code",
        "id": "by8OSjtmkGaV",
        "colab": {
          "base_uri": "https://localhost:8080/",
          "height": 1000
        },
        "outputId": "0dc4f793-cc71-41cd-cf74-e82719aaf4db"
      },
      "source": [
        "# Optimizer\n",
        "optimizer = Adam(lr=0.001, beta_1=0.9, beta_2=0.999 )\n",
        "\n",
        "# Compile\n",
        "cnn_model.compile(optimizer=optimizer, loss=\"categorical_crossentropy\", metrics=[\"categorical_accuracy\"])\n",
        "\n",
        "cnn_model.summary()"
      ],
      "execution_count": null,
      "outputs": [
        {
          "output_type": "stream",
          "text": [
            "Model: \"sequential_1\"\n",
            "_________________________________________________________________\n",
            "Layer (type)                 Output Shape              Param #   \n",
            "=================================================================\n",
            "conv2d_6 (Conv2D)            (None, 28, 28, 32)        320       \n",
            "_________________________________________________________________\n",
            "batch_normalization_8 (Batch (None, 28, 28, 32)        128       \n",
            "_________________________________________________________________\n",
            "conv2d_7 (Conv2D)            (None, 28, 28, 32)        9248      \n",
            "_________________________________________________________________\n",
            "batch_normalization_9 (Batch (None, 28, 28, 32)        128       \n",
            "_________________________________________________________________\n",
            "max_pooling2d_3 (MaxPooling2 (None, 14, 14, 32)        0         \n",
            "_________________________________________________________________\n",
            "dropout_5 (Dropout)          (None, 14, 14, 32)        0         \n",
            "_________________________________________________________________\n",
            "conv2d_8 (Conv2D)            (None, 14, 14, 64)        18496     \n",
            "_________________________________________________________________\n",
            "batch_normalization_10 (Batc (None, 14, 14, 64)        256       \n",
            "_________________________________________________________________\n",
            "conv2d_9 (Conv2D)            (None, 14, 14, 64)        36928     \n",
            "_________________________________________________________________\n",
            "batch_normalization_11 (Batc (None, 14, 14, 64)        256       \n",
            "_________________________________________________________________\n",
            "max_pooling2d_4 (MaxPooling2 (None, 7, 7, 64)          0         \n",
            "_________________________________________________________________\n",
            "dropout_6 (Dropout)          (None, 7, 7, 64)          0         \n",
            "_________________________________________________________________\n",
            "conv2d_10 (Conv2D)           (None, 7, 7, 128)         73856     \n",
            "_________________________________________________________________\n",
            "batch_normalization_12 (Batc (None, 7, 7, 128)         512       \n",
            "_________________________________________________________________\n",
            "conv2d_11 (Conv2D)           (None, 7, 7, 128)         147584    \n",
            "_________________________________________________________________\n",
            "batch_normalization_13 (Batc (None, 7, 7, 128)         512       \n",
            "_________________________________________________________________\n",
            "max_pooling2d_5 (MaxPooling2 (None, 3, 3, 128)         0         \n",
            "_________________________________________________________________\n",
            "dropout_7 (Dropout)          (None, 3, 3, 128)         0         \n",
            "_________________________________________________________________\n",
            "flatten_1 (Flatten)          (None, 1152)              0         \n",
            "_________________________________________________________________\n",
            "dense_3 (Dense)              (None, 512)               590336    \n",
            "_________________________________________________________________\n",
            "batch_normalization_14 (Batc (None, 512)               2048      \n",
            "_________________________________________________________________\n",
            "dropout_8 (Dropout)          (None, 512)               0         \n",
            "_________________________________________________________________\n",
            "dense_4 (Dense)              (None, 128)               65664     \n",
            "_________________________________________________________________\n",
            "batch_normalization_15 (Batc (None, 128)               512       \n",
            "_________________________________________________________________\n",
            "dropout_9 (Dropout)          (None, 128)               0         \n",
            "_________________________________________________________________\n",
            "dense_5 (Dense)              (None, 5)                 645       \n",
            "=================================================================\n",
            "Total params: 947,429\n",
            "Trainable params: 945,253\n",
            "Non-trainable params: 2,176\n",
            "_________________________________________________________________\n"
          ],
          "name": "stdout"
        }
      ]
    },
    {
      "cell_type": "code",
      "metadata": {
        "id": "lTZbamxGk_s-",
        "colab_type": "code",
        "colab": {
          "base_uri": "https://localhost:8080/",
          "height": 1000
        },
        "outputId": "285fb5ff-103e-4967-ce60-aac396760d00"
      },
      "source": [
        "batches = 128\n",
        "epoch = 50\n",
        "lr = LearningRateScheduler(lambda x: 1e-3 * 0.9 ** x)\n",
        "\n",
        "model_fitting = cnn_model.fit(x_train, y_train, batch_size = batches, epochs = epoch, validation_data = (x_val, y_val), \n",
        "                          verbose=1, steps_per_epoch=x_train.shape[0] // batches, callbacks = [lr])"
      ],
      "execution_count": null,
      "outputs": [
        {
          "output_type": "stream",
          "text": [
            "Epoch 1/50\n",
            "375/375 [==============================] - 5s 13ms/step - loss: 0.8010 - categorical_accuracy: 0.6839 - val_loss: 1.0207 - val_categorical_accuracy: 0.5315 - lr: 0.0010\n",
            "Epoch 2/50\n",
            "375/375 [==============================] - 4s 11ms/step - loss: 0.5257 - categorical_accuracy: 0.7865 - val_loss: 0.4463 - val_categorical_accuracy: 0.8148 - lr: 9.0000e-04\n",
            "Epoch 3/50\n",
            "375/375 [==============================] - 4s 11ms/step - loss: 0.4490 - categorical_accuracy: 0.8203 - val_loss: 0.3606 - val_categorical_accuracy: 0.8535 - lr: 8.1000e-04\n",
            "Epoch 4/50\n",
            "375/375 [==============================] - 4s 11ms/step - loss: 0.4247 - categorical_accuracy: 0.8292 - val_loss: 0.3104 - val_categorical_accuracy: 0.8773 - lr: 7.2900e-04\n",
            "Epoch 5/50\n",
            "375/375 [==============================] - 4s 11ms/step - loss: 0.3941 - categorical_accuracy: 0.8427 - val_loss: 0.3976 - val_categorical_accuracy: 0.8344 - lr: 6.5610e-04\n",
            "Epoch 6/50\n",
            "375/375 [==============================] - 4s 11ms/step - loss: 0.3804 - categorical_accuracy: 0.8498 - val_loss: 0.3850 - val_categorical_accuracy: 0.8407 - lr: 5.9049e-04\n",
            "Epoch 7/50\n",
            "375/375 [==============================] - 4s 11ms/step - loss: 0.3616 - categorical_accuracy: 0.8553 - val_loss: 0.2914 - val_categorical_accuracy: 0.8805 - lr: 5.3144e-04\n",
            "Epoch 8/50\n",
            "375/375 [==============================] - 4s 11ms/step - loss: 0.3480 - categorical_accuracy: 0.8636 - val_loss: 0.2902 - val_categorical_accuracy: 0.8838 - lr: 4.7830e-04\n",
            "Epoch 9/50\n",
            "375/375 [==============================] - 4s 11ms/step - loss: 0.3346 - categorical_accuracy: 0.8673 - val_loss: 0.3357 - val_categorical_accuracy: 0.8639 - lr: 4.3047e-04\n",
            "Epoch 10/50\n",
            "375/375 [==============================] - 4s 11ms/step - loss: 0.3273 - categorical_accuracy: 0.8704 - val_loss: 0.2609 - val_categorical_accuracy: 0.8971 - lr: 3.8742e-04\n",
            "Epoch 11/50\n",
            "375/375 [==============================] - 4s 11ms/step - loss: 0.3167 - categorical_accuracy: 0.8742 - val_loss: 0.2790 - val_categorical_accuracy: 0.8879 - lr: 3.4868e-04\n",
            "Epoch 12/50\n",
            "375/375 [==============================] - 4s 11ms/step - loss: 0.3091 - categorical_accuracy: 0.8777 - val_loss: 0.2788 - val_categorical_accuracy: 0.8841 - lr: 3.1381e-04\n",
            "Epoch 13/50\n",
            "375/375 [==============================] - 4s 11ms/step - loss: 0.2960 - categorical_accuracy: 0.8825 - val_loss: 0.2463 - val_categorical_accuracy: 0.8984 - lr: 2.8243e-04\n",
            "Epoch 14/50\n",
            "375/375 [==============================] - 4s 11ms/step - loss: 0.2879 - categorical_accuracy: 0.8855 - val_loss: 0.2562 - val_categorical_accuracy: 0.8967 - lr: 2.5419e-04\n",
            "Epoch 15/50\n",
            "375/375 [==============================] - 4s 11ms/step - loss: 0.2803 - categorical_accuracy: 0.8886 - val_loss: 0.2424 - val_categorical_accuracy: 0.9049 - lr: 2.2877e-04\n",
            "Epoch 16/50\n",
            "375/375 [==============================] - 4s 11ms/step - loss: 0.2709 - categorical_accuracy: 0.8926 - val_loss: 0.2502 - val_categorical_accuracy: 0.9004 - lr: 2.0589e-04\n",
            "Epoch 17/50\n",
            "375/375 [==============================] - 4s 11ms/step - loss: 0.2671 - categorical_accuracy: 0.8957 - val_loss: 0.2438 - val_categorical_accuracy: 0.9021 - lr: 1.8530e-04\n",
            "Epoch 18/50\n",
            "375/375 [==============================] - 4s 11ms/step - loss: 0.2609 - categorical_accuracy: 0.8990 - val_loss: 0.2445 - val_categorical_accuracy: 0.9023 - lr: 1.6677e-04\n",
            "Epoch 19/50\n",
            "375/375 [==============================] - 4s 11ms/step - loss: 0.2478 - categorical_accuracy: 0.9028 - val_loss: 0.2422 - val_categorical_accuracy: 0.9008 - lr: 1.5009e-04\n",
            "Epoch 20/50\n",
            "375/375 [==============================] - 4s 12ms/step - loss: 0.2479 - categorical_accuracy: 0.9031 - val_loss: 0.2755 - val_categorical_accuracy: 0.8897 - lr: 1.3509e-04\n",
            "Epoch 21/50\n",
            "375/375 [==============================] - 4s 11ms/step - loss: 0.2391 - categorical_accuracy: 0.9062 - val_loss: 0.2326 - val_categorical_accuracy: 0.9048 - lr: 1.2158e-04\n",
            "Epoch 22/50\n",
            "375/375 [==============================] - 4s 11ms/step - loss: 0.2371 - categorical_accuracy: 0.9054 - val_loss: 0.2340 - val_categorical_accuracy: 0.9082 - lr: 1.0942e-04\n",
            "Epoch 23/50\n",
            "375/375 [==============================] - 4s 11ms/step - loss: 0.2316 - categorical_accuracy: 0.9092 - val_loss: 0.2314 - val_categorical_accuracy: 0.9065 - lr: 9.8477e-05\n",
            "Epoch 24/50\n",
            "375/375 [==============================] - 4s 11ms/step - loss: 0.2322 - categorical_accuracy: 0.9087 - val_loss: 0.2289 - val_categorical_accuracy: 0.9091 - lr: 8.8629e-05\n",
            "Epoch 25/50\n",
            "375/375 [==============================] - 4s 11ms/step - loss: 0.2210 - categorical_accuracy: 0.9136 - val_loss: 0.2620 - val_categorical_accuracy: 0.8967 - lr: 7.9766e-05\n",
            "Epoch 26/50\n",
            "375/375 [==============================] - 4s 11ms/step - loss: 0.2208 - categorical_accuracy: 0.9134 - val_loss: 0.3059 - val_categorical_accuracy: 0.8825 - lr: 7.1790e-05\n",
            "Epoch 27/50\n",
            "375/375 [==============================] - 4s 11ms/step - loss: 0.2177 - categorical_accuracy: 0.9160 - val_loss: 0.2207 - val_categorical_accuracy: 0.9097 - lr: 6.4611e-05\n",
            "Epoch 28/50\n",
            "375/375 [==============================] - 4s 11ms/step - loss: 0.2182 - categorical_accuracy: 0.9156 - val_loss: 0.2297 - val_categorical_accuracy: 0.9082 - lr: 5.8150e-05\n",
            "Epoch 29/50\n",
            "375/375 [==============================] - 4s 11ms/step - loss: 0.2097 - categorical_accuracy: 0.9192 - val_loss: 0.2355 - val_categorical_accuracy: 0.9063 - lr: 5.2335e-05\n",
            "Epoch 30/50\n",
            "375/375 [==============================] - 4s 11ms/step - loss: 0.2120 - categorical_accuracy: 0.9174 - val_loss: 0.2288 - val_categorical_accuracy: 0.9107 - lr: 4.7101e-05\n",
            "Epoch 31/50\n",
            "375/375 [==============================] - 4s 11ms/step - loss: 0.2100 - categorical_accuracy: 0.9190 - val_loss: 0.2221 - val_categorical_accuracy: 0.9113 - lr: 4.2391e-05\n",
            "Epoch 32/50\n",
            "375/375 [==============================] - 4s 11ms/step - loss: 0.2054 - categorical_accuracy: 0.9199 - val_loss: 0.2377 - val_categorical_accuracy: 0.9066 - lr: 3.8152e-05\n",
            "Epoch 33/50\n",
            "375/375 [==============================] - 4s 11ms/step - loss: 0.2078 - categorical_accuracy: 0.9196 - val_loss: 0.2258 - val_categorical_accuracy: 0.9103 - lr: 3.4337e-05\n",
            "Epoch 34/50\n",
            "375/375 [==============================] - 4s 11ms/step - loss: 0.2040 - categorical_accuracy: 0.9203 - val_loss: 0.2249 - val_categorical_accuracy: 0.9113 - lr: 3.0903e-05\n",
            "Epoch 35/50\n",
            "375/375 [==============================] - 4s 11ms/step - loss: 0.1985 - categorical_accuracy: 0.9225 - val_loss: 0.2263 - val_categorical_accuracy: 0.9116 - lr: 2.7813e-05\n",
            "Epoch 36/50\n",
            "375/375 [==============================] - 4s 11ms/step - loss: 0.1966 - categorical_accuracy: 0.9235 - val_loss: 0.2331 - val_categorical_accuracy: 0.9092 - lr: 2.5032e-05\n",
            "Epoch 37/50\n",
            "375/375 [==============================] - 4s 11ms/step - loss: 0.1956 - categorical_accuracy: 0.9242 - val_loss: 0.2368 - val_categorical_accuracy: 0.9081 - lr: 2.2528e-05\n",
            "Epoch 38/50\n",
            "375/375 [==============================] - 4s 11ms/step - loss: 0.1973 - categorical_accuracy: 0.9233 - val_loss: 0.2344 - val_categorical_accuracy: 0.9090 - lr: 2.0276e-05\n",
            "Epoch 39/50\n",
            "375/375 [==============================] - 4s 11ms/step - loss: 0.1972 - categorical_accuracy: 0.9232 - val_loss: 0.2289 - val_categorical_accuracy: 0.9111 - lr: 1.8248e-05\n",
            "Epoch 40/50\n",
            "375/375 [==============================] - 4s 11ms/step - loss: 0.1969 - categorical_accuracy: 0.9234 - val_loss: 0.2372 - val_categorical_accuracy: 0.9087 - lr: 1.6423e-05\n",
            "Epoch 41/50\n",
            "375/375 [==============================] - 4s 11ms/step - loss: 0.1970 - categorical_accuracy: 0.9226 - val_loss: 0.2383 - val_categorical_accuracy: 0.9069 - lr: 1.4781e-05\n",
            "Epoch 42/50\n",
            "375/375 [==============================] - 4s 11ms/step - loss: 0.1944 - categorical_accuracy: 0.9242 - val_loss: 0.2333 - val_categorical_accuracy: 0.9093 - lr: 1.3303e-05\n",
            "Epoch 43/50\n",
            "375/375 [==============================] - 4s 11ms/step - loss: 0.1963 - categorical_accuracy: 0.9241 - val_loss: 0.2307 - val_categorical_accuracy: 0.9100 - lr: 1.1973e-05\n",
            "Epoch 44/50\n",
            "375/375 [==============================] - 4s 11ms/step - loss: 0.1944 - categorical_accuracy: 0.9245 - val_loss: 0.2290 - val_categorical_accuracy: 0.9112 - lr: 1.0775e-05\n",
            "Epoch 45/50\n",
            "375/375 [==============================] - 4s 11ms/step - loss: 0.1944 - categorical_accuracy: 0.9256 - val_loss: 0.2344 - val_categorical_accuracy: 0.9094 - lr: 9.6977e-06\n",
            "Epoch 46/50\n",
            "375/375 [==============================] - 4s 11ms/step - loss: 0.1921 - categorical_accuracy: 0.9258 - val_loss: 0.2277 - val_categorical_accuracy: 0.9112 - lr: 8.7280e-06\n",
            "Epoch 47/50\n",
            "375/375 [==============================] - 4s 11ms/step - loss: 0.1911 - categorical_accuracy: 0.9255 - val_loss: 0.2331 - val_categorical_accuracy: 0.9099 - lr: 7.8552e-06\n",
            "Epoch 48/50\n",
            "375/375 [==============================] - 4s 11ms/step - loss: 0.1937 - categorical_accuracy: 0.9259 - val_loss: 0.2276 - val_categorical_accuracy: 0.9112 - lr: 7.0697e-06\n",
            "Epoch 49/50\n",
            "375/375 [==============================] - 4s 11ms/step - loss: 0.1990 - categorical_accuracy: 0.9217 - val_loss: 0.2286 - val_categorical_accuracy: 0.9115 - lr: 6.3627e-06\n",
            "Epoch 50/50\n",
            "375/375 [==============================] - 4s 11ms/step - loss: 0.1937 - categorical_accuracy: 0.9244 - val_loss: 0.2322 - val_categorical_accuracy: 0.9097 - lr: 5.7264e-06\n"
          ],
          "name": "stdout"
        }
      ]
    },
    {
      "cell_type": "code",
      "metadata": {
        "id": "8d5mfejwm1oS",
        "colab_type": "code",
        "colab": {
          "base_uri": "https://localhost:8080/",
          "height": 714
        },
        "outputId": "9e6c9b45-51e6-4d9a-cf84-abffb6ecabfb"
      },
      "source": [
        "# Plots\n",
        "cat_accuracy = model_fitting.history['categorical_accuracy']\n",
        "val_cat_accuracy = model_fitting.history['val_categorical_accuracy']\n",
        "\n",
        "loss = model_fitting.history['loss']\n",
        "val_loss = model_fitting.history['val_loss']\n",
        "\n",
        "epochs = range(len(cat_accuracy))\n",
        "\n",
        "#########\n",
        "plt.figure(figsize=(12, 5))\n",
        "plt.plot(epochs, loss, 'b-', label='Training loss')\n",
        "plt.plot(epochs, val_loss, 'r-', label='Validation loss')\n",
        "plt.title('Training and Validation Categorical Crossentropy Loss VS Epochs', fontsize=15)\n",
        "plt.xlabel('Epochs', fontsize=15)\n",
        "plt.ylabel('Loss', fontsize=15)\n",
        "plt.legend()\n",
        "\n",
        "#########\n",
        "plt.figure(figsize=(12, 5))\n",
        "plt.plot(epochs, cat_accuracy, 'b-', label='Training accuracy')\n",
        "plt.plot(epochs, val_cat_accuracy, 'r-', label='Validation accuracy')\n",
        "plt.title('Training and Validation Categorical Accuracy VS Epochs', fontsize=15)\n",
        "plt.xlabel('Epochs', fontsize=15)\n",
        "plt.ylabel('Categorical Accuracy', fontsize=15)\n",
        "plt.legend()\n",
        "\n"
      ],
      "execution_count": null,
      "outputs": [
        {
          "output_type": "execute_result",
          "data": {
            "text/plain": [
              "<matplotlib.legend.Legend at 0x7f6036097b70>"
            ]
          },
          "metadata": {
            "tags": []
          },
          "execution_count": 21
        },
        {
          "output_type": "display_data",
          "data": {
            "image/png": "[encoded data removed]",
            "text/plain": [
              "<Figure size 864x360 with 1 Axes>"
            ]
          },
          "metadata": {
            "tags": [],
            "needs_background": "light"
          }
        },
        {
          "output_type": "display_data",
          "data": {
            "image/png": "[encoded data removed]",
            "text/plain": [
              "<Figure size 864x360 with 1 Axes>"
            ]
          },
          "metadata": {
            "tags": [],
            "needs_background": "light"
          }
        }
      ]
    },
    {
      "cell_type": "markdown",
      "metadata": {
        "id": "Sf8KPTwYl_kw",
        "colab_type": "text"
      },
      "source": [
        "## Metric: Cosine Proximity"
      ]
    },
    {
      "cell_type": "code",
      "metadata": {
        "id": "bPHgLVUlmDGB",
        "colab_type": "code",
        "colab": {
          "base_uri": "https://localhost:8080/",
          "height": 1000
        },
        "outputId": "731d815d-86a4-4f24-bfdd-71fd04805967"
      },
      "source": [
        "# Optimizer\n",
        "optimizer = Adam(lr=0.001, beta_1=0.9, beta_2=0.999 )\n",
        "\n",
        "# Compile\n",
        "cnn_model.compile(optimizer=optimizer, loss=\"cosine_similarity\", metrics=[\"cosine_proximity\"])\n",
        "\n",
        "cnn_model.summary()"
      ],
      "execution_count": null,
      "outputs": [
        {
          "output_type": "stream",
          "text": [
            "Model: \"sequential_2\"\n",
            "_________________________________________________________________\n",
            "Layer (type)                 Output Shape              Param #   \n",
            "=================================================================\n",
            "conv2d_12 (Conv2D)           (None, 28, 28, 32)        320       \n",
            "_________________________________________________________________\n",
            "batch_normalization_16 (Batc (None, 28, 28, 32)        128       \n",
            "_________________________________________________________________\n",
            "conv2d_13 (Conv2D)           (None, 28, 28, 32)        9248      \n",
            "_________________________________________________________________\n",
            "batch_normalization_17 (Batc (None, 28, 28, 32)        128       \n",
            "_________________________________________________________________\n",
            "max_pooling2d_6 (MaxPooling2 (None, 14, 14, 32)        0         \n",
            "_________________________________________________________________\n",
            "dropout_10 (Dropout)         (None, 14, 14, 32)        0         \n",
            "_________________________________________________________________\n",
            "conv2d_14 (Conv2D)           (None, 14, 14, 64)        18496     \n",
            "_________________________________________________________________\n",
            "batch_normalization_18 (Batc (None, 14, 14, 64)        256       \n",
            "_________________________________________________________________\n",
            "conv2d_15 (Conv2D)           (None, 14, 14, 64)        36928     \n",
            "_________________________________________________________________\n",
            "batch_normalization_19 (Batc (None, 14, 14, 64)        256       \n",
            "_________________________________________________________________\n",
            "max_pooling2d_7 (MaxPooling2 (None, 7, 7, 64)          0         \n",
            "_________________________________________________________________\n",
            "dropout_11 (Dropout)         (None, 7, 7, 64)          0         \n",
            "_________________________________________________________________\n",
            "conv2d_16 (Conv2D)           (None, 7, 7, 128)         73856     \n",
            "_________________________________________________________________\n",
            "batch_normalization_20 (Batc (None, 7, 7, 128)         512       \n",
            "_________________________________________________________________\n",
            "conv2d_17 (Conv2D)           (None, 7, 7, 128)         147584    \n",
            "_________________________________________________________________\n",
            "batch_normalization_21 (Batc (None, 7, 7, 128)         512       \n",
            "_________________________________________________________________\n",
            "max_pooling2d_8 (MaxPooling2 (None, 3, 3, 128)         0         \n",
            "_________________________________________________________________\n",
            "dropout_12 (Dropout)         (None, 3, 3, 128)         0         \n",
            "_________________________________________________________________\n",
            "flatten_2 (Flatten)          (None, 1152)              0         \n",
            "_________________________________________________________________\n",
            "dense_6 (Dense)              (None, 512)               590336    \n",
            "_________________________________________________________________\n",
            "batch_normalization_22 (Batc (None, 512)               2048      \n",
            "_________________________________________________________________\n",
            "dropout_13 (Dropout)         (None, 512)               0         \n",
            "_________________________________________________________________\n",
            "dense_7 (Dense)              (None, 128)               65664     \n",
            "_________________________________________________________________\n",
            "batch_normalization_23 (Batc (None, 128)               512       \n",
            "_________________________________________________________________\n",
            "dropout_14 (Dropout)         (None, 128)               0         \n",
            "_________________________________________________________________\n",
            "dense_8 (Dense)              (None, 5)                 645       \n",
            "=================================================================\n",
            "Total params: 947,429\n",
            "Trainable params: 945,253\n",
            "Non-trainable params: 2,176\n",
            "_________________________________________________________________\n"
          ],
          "name": "stdout"
        }
      ]
    },
    {
      "cell_type": "code",
      "metadata": {
        "id": "U1MNbmNUmQ3Y",
        "colab_type": "code",
        "colab": {
          "base_uri": "https://localhost:8080/",
          "height": 1000
        },
        "outputId": "ff8acea4-4568-4e48-c5b6-4c5be3d73094"
      },
      "source": [
        "batches = 128\n",
        "epoch = 50\n",
        "lr = LearningRateScheduler(lambda x: 1e-3 * 0.9 ** x)\n",
        "\n",
        "model_fitting = cnn_model.fit(x_train, y_train, batch_size = batches, epochs = epoch, validation_data = (x_val, y_val), \n",
        "                          verbose=1, steps_per_epoch=x_train.shape[0] // batches, callbacks = [lr])"
      ],
      "execution_count": null,
      "outputs": [
        {
          "output_type": "stream",
          "text": [
            "Epoch 1/50\n",
            "375/375 [==============================] - 4s 11ms/step - loss: -0.7324 - cosine_proximity: 0.7324 - val_loss: -0.5518 - val_cosine_proximity: 0.5517 - lr: 0.0010\n",
            "Epoch 2/50\n",
            "375/375 [==============================] - 4s 11ms/step - loss: -0.8221 - cosine_proximity: 0.8221 - val_loss: -0.8470 - val_cosine_proximity: 0.8470 - lr: 9.0000e-04\n",
            "Epoch 3/50\n",
            "375/375 [==============================] - 4s 11ms/step - loss: -0.8403 - cosine_proximity: 0.8403 - val_loss: -0.8578 - val_cosine_proximity: 0.8578 - lr: 8.1000e-04\n",
            "Epoch 4/50\n",
            "375/375 [==============================] - 4s 11ms/step - loss: -0.8549 - cosine_proximity: 0.8549 - val_loss: -0.8705 - val_cosine_proximity: 0.8705 - lr: 7.2900e-04\n",
            "Epoch 5/50\n",
            "375/375 [==============================] - 4s 11ms/step - loss: -0.8628 - cosine_proximity: 0.8628 - val_loss: -0.8478 - val_cosine_proximity: 0.8479 - lr: 6.5610e-04\n",
            "Epoch 6/50\n",
            "375/375 [==============================] - 4s 11ms/step - loss: -0.8702 - cosine_proximity: 0.8702 - val_loss: -0.8877 - val_cosine_proximity: 0.8878 - lr: 5.9049e-04\n",
            "Epoch 7/50\n",
            "375/375 [==============================] - 4s 11ms/step - loss: -0.8746 - cosine_proximity: 0.8746 - val_loss: -0.8325 - val_cosine_proximity: 0.8325 - lr: 5.3144e-04\n",
            "Epoch 8/50\n",
            "375/375 [==============================] - 4s 11ms/step - loss: -0.8809 - cosine_proximity: 0.8809 - val_loss: -0.8207 - val_cosine_proximity: 0.8208 - lr: 4.7830e-04\n",
            "Epoch 9/50\n",
            "375/375 [==============================] - 4s 11ms/step - loss: -0.8844 - cosine_proximity: 0.8844 - val_loss: -0.8736 - val_cosine_proximity: 0.8737 - lr: 4.3047e-04\n",
            "Epoch 10/50\n",
            "375/375 [==============================] - 4s 11ms/step - loss: -0.8875 - cosine_proximity: 0.8875 - val_loss: -0.9062 - val_cosine_proximity: 0.9062 - lr: 3.8742e-04\n",
            "Epoch 11/50\n",
            "375/375 [==============================] - 4s 11ms/step - loss: -0.8916 - cosine_proximity: 0.8916 - val_loss: -0.9071 - val_cosine_proximity: 0.9071 - lr: 3.4868e-04\n",
            "Epoch 12/50\n",
            "375/375 [==============================] - 4s 11ms/step - loss: -0.8933 - cosine_proximity: 0.8933 - val_loss: -0.8874 - val_cosine_proximity: 0.8875 - lr: 3.1381e-04\n",
            "Epoch 13/50\n",
            "375/375 [==============================] - 4s 11ms/step - loss: -0.8958 - cosine_proximity: 0.8958 - val_loss: -0.9125 - val_cosine_proximity: 0.9124 - lr: 2.8243e-04\n",
            "Epoch 14/50\n",
            "375/375 [==============================] - 4s 11ms/step - loss: -0.8999 - cosine_proximity: 0.8999 - val_loss: -0.9153 - val_cosine_proximity: 0.9153 - lr: 2.5419e-04\n",
            "Epoch 15/50\n",
            "375/375 [==============================] - 4s 11ms/step - loss: -0.9045 - cosine_proximity: 0.9045 - val_loss: -0.9059 - val_cosine_proximity: 0.9059 - lr: 2.2877e-04\n",
            "Epoch 16/50\n",
            "375/375 [==============================] - 4s 11ms/step - loss: -0.9053 - cosine_proximity: 0.9053 - val_loss: -0.9165 - val_cosine_proximity: 0.9165 - lr: 2.0589e-04\n",
            "Epoch 17/50\n",
            "375/375 [==============================] - 4s 11ms/step - loss: -0.9074 - cosine_proximity: 0.9074 - val_loss: -0.9067 - val_cosine_proximity: 0.9068 - lr: 1.8530e-04\n",
            "Epoch 18/50\n",
            "375/375 [==============================] - 4s 11ms/step - loss: -0.9099 - cosine_proximity: 0.9099 - val_loss: -0.9158 - val_cosine_proximity: 0.9158 - lr: 1.6677e-04\n",
            "Epoch 19/50\n",
            "375/375 [==============================] - 4s 11ms/step - loss: -0.9122 - cosine_proximity: 0.9122 - val_loss: -0.9012 - val_cosine_proximity: 0.9013 - lr: 1.5009e-04\n",
            "Epoch 20/50\n",
            "375/375 [==============================] - 4s 11ms/step - loss: -0.9131 - cosine_proximity: 0.9131 - val_loss: -0.9175 - val_cosine_proximity: 0.9175 - lr: 1.3509e-04\n",
            "Epoch 21/50\n",
            "375/375 [==============================] - 4s 11ms/step - loss: -0.9155 - cosine_proximity: 0.9155 - val_loss: -0.9039 - val_cosine_proximity: 0.9039 - lr: 1.2158e-04\n",
            "Epoch 22/50\n",
            "375/375 [==============================] - 4s 11ms/step - loss: -0.9167 - cosine_proximity: 0.9167 - val_loss: -0.9196 - val_cosine_proximity: 0.9195 - lr: 1.0942e-04\n",
            "Epoch 23/50\n",
            "375/375 [==============================] - 4s 11ms/step - loss: -0.9165 - cosine_proximity: 0.9165 - val_loss: -0.9223 - val_cosine_proximity: 0.9222 - lr: 9.8477e-05\n",
            "Epoch 24/50\n",
            "375/375 [==============================] - 4s 11ms/step - loss: -0.9194 - cosine_proximity: 0.9194 - val_loss: -0.9124 - val_cosine_proximity: 0.9124 - lr: 8.8629e-05\n",
            "Epoch 25/50\n",
            "375/375 [==============================] - 4s 11ms/step - loss: -0.9216 - cosine_proximity: 0.9216 - val_loss: -0.9196 - val_cosine_proximity: 0.9196 - lr: 7.9766e-05\n",
            "Epoch 26/50\n",
            "375/375 [==============================] - 4s 11ms/step - loss: -0.9202 - cosine_proximity: 0.9202 - val_loss: -0.9248 - val_cosine_proximity: 0.9248 - lr: 7.1790e-05\n",
            "Epoch 27/50\n",
            "375/375 [==============================] - 4s 11ms/step - loss: -0.9211 - cosine_proximity: 0.9211 - val_loss: -0.9219 - val_cosine_proximity: 0.9219 - lr: 6.4611e-05\n",
            "Epoch 28/50\n",
            "375/375 [==============================] - 4s 11ms/step - loss: -0.9218 - cosine_proximity: 0.9218 - val_loss: -0.9142 - val_cosine_proximity: 0.9142 - lr: 5.8150e-05\n",
            "Epoch 29/50\n",
            "375/375 [==============================] - 4s 11ms/step - loss: -0.9239 - cosine_proximity: 0.9239 - val_loss: -0.9136 - val_cosine_proximity: 0.9136 - lr: 5.2335e-05\n",
            "Epoch 30/50\n",
            "375/375 [==============================] - 4s 11ms/step - loss: -0.9244 - cosine_proximity: 0.9244 - val_loss: -0.9210 - val_cosine_proximity: 0.9209 - lr: 4.7101e-05\n",
            "Epoch 31/50\n",
            "375/375 [==============================] - 4s 11ms/step - loss: -0.9251 - cosine_proximity: 0.9251 - val_loss: -0.9224 - val_cosine_proximity: 0.9223 - lr: 4.2391e-05\n",
            "Epoch 32/50\n",
            "375/375 [==============================] - 4s 11ms/step - loss: -0.9240 - cosine_proximity: 0.9240 - val_loss: -0.9238 - val_cosine_proximity: 0.9238 - lr: 3.8152e-05\n",
            "Epoch 33/50\n",
            "375/375 [==============================] - 4s 11ms/step - loss: -0.9260 - cosine_proximity: 0.9260 - val_loss: -0.9247 - val_cosine_proximity: 0.9247 - lr: 3.4337e-05\n",
            "Epoch 34/50\n",
            "375/375 [==============================] - 4s 11ms/step - loss: -0.9244 - cosine_proximity: 0.9244 - val_loss: -0.9261 - val_cosine_proximity: 0.9260 - lr: 3.0903e-05\n",
            "Epoch 35/50\n",
            "375/375 [==============================] - 4s 11ms/step - loss: -0.9274 - cosine_proximity: 0.9274 - val_loss: -0.9266 - val_cosine_proximity: 0.9265 - lr: 2.7813e-05\n",
            "Epoch 36/50\n",
            "375/375 [==============================] - 4s 11ms/step - loss: -0.9278 - cosine_proximity: 0.9278 - val_loss: -0.9261 - val_cosine_proximity: 0.9261 - lr: 2.5032e-05\n",
            "Epoch 37/50\n",
            "375/375 [==============================] - 4s 11ms/step - loss: -0.9266 - cosine_proximity: 0.9266 - val_loss: -0.9232 - val_cosine_proximity: 0.9232 - lr: 2.2528e-05\n",
            "Epoch 38/50\n",
            "375/375 [==============================] - 4s 11ms/step - loss: -0.9275 - cosine_proximity: 0.9275 - val_loss: -0.9249 - val_cosine_proximity: 0.9249 - lr: 2.0276e-05\n",
            "Epoch 39/50\n",
            "375/375 [==============================] - 4s 11ms/step - loss: -0.9274 - cosine_proximity: 0.9274 - val_loss: -0.9237 - val_cosine_proximity: 0.9237 - lr: 1.8248e-05\n",
            "Epoch 40/50\n",
            "375/375 [==============================] - 4s 11ms/step - loss: -0.9295 - cosine_proximity: 0.9295 - val_loss: -0.9212 - val_cosine_proximity: 0.9212 - lr: 1.6423e-05\n",
            "Epoch 41/50\n",
            "375/375 [==============================] - 4s 11ms/step - loss: -0.9272 - cosine_proximity: 0.9272 - val_loss: -0.9246 - val_cosine_proximity: 0.9245 - lr: 1.4781e-05\n",
            "Epoch 42/50\n",
            "375/375 [==============================] - 4s 11ms/step - loss: -0.9295 - cosine_proximity: 0.9295 - val_loss: -0.9215 - val_cosine_proximity: 0.9215 - lr: 1.3303e-05\n",
            "Epoch 43/50\n",
            "375/375 [==============================] - 4s 11ms/step - loss: -0.9295 - cosine_proximity: 0.9295 - val_loss: -0.9228 - val_cosine_proximity: 0.9228 - lr: 1.1973e-05\n",
            "Epoch 44/50\n",
            "375/375 [==============================] - 4s 11ms/step - loss: -0.9287 - cosine_proximity: 0.9287 - val_loss: -0.9229 - val_cosine_proximity: 0.9229 - lr: 1.0775e-05\n",
            "Epoch 45/50\n",
            "375/375 [==============================] - 4s 11ms/step - loss: -0.9294 - cosine_proximity: 0.9294 - val_loss: -0.9232 - val_cosine_proximity: 0.9232 - lr: 9.6977e-06\n",
            "Epoch 46/50\n",
            "375/375 [==============================] - 4s 11ms/step - loss: -0.9296 - cosine_proximity: 0.9296 - val_loss: -0.9253 - val_cosine_proximity: 0.9253 - lr: 8.7280e-06\n",
            "Epoch 47/50\n",
            "375/375 [==============================] - 4s 11ms/step - loss: -0.9297 - cosine_proximity: 0.9297 - val_loss: -0.9239 - val_cosine_proximity: 0.9239 - lr: 7.8552e-06\n",
            "Epoch 48/50\n",
            "375/375 [==============================] - 4s 11ms/step - loss: -0.9303 - cosine_proximity: 0.9303 - val_loss: -0.9230 - val_cosine_proximity: 0.9230 - lr: 7.0697e-06\n",
            "Epoch 49/50\n",
            "375/375 [==============================] - 4s 11ms/step - loss: -0.9292 - cosine_proximity: 0.9292 - val_loss: -0.9250 - val_cosine_proximity: 0.9250 - lr: 6.3627e-06\n",
            "Epoch 50/50\n",
            "375/375 [==============================] - 4s 11ms/step - loss: -0.9295 - cosine_proximity: 0.9295 - val_loss: -0.9249 - val_cosine_proximity: 0.9249 - lr: 5.7264e-06\n"
          ],
          "name": "stdout"
        }
      ]
    },
    {
      "cell_type": "code",
      "metadata": {
        "id": "a_n7LHx8pK6_",
        "colab_type": "code",
        "colab": {
          "base_uri": "https://localhost:8080/",
          "height": 714
        },
        "outputId": "a6147ed1-3fa1-479e-d6c8-f83138153ee8"
      },
      "source": [
        "# Plots\n",
        "# cos_prox = model_fitting.history['cosine_proximity']\n",
        "# val_cos_prox = model_fitting.history['val_cosine_proximity']\n",
        "\n",
        "# loss = model_fitting.history['loss']\n",
        "# val_loss = model_fitting.history['val_loss']\n",
        "\n",
        "# epochs = range(len(cos_prox))\n",
        "\n",
        "#########\n",
        "plt.figure(figsize=(12, 5))\n",
        "plt.plot(epochs, loss, 'b-', label='Training loss')\n",
        "plt.plot(epochs, val_loss, 'r-', label='Validation loss')\n",
        "plt.title('Training and Validation Cosine Similarity Loss VS Epochs', fontsize=15)\n",
        "plt.xlabel('Epochs', fontsize=15)\n",
        "plt.ylabel('Loss', fontsize=15)\n",
        "plt.legend()\n",
        "\n",
        "#########\n",
        "plt.figure(figsize=(12, 5))\n",
        "plt.plot(epochs, cos_prox, 'b-', label='Training accuracy')\n",
        "plt.plot(epochs, val_cos_prox, 'r-', label='Validation accuracy')\n",
        "plt.title('Training and Validation Cosine Proximity VS Epochs', fontsize=15)\n",
        "plt.xlabel('Epochs', fontsize=15)\n",
        "plt.ylabel('Cosine Proximity', fontsize=15)\n",
        "plt.legend()\n",
        "\n"
      ],
      "execution_count": null,
      "outputs": [
        {
          "output_type": "execute_result",
          "data": {
            "text/plain": [
              "<matplotlib.legend.Legend at 0x7f6034f149e8>"
            ]
          },
          "metadata": {
            "tags": []
          },
          "execution_count": 22
        },
        {
          "output_type": "display_data",
          "data": {
            "image/png": "[encoded data removed]",
            "text/plain": [
              "<Figure size 864x360 with 1 Axes>"
            ]
          },
          "metadata": {
            "tags": [],
            "needs_background": "light"
          }
        },
        {
          "output_type": "display_data",
          "data": {
            "image/png": "[encoded data removed]",
            "text/plain": [
              "<Figure size 864x360 with 1 Axes>"
            ]
          },
          "metadata": {
            "tags": [],
            "needs_background": "light"
          }
        }
      ]
    }
  ]
}